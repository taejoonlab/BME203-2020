{
 "cells": [
  {
   "cell_type": "markdown",
   "metadata": {},
   "source": [
    "# Homework 01. Taejoon Kwon (Student ID - 12345)\n"
   ]
  },
  {
   "cell_type": "code",
   "execution_count": 1,
   "metadata": {},
   "outputs": [
    {
     "name": "stdout",
     "output_type": "stream",
     "text": [
      "GGCCAATT\n"
     ]
    }
   ],
   "source": [
    "# The function to get the reverse complementary sequences\n",
    "rc = {'A': 'T', 'T': 'A', 'G': 'C', 'C': 'G'}\n",
    "def revcomp(tmp_seq):\n",
    "    # from the end of input sequence to the beginning, \n",
    "    # replace each nucleotide to its complementary one.\n",
    "    #\n",
    "    # The single line code at the end of this function is equivalent to the following 4 lines.\n",
    "    # rv = []\n",
    "    # for tmp_n in tmp_seq[::-1]:\n",
    "    #     rv.append(rc[tmp_n])\n",
    "    # return ''.join(rv)\n",
    "    \n",
    "    return ''.join([rc[x] for x in tmp_seq[::-1]])\n",
    "\n",
    "print(revcomp('AATTGGCC'))"
   ]
  },
  {
   "cell_type": "code",
   "execution_count": 3,
   "metadata": {},
   "outputs": [],
   "source": [
    "# The function to read sequences from a FASTA file\n",
    "def read_fasta(tmp_filename):\n",
    "    rv = dict()\n",
    "    f = open(tmp_filename, 'r')\n",
    "    for line in f:\n",
    "        if line.startswith('>'):\n",
    "            tmp_h = line.strip().lstrip('>')\n",
    "            rv[tmp_h] = ''\n",
    "        else:\n",
    "            rv[tmp_h] += line.strip().replace(' ', '')\n",
    "    f.close()\n",
    "    return rv"
   ]
  },
  {
   "cell_type": "code",
   "execution_count": 4,
   "metadata": {},
   "outputs": [
    {
     "name": "stdout",
     "output_type": "stream",
     "text": [
      "2019-nCoV_N1-F GACCCCAAAATCAGCGAAAT\n",
      "2019-nCoV_N1-R TCTGGTTACTGCCAGTTGAATCTG\n",
      "2019-nCoV_N1-P ACCCCGCATTACGTTTGGTGGACC\n",
      "2019-nCoV_N2-F TTACAAACATTGGCCGCAAA\n",
      "2019-nCoV_N2-R GCGCGACATTCCGAAGAA\n",
      "2019-nCoV_N2-P ACAATTTGCCCCCAGCGCTTCAG\n",
      "2019-nCoV_N3-F GGGAGCCTTGAATACACCAAAA\n",
      "2019-nCoV_N3-R TGTAGCACGATTGCAGCATTG\n",
      "2019-nCoV_N3-P AYCACATTGGCACCCGCAATCCTG\n",
      "RP-F AGATTTGGACCTGCGAGCG\n",
      "RP-R GAGCGGCTGTCTCCACAAGT\n",
      "RP-P TTCTGACCTGAAGGCTCTGCGCG\n"
     ]
    }
   ],
   "source": [
    "# Read primers\n",
    "\n",
    "filename_primers = '../data/2019nCoV_primers.fa'\n",
    "primer_list = read_fasta(filename_primers)\n",
    "for p_h, p_seq in primer_list.items():\n",
    "    print(p_h, p_seq)"
   ]
  },
  {
   "cell_type": "code",
   "execution_count": 5,
   "metadata": {},
   "outputs": [
    {
     "name": "stdout",
     "output_type": "stream",
     "text": [
      "ENA|MN988668|MN988668.1 TTAAAGGTTTATACCTTCCCAGGTA\n",
      "ENA|MN988669|MN988669.1 TTAAAGGTTTATACCTTCCCAGGTA\n",
      "ENA|MN938384|MN938384.1 CAACCAACTTTCGATCTCTTGTAGA\n",
      "ENA|MN975262|MN975262.1 ATTAAAGGTTTATACCTTCCCAGGT\n",
      "ENA|MN996527|MN996527.1 AACCAACTTTCGATCTCTTGTAGAT\n",
      "ENA|MN996528|MN996528.1 ATTAAAGGTTTATACCTTCCCAGGT\n",
      "ENA|MN996529|MN996529.1 TACCTTCCCAGGTAACAAACCAACC\n",
      "ENA|MN996530|MN996530.1 CCTTCCCAGGTAACAAACCAACCAA\n",
      "ENA|MN996531|MN996531.1 ACCTTCCCAGGTAACAAACCAACCA\n",
      "ENA|MN908947|MN908947.3 ATTAAAGGTTTATACCTTCCCAGGT\n",
      "ENA|MN985325|MN985325.1 ATTAAAGGTTTATACCTTCCCAGGT\n",
      "ENA|MN988713|MN988713.1 ATTAAAGGTTTATACCTTCCCAGGT\n",
      "ENA|MN994467|MN994467.1 ATTAAAGGTTTATACCTTCCCAGGT\n",
      "ENA|MN994468|MN994468.1 ATTAAAGGTTTATACCTTCCCAGGT\n",
      "ENA|MN997409|MN997409.1 ATTAAAGGTTTATACCTTCCCAGGT\n"
     ]
    }
   ],
   "source": [
    "# Read genomes\n",
    "filename_genomes = '../data/2019nCoV_genomes.2020_02_03.fa'\n",
    "genome_list = read_fasta(filename_genomes)\n",
    "for g_h, g_seq in genome_list.items():\n",
    "    print(g_h.split()[0], g_seq[:25])"
   ]
  },
  {
   "cell_type": "code",
   "execution_count": 6,
   "metadata": {},
   "outputs": [
    {
     "name": "stdout",
     "output_type": "stream",
     "text": [
      "6\n",
      "6\n",
      "-1\n"
     ]
    },
    {
     "ename": "ValueError",
     "evalue": "substring not found",
     "output_type": "error",
     "traceback": [
      "\u001b[0;31m---------------------------------------------------------------------------\u001b[0m",
      "\u001b[0;31mValueError\u001b[0m                                Traceback (most recent call last)",
      "\u001b[0;32m<ipython-input-6-4fa09ad97214>\u001b[0m in \u001b[0;36m<module>\u001b[0;34m\u001b[0m\n\u001b[1;32m      6\u001b[0m \u001b[0mseq3\u001b[0m \u001b[0;34m=\u001b[0m \u001b[0;34m'CCTTA'\u001b[0m\u001b[0;34m\u001b[0m\u001b[0;34m\u001b[0m\u001b[0m\n\u001b[1;32m      7\u001b[0m \u001b[0mprint\u001b[0m\u001b[0;34m(\u001b[0m\u001b[0mseq1\u001b[0m\u001b[0;34m.\u001b[0m\u001b[0mfind\u001b[0m\u001b[0;34m(\u001b[0m\u001b[0mseq3\u001b[0m\u001b[0;34m)\u001b[0m\u001b[0;34m)\u001b[0m\u001b[0;34m\u001b[0m\u001b[0;34m\u001b[0m\u001b[0m\n\u001b[0;32m----> 8\u001b[0;31m \u001b[0mprint\u001b[0m\u001b[0;34m(\u001b[0m\u001b[0mseq1\u001b[0m\u001b[0;34m.\u001b[0m\u001b[0mindex\u001b[0m\u001b[0;34m(\u001b[0m\u001b[0mseq3\u001b[0m\u001b[0;34m)\u001b[0m\u001b[0;34m)\u001b[0m\u001b[0;34m\u001b[0m\u001b[0;34m\u001b[0m\u001b[0m\n\u001b[0m",
      "\u001b[0;31mValueError\u001b[0m: substring not found"
     ]
    }
   ],
   "source": [
    "# Example of sequence matching\n",
    "seq1 = 'AATTGGCCAATTGGCCAATTGGCCAATTGGCC'\n",
    "seq2 = 'CCAAT'\n",
    "print(seq1.find(seq2))\n",
    "print(seq1.index(seq2))\n",
    "seq3 = 'CCTTA'\n",
    "print(seq1.find(seq3))\n",
    "print(seq1.index(seq3))"
   ]
  },
  {
   "cell_type": "code",
   "execution_count": null,
   "metadata": {},
   "outputs": [],
   "source": []
  }
 ],
 "metadata": {
  "kernelspec": {
   "display_name": "Python 3",
   "language": "python",
   "name": "python3"
  },
  "language_info": {
   "codemirror_mode": {
    "name": "ipython",
    "version": 3
   },
   "file_extension": ".py",
   "mimetype": "text/x-python",
   "name": "python",
   "nbconvert_exporter": "python",
   "pygments_lexer": "ipython3",
   "version": "3.7.6"
  }
 },
 "nbformat": 4,
 "nbformat_minor": 4
}
