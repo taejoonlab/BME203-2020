{
 "cells": [
  {
   "cell_type": "code",
   "execution_count": 2,
   "metadata": {},
   "outputs": [
    {
     "name": "stdout",
     "output_type": "stream",
     "text": [
      ">ENA|MN988668|MN988668.1 Wuhan seafood market pneumonia virus isolate 2019-nCoV WHU01, complete genome.\n",
      "\n",
      ">ENA|MN988669|MN988669.1 Wuhan seafood market pneumonia virus isolate 2019-nCoV WHU02, complete genome.\n",
      "\n",
      ">ENA|MN938384|MN938384.1 Wuhan seafood market pneumonia virus isolate 2019-nCoV_HKU-SZ-002a_2020, complete genome.\n",
      "\n",
      ">ENA|MN975262|MN975262.1 Wuhan seafood market pneumonia virus isolate 2019-nCoV_HKU-SZ-005b_2020, complete genome.\n",
      "\n",
      ">ENA|MN996527|MN996527.1 Wuhan seafood market pneumonia virus isolate WIV02, complete genome.\n",
      "\n",
      ">ENA|MN996528|MN996528.1 Wuhan seafood market pneumonia virus isolate WIV04, complete genome.\n",
      "\n",
      ">ENA|MN996529|MN996529.1 Wuhan seafood market pneumonia virus isolate WIV05, complete genome.\n",
      "\n",
      ">ENA|MN996530|MN996530.1 Wuhan seafood market pneumonia virus isolate WIV06, complete genome.\n",
      "\n",
      ">ENA|MN996531|MN996531.1 Wuhan seafood market pneumonia virus isolate WIV07, complete genome.\n",
      "\n",
      ">ENA|MN908947|MN908947.3 Wuhan seafood market pneumonia virus isolate Wuhan-Hu-1, complete genome.\n",
      "\n",
      ">ENA|MN985325|MN985325.1 Wuhan seafood market pneumonia virus isolate 2019-nCoV/USA-WA1/2020, complete genome.\n",
      "\n",
      ">ENA|MN988713|MN988713.1 Wuhan seafood market pneumonia virus isolate 2019-nCoV/USA-IL1/2020, complete genome.\n",
      "\n",
      ">ENA|MN994467|MN994467.1 Wuhan seafood market pneumonia virus isolate 2019-nCoV/USA-CA1/2020, complete genome.\n",
      "\n",
      ">ENA|MN994468|MN994468.1 Wuhan seafood market pneumonia virus isolate 2019-nCoV/USA-CA2/2020, complete genome.\n",
      "\n",
      ">ENA|MN997409|MN997409.1 Wuhan seafood market pneumonia virus isolate 2019-nCoV/USA-AZ1/2020, complete genome.\n",
      "\n",
      "The Number of sequence is 15\n"
     ]
    }
   ],
   "source": [
    "num = 0\n",
    "\n",
    "f_fa = open('2019nCoV_genomes.2020_02_03.fa', 'r')\n",
    "for line in f_fa:\n",
    "  if line.startswith('>'):\n",
    "    num += 1\n",
    "    print(line)\n",
    "\n",
    "print(\"The Number of sequences is\", str(num))\n",
    "f_fa.close()"
   ]
  },
  {
   "cell_type": "code",
   "execution_count": null,
   "metadata": {},
   "outputs": [],
   "source": []
  },
  {
   "cell_type": "code",
   "execution_count": null,
   "metadata": {},
   "outputs": [],
   "source": []
  }
 ],
 "metadata": {
  "kernelspec": {
   "display_name": "Python 3",
   "language": "python",
   "name": "python3"
  },
  "language_info": {
   "codemirror_mode": {
    "name": "ipython",
    "version": 3
   },
   "file_extension": ".py",
   "mimetype": "text/x-python",
   "name": "python",
   "nbconvert_exporter": "python",
   "pygments_lexer": "ipython3",
   "version": "3.7.6"
  }
 },
 "nbformat": 4,
 "nbformat_minor": 4
}
