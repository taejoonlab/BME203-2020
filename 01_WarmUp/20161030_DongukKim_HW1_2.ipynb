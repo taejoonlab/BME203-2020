{
 "cells": [
  {
   "cell_type": "code",
   "execution_count": 3,
   "metadata": {},
   "outputs": [
    {
     "name": "stdout",
     "output_type": "stream",
     "text": [
      "The length of sequnce in 1 is 29881\n",
      "The length of sequnce in 2 is 29881\n",
      "The length of sequnce in 3 is 29838\n",
      "The length of sequnce in 4 is 29891\n",
      "The length of sequnce in 5 is 29825\n",
      "The length of sequnce in 6 is 29891\n",
      "The length of sequnce in 7 is 29852\n",
      "The length of sequnce in 8 is 29854\n",
      "The length of sequnce in 9 is 29857\n",
      "The length of sequnce in 10 is 29903\n",
      "The length of sequnce in 11 is 29882\n",
      "The length of sequnce in 12 is 29882\n",
      "The length of sequnce in 13 is 29882\n",
      "The length of sequnce in 14 is 29883\n",
      "The length of sequnce in 15 is 29882\n"
     ]
    }
   ],
   "source": [
    "cnt = 0\n",
    "num = 0\n",
    "\n",
    "f_fa = open('2019nCoV_genomes.2020_02_03.fa', 'r')\n",
    "for line in f_fa:\n",
    "  if line.startswith('>'):\n",
    "    if not num == 0:\n",
    "      print(\"The length of sequnce in\", num, \"is\", cnt)\n",
    "    cnt = 0\n",
    "    num += 1\n",
    "  else:\n",
    "    cnt += len(line.strip())\n",
    "        \n",
    "print(\"The length of sequnce in\", num, \"is\", cnt)\n",
    "f_fa.close()"
   ]
  },
  {
   "cell_type": "code",
   "execution_count": null,
   "metadata": {},
   "outputs": [],
   "source": []
  }
 ],
 "metadata": {
  "kernelspec": {
   "display_name": "Python 3",
   "language": "python",
   "name": "python3"
  },
  "language_info": {
   "codemirror_mode": {
    "name": "ipython",
    "version": 3
   },
   "file_extension": ".py",
   "mimetype": "text/x-python",
   "name": "python",
   "nbconvert_exporter": "python",
   "pygments_lexer": "ipython3",
   "version": "3.7.6"
  }
 },
 "nbformat": 4,
 "nbformat_minor": 4
}
