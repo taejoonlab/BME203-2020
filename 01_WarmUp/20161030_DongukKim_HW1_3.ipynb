{
 "cells": [
  {
   "cell_type": "code",
   "execution_count": 1,
   "metadata": {},
   "outputs": [
    {
     "name": "stdout",
     "output_type": "stream",
     "text": [
      "1 is identical with 2\n"
     ]
    }
   ],
   "source": [
    "lgh = {\n",
    "  1: 29881, 2: 29881,\n",
    "  3: 29838, 4: 29891,\n",
    "  5: 29825, 6: 29891,\n",
    "  7: 29852, 8: 29854,\n",
    "  9: 29857, 10: 29903,\n",
    "  11: 29882, 12: 29882,\n",
    "  13: 29882, 14: 29883,\n",
    "  15: 29882\n",
    "}\n",
    "\n",
    "gen = {\n",
    "  1: \"\", 2: \"\", 3: \"\", 4: \"\", 5: \"\", 6: \"\", 7: \"\",\n",
    "  8: \"\", 9: \"\", 10: \"\", 11: \"\", 12: \"\", 13: \"\", 14: \"\", 15: \"\"\n",
    "}\n",
    "\n",
    "iden = True\n",
    "cnt = 0\n",
    "\n",
    "f_fa = open('2019nCoV_genomes.2020_02_03.fa', 'r')\n",
    "for line in f_fa:\n",
    "  if line.startswith('>'):\n",
    "    cnt += 1\n",
    "  else:\n",
    "    gen[cnt] += line.strip()\n",
    "\n",
    "for i in range(1,16):\n",
    "  for j in range(i+1,16):\n",
    "    if lgh[i] == lgh[j]:\n",
    "      if gen[i] == gen[j]:\n",
    "        print(str(i) + \" is identical with \" + str(j))\n",
    "\n",
    "f_fa.close()"
   ]
  },
  {
   "cell_type": "code",
   "execution_count": null,
   "metadata": {},
   "outputs": [],
   "source": []
  }
 ],
 "metadata": {
  "kernelspec": {
   "display_name": "Python 3",
   "language": "python",
   "name": "python3"
  },
  "language_info": {
   "codemirror_mode": {
    "name": "ipython",
    "version": 3
   },
   "file_extension": ".py",
   "mimetype": "text/x-python",
   "name": "python",
   "nbconvert_exporter": "python",
   "pygments_lexer": "ipython3",
   "version": "3.7.6"
  }
 },
 "nbformat": 4,
 "nbformat_minor": 4
}
