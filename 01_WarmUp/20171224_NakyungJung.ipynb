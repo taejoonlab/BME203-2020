#code for question 1
seq='2019nCoV_genomes.2020_02_03.fa.txt'
sqlist=open(seq,'r')
line=sqlist.readlines()
wordlist=[]
a=0
for x in range(len(line)):
    if '>' in line[x]:
        wordlist.append(x)
        a+=1
print(a)
for y in range(a):
    b=int(wordlist[y])
    print(line[b])
    #code for question 2
seq='2019nCoV_genomes.2020_02_03.fa.txt'
sqlist=open(seq,'r')
line=sqlist.readlines()
print(len(line))
wordlist=[]
seq1=[]#MN988668 
seq2=[]#MN988669
seq3=[]#MN938384
seq4=[]#MN975262
seq5=[]#MN996527
seq6=[]#MN996528
seq7=[]#MN996529
seq8=[]#MN996530
seq9=[]#MN996531
seq10=[]#MN908947
seq11=[]#MN985325
seq12=[]#MN988713
seq13=[]#MN994467
seq14=[]#MN994468
seq15=[]#MN997409
a=0
for x in range(len(line)):
    if '>' in line[x]:
        wordlist.append(x)
        a+=1
print(wordlist)
wordlist.append(7495)
for i in range(15):
    for j in range(wordlist[i]+1,wordlist[i+1]):
        if i==0:
            seq1+=line[j]
            seq1.remove('\n')
        elif i==1:
            seq2+=line[j]
            seq2.remove('\n')
        elif i==2:
            seq3+=line[j]
            seq3.remove('\n')
        elif i==3:
            seq4+=line[j]
            seq4.remove('\n')
        elif i==4:
            seq5+=line[j]
            seq5.remove('\n')
        elif i==5:
            seq6+=line[j]
            seq6.remove('\n')
        elif i==6:
            seq7+=line[j]
            seq7.remove('\n')
        elif i==7:
            seq8+=line[j]
            seq8.remove('\n')
        elif i==8:
            seq9+=line[j]
            seq9.remove('\n')
        elif i==9:
            seq10+=line[j]
            seq10.remove('\n')
        elif i==10:
            seq11+=line[j]
            seq11.remove('\n')
        elif i==11:
            seq12+=line[j]
            seq12.remove('\n')
        elif i==12:
            seq13+=line[j]
            seq13.remove('\n')
        elif i==13:
            seq14+=line[j]
            seq14.remove('\n')
        elif i==14:
            seq15+=line[j] 
            seq15.remove('\n')
print(len(seq1),len(seq2),len(seq3),len(seq4),len(seq5),len(seq6),len(seq7),len(seq8),len(seq9),len(seq10),len(seq11),len(seq12),len(seq13),len(seq14),len(seq15))
#code for question 3
seq1=''.join(seq1)
seq2=''.join(seq2)
seq3=''.join(seq3)
seq4=''.join(seq4)
seq5=''.join(seq5)
seq6=''.join(seq6)
seq7=''.join(seq7)
seq8=''.join(seq8)
seq9=''.join(seq9)
seq10=''.join(seq10)
seq11=''.join(seq11)
seq12=''.join(seq12)
seq13=''.join(seq13)
seq14=''.join(seq14)
seq15=''.join(seq15)
if seq1==seq2:
    print('sequence 1 and sequence 2 match.')
else:
    print('sequence 1 and sequence 2 do not match.')    
if seq4==seq6:
    print('sequence 4 and sequence 6 match.')
else:
    print('sequence 4 and sequence 6 do not match.')   
if seq11==seq12:
    print('sequence 11 and sequence 12 match.')
else:
    print('sequence 11 and sequence 12 do not match.')
if seq11==seq13:
    print('sequence 11 and sequence 13 match.')
else:
    print('sequence 11 and sequence 13 do not match.')
if seq11==seq15:
    print('sequence 11 and sequence 15 match.')
else:
    print('sequence 11 and sequence 15 do not match.')
if seq12==seq13:
    print('sequence 12 and sequence 13 match.')
else:
    print('sequence 12 and sequence 13 do not match.')
if seq12==seq15:
    print('sequence 12 and sequence 15 match.')
else:
    print('sequence 12 and sequence 15 do not match.')
if seq13==seq15:
    print('sequence 13 and sequence 15 match.')
else:
    print('sequence 13 and sequence 15 do not match.')
#to confirm my code, I used for loop to find where it doesn't match, and I could confirm that using https://www.ebi.ac.uk/Tools/services/web/toolresult.ebi?jobId=clustalo-I20200322-130005-0099-53319062-p2m site.   
#if seq4!=seq6:
#    for z in range(len(seq4)):
#          if seq4[z]!=seq6[z]:
#              print(z)
