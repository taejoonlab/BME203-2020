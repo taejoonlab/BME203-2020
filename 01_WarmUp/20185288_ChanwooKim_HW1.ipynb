{
 "cells": [
  {
   "cell_type": "markdown",
   "metadata": {},
   "source": [
    "# Homework 01. Chanwoo Kim (Student ID - 20185288)"
   ]
  },
  {
   "cell_type": "code",
   "execution_count": 2,
   "metadata": {},
   "outputs": [],
   "source": [
    "# The function to read sequences from a FASTA file\n",
    "def read_fasta(tmp_filename):\n",
    "    rv = dict()\n",
    "    f = open(tmp_filename, 'r')\n",
    "    for line in f:\n",
    "        if line.startswith('>'):\n",
    "            tmp_h = line.strip().lstrip('>')\n",
    "            rv[tmp_h] = ''\n",
    "        else:\n",
    "            rv[tmp_h] += line.strip().replace(' ', '')\n",
    "    f.close()\n",
    "    return rv"
   ]
  },
  {
   "cell_type": "code",
   "execution_count": 3,
   "metadata": {},
   "outputs": [
    {
     "name": "stdout",
     "output_type": "stream",
     "text": [
      "The number of sequences in the genome are 15\n",
      "The lengths of the sequences are as follow\n",
      "ENA|MN988668|MN988668.1 TTAAAGGTTTATACCTTCCC      The length of the sequence is 29881\n",
      "ENA|MN988669|MN988669.1 TTAAAGGTTTATACCTTCCC      The length of the sequence is 29881\n",
      "ENA|MN938384|MN938384.1 CAACCAACTTTCGATCTCTT      The length of the sequence is 29838\n",
      "ENA|MN975262|MN975262.1 ATTAAAGGTTTATACCTTCC      The length of the sequence is 29891\n",
      "ENA|MN996527|MN996527.1 AACCAACTTTCGATCTCTTG      The length of the sequence is 29825\n",
      "ENA|MN996528|MN996528.1 ATTAAAGGTTTATACCTTCC      The length of the sequence is 29891\n",
      "ENA|MN996529|MN996529.1 TACCTTCCCAGGTAACAAAC      The length of the sequence is 29852\n",
      "ENA|MN996530|MN996530.1 CCTTCCCAGGTAACAAACCA      The length of the sequence is 29854\n",
      "ENA|MN996531|MN996531.1 ACCTTCCCAGGTAACAAACC      The length of the sequence is 29857\n",
      "ENA|MN908947|MN908947.3 ATTAAAGGTTTATACCTTCC      The length of the sequence is 29903\n",
      "ENA|MN985325|MN985325.1 ATTAAAGGTTTATACCTTCC      The length of the sequence is 29882\n",
      "ENA|MN988713|MN988713.1 ATTAAAGGTTTATACCTTCC      The length of the sequence is 29882\n",
      "ENA|MN994467|MN994467.1 ATTAAAGGTTTATACCTTCC      The length of the sequence is 29882\n",
      "ENA|MN994468|MN994468.1 ATTAAAGGTTTATACCTTCC      The length of the sequence is 29883\n",
      "ENA|MN997409|MN997409.1 ATTAAAGGTTTATACCTTCC      The length of the sequence is 29882\n",
      "ENA|MN988668|MN988668.1 and ENA|MN988669|MN988669.1 are identical\n"
     ]
    }
   ],
   "source": [
    "# Read genomes\n",
    "filename_genomes = '2019nCoV_genomes.2020_02_03.fa'\n",
    "genome_list = read_fasta(filename_genomes)\n",
    "print('The number of sequences in the genome are ' + str(len(genome_list)))\n",
    "print('The lengths of the sequences are as follow')\n",
    "for g_h, g_seq in genome_list.items():\n",
    "    print(g_h.split()[0], g_seq[:20],'     The length of the sequence is ' + str(len(g_seq)))\n",
    "    \n",
    "for x1,x2 in genome_list.items():\n",
    "    for y1,y2 in genome_list.items():\n",
    "        if x2==y2 and y1 != x1 and y1>x1:\n",
    "            print(x1.split()[0] ,'and', y1.split()[0], 'are identical')\n",
    "        \n"
   ]
  },
  {
   "cell_type": "code",
   "execution_count": 42,
   "metadata": {},
   "outputs": [
    {
     "ename": "SyntaxError",
     "evalue": "invalid syntax (<ipython-input-42-6e6e4a9221af>, line 10)",
     "output_type": "error",
     "traceback": [
      "\u001b[0;36m  File \u001b[0;32m\"<ipython-input-42-6e6e4a9221af>\"\u001b[0;36m, line \u001b[0;32m10\u001b[0m\n\u001b[0;31m    if g_seq==g_seq[+1]\u001b[0m\n\u001b[0m                       ^\u001b[0m\n\u001b[0;31mSyntaxError\u001b[0m\u001b[0;31m:\u001b[0m invalid syntax\n"
     ]
    }
   ],
   "source": [
    "\n",
    "    "
   ]
  },
  {
   "cell_type": "code",
   "execution_count": 12,
   "metadata": {},
   "outputs": [
    {
     "ename": "NameError",
     "evalue": "name 'g_list' is not defined",
     "output_type": "error",
     "traceback": [
      "\u001b[0;31m---------------------------------------------------------------------------\u001b[0m",
      "\u001b[0;31mNameError\u001b[0m                                 Traceback (most recent call last)",
      "\u001b[0;32m<ipython-input-12-53f646f1f10c>\u001b[0m in \u001b[0;36m<module>\u001b[0;34m\u001b[0m\n\u001b[1;32m      2\u001b[0m \u001b[0mfilename_genomes\u001b[0m \u001b[0;34m=\u001b[0m \u001b[0;34m'2019nCoV_genomes.2020_02_03.fa'\u001b[0m\u001b[0;34m\u001b[0m\u001b[0;34m\u001b[0m\u001b[0m\n\u001b[1;32m      3\u001b[0m \u001b[0mgenome_list\u001b[0m \u001b[0;34m=\u001b[0m \u001b[0mread_fasta\u001b[0m\u001b[0;34m(\u001b[0m\u001b[0mfilename_genomes\u001b[0m\u001b[0;34m)\u001b[0m\u001b[0;34m\u001b[0m\u001b[0;34m\u001b[0m\u001b[0m\n\u001b[0;32m----> 4\u001b[0;31m \u001b[0mg_list\u001b[0m\u001b[0;34m.\u001b[0m\u001b[0mkeys\u001b[0m\u001b[0;34m(\u001b[0m\u001b[0;34m)\u001b[0m\u001b[0;34m\u001b[0m\u001b[0;34m\u001b[0m\u001b[0m\n\u001b[0m",
      "\u001b[0;31mNameError\u001b[0m: name 'g_list' is not defined"
     ]
    }
   ],
   "source": []
  }
 ],
 "metadata": {
  "kernelspec": {
   "display_name": "Python 3",
   "language": "python",
   "name": "python3"
  },
  "language_info": {
   "codemirror_mode": {
    "name": "ipython",
    "version": 3
   },
   "file_extension": ".py",
   "mimetype": "text/x-python",
   "name": "python",
   "nbconvert_exporter": "python",
   "pygments_lexer": "ipython3",
   "version": "3.7.6"
  }
 },
 "nbformat": 4,
 "nbformat_minor": 4
}
