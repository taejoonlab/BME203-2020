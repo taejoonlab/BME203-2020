{
 "cells": [
  {
   "cell_type": "markdown",
   "metadata": {},
   "source": [
    "# Homework 01. Hyerin Kim (student ID:20185290)"
   ]
  },
  {
   "cell_type": "code",
   "execution_count": 3,
   "metadata": {},
   "outputs": [],
   "source": [
    "# The function to read sequences from a FASTA file\n",
    "def read_fasta(tmp_filename):\n",
    "    rv = dict()\n",
    "    f = open(tmp_filename, 'r')\n",
    "    for line in f:\n",
    "        if line.startswith('>'):\n",
    "            tmp_h = line.strip().lstrip('>')\n",
    "            rv[tmp_h] = ''\n",
    "        else:\n",
    "            rv[tmp_h] += line.strip().replace(' ', '')\n",
    "    f.close()\n",
    "    return rv"
   ]
  },
  {
   "cell_type": "code",
   "execution_count": 4,
   "metadata": {},
   "outputs": [
    {
     "name": "stdout",
     "output_type": "stream",
     "text": [
      "ENA|MN988668|MN988668.1 TTAAAGGTTTATACCTTCCCAGGTA\n",
      "ENA|MN988669|MN988669.1 TTAAAGGTTTATACCTTCCCAGGTA\n",
      "ENA|MN938384|MN938384.1 CAACCAACTTTCGATCTCTTGTAGA\n",
      "ENA|MN975262|MN975262.1 ATTAAAGGTTTATACCTTCCCAGGT\n",
      "ENA|MN996527|MN996527.1 AACCAACTTTCGATCTCTTGTAGAT\n",
      "ENA|MN996528|MN996528.1 ATTAAAGGTTTATACCTTCCCAGGT\n",
      "ENA|MN996529|MN996529.1 TACCTTCCCAGGTAACAAACCAACC\n",
      "ENA|MN996530|MN996530.1 CCTTCCCAGGTAACAAACCAACCAA\n",
      "ENA|MN996531|MN996531.1 ACCTTCCCAGGTAACAAACCAACCA\n",
      "ENA|MN908947|MN908947.3 ATTAAAGGTTTATACCTTCCCAGGT\n",
      "ENA|MN985325|MN985325.1 ATTAAAGGTTTATACCTTCCCAGGT\n",
      "ENA|MN988713|MN988713.1 ATTAAAGGTTTATACCTTCCCAGGT\n",
      "ENA|MN994467|MN994467.1 ATTAAAGGTTTATACCTTCCCAGGT\n",
      "ENA|MN994468|MN994468.1 ATTAAAGGTTTATACCTTCCCAGGT\n",
      "ENA|MN997409|MN997409.1 ATTAAAGGTTTATACCTTCCCAGGT\n"
     ]
    }
   ],
   "source": [
    "# Read genomes\n",
    "filename_genomes = '../data/2019nCoV_genomes.2020_02_03.fa'\n",
    "genome_list = read_fasta(filename_genomes)\n",
    "for g_h, g_seq in genome_list.items():\n",
    "    print(g_h.split()[0], g_seq[:25])"
   ]
  },
  {
   "cell_type": "code",
   "execution_count": 5,
   "metadata": {},
   "outputs": [
    {
     "name": "stdout",
     "output_type": "stream",
     "text": [
      "Number of sequences: 15\n"
     ]
    }
   ],
   "source": [
    "# count number of sequence\n",
    "filename_genomes = '../data/2019nCoV_genomes.2020_02_03.fa'\n",
    "genome_list = read_fasta(filename_genomes)\n",
    "\n",
    "print('Number of sequences:', len(genome_list))\n"
   ]
  },
  {
   "cell_type": "code",
   "execution_count": 6,
   "metadata": {},
   "outputs": [
    {
     "name": "stdout",
     "output_type": "stream",
     "text": [
      "lenth of sequence: 29881 nucleotides\n",
      "lenth of sequence: 29881 nucleotides\n",
      "lenth of sequence: 29838 nucleotides\n",
      "lenth of sequence: 29891 nucleotides\n",
      "lenth of sequence: 29825 nucleotides\n",
      "lenth of sequence: 29891 nucleotides\n",
      "lenth of sequence: 29852 nucleotides\n",
      "lenth of sequence: 29854 nucleotides\n",
      "lenth of sequence: 29857 nucleotides\n",
      "lenth of sequence: 29903 nucleotides\n",
      "lenth of sequence: 29882 nucleotides\n",
      "lenth of sequence: 29882 nucleotides\n",
      "lenth of sequence: 29882 nucleotides\n",
      "lenth of sequence: 29883 nucleotides\n",
      "lenth of sequence: 29882 nucleotides\n"
     ]
    }
   ],
   "source": [
    "# count lenth of sequence\n",
    "filename_genomes = '../data/2019nCoV_genomes.2020_02_03.fa'\n",
    "genome_list = read_fasta(filename_genomes)\n",
    "\n",
    "for g_seq in genome_list.values():\n",
    "    print('lenth of sequence:',len(g_seq),'nucleotides')"
   ]
  },
  {
   "cell_type": "code",
   "execution_count": 7,
   "metadata": {},
   "outputs": [
    {
     "name": "stdout",
     "output_type": "stream",
     "text": [
      "dict_values([2, 1, 1, 1, 1, 1, 1, 1, 1, 1, 1, 1, 1, 1])\n",
      "there are 2 identical seqeunces in genome pool\n",
      "ENA|MN988668|MN988668.1 and ENA|MN988669|MN988669.1 are identical sequence\n"
     ]
    }
   ],
   "source": [
    "# count number of identical sequence\n",
    "filename_genomes = '../data/2019nCoV_genomes.2020_02_03.fa'\n",
    "genome_list = read_fasta(filename_genomes)\n",
    "\n",
    "\n",
    "#get the sequences and their genome code in list\n",
    "seq_list = list()\n",
    "seq_name = list()\n",
    "for g_h, g_seq in genome_list.items():\n",
    "    seq_list.append(g_seq)\n",
    "    seq_name.append(g_h)\n",
    "    \n",
    "#check 'identical' sequence in sequence list, \n",
    "count = dict()\n",
    "for seq in seq_list:\n",
    "    if seq not in count.keys():\n",
    "        count[seq] = 1\n",
    "    else:\n",
    "        count[seq] += 1\n",
    "print(count.values())\n",
    "\n",
    "for numbers in count.values():\n",
    "    if numbers > 1:\n",
    "        print(\"there are\",numbers,\"identical seqeunces in genome pool\")\n",
    "\n",
    "#check which sequences are identical \n",
    "a=0\n",
    "b=1\n",
    "count_new=0\n",
    "while a < 15:\n",
    "    while b < 15:\n",
    "        if seq_list[a] == seq_list[b]:\n",
    "            count_new = count_new +1\n",
    "            print(seq_name[a].split()[0],\"and\",seq_name[b].split()[0],\"are identical sequence\")\n",
    "        b = b+1\n",
    "    b = a+2\n",
    "    a = a+1\n",
    "\n"
   ]
  }
 ],
 "metadata": {
  "kernelspec": {
   "display_name": "Python 3",
   "language": "python",
   "name": "python3"
  },
  "language_info": {
   "codemirror_mode": {
    "name": "ipython",
    "version": 3
   },
   "file_extension": ".py",
   "mimetype": "text/x-python",
   "name": "python",
   "nbconvert_exporter": "python",
   "pygments_lexer": "ipython3",
   "version": "3.7.6"
  }
 },
 "nbformat": 4,
 "nbformat_minor": 4
}
