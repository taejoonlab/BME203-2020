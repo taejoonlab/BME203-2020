{
 "cells": [
  {
   "cell_type": "markdown",
   "metadata": {},
   "source": [
    "# Homework 01. Seonjun Park (Student ID - 20191116)\n"
   ]
  },
  {
   "cell_type": "code",
   "execution_count": 1,
   "metadata": {},
   "outputs": [],
   "source": [
    "def read_fasta(filename):\n",
    "    read_genome = dict()\n",
    "    fi = open(filename, 'r')\n",
    "    for line in fi:\n",
    "        if line.startswith('>'):\n",
    "            h = line.strip().lstrip('>')\n",
    "            read_genome[h] = ''\n",
    "        else:\n",
    "            read_genome[h] += line.strip().replace(' ', '')\n",
    "    fi.close()\n",
    "    return read_genome"
   ]
  },
  {
   "cell_type": "code",
   "execution_count": 4,
   "metadata": {},
   "outputs": [
    {
     "name": "stdout",
     "output_type": "stream",
     "text": [
      "ENA|MN988668|MN988668.1 TTAAAGGTTTATACCTTCCCAGGTA\n",
      "ENA|MN988669|MN988669.1 TTAAAGGTTTATACCTTCCCAGGTA\n",
      "ENA|MN938384|MN938384.1 CAACCAACTTTCGATCTCTTGTAGA\n",
      "ENA|MN975262|MN975262.1 ATTAAAGGTTTATACCTTCCCAGGT\n",
      "ENA|MN996527|MN996527.1 AACCAACTTTCGATCTCTTGTAGAT\n",
      "ENA|MN996528|MN996528.1 ATTAAAGGTTTATACCTTCCCAGGT\n",
      "ENA|MN996529|MN996529.1 TACCTTCCCAGGTAACAAACCAACC\n",
      "ENA|MN996530|MN996530.1 CCTTCCCAGGTAACAAACCAACCAA\n",
      "ENA|MN996531|MN996531.1 ACCTTCCCAGGTAACAAACCAACCA\n",
      "ENA|MN908947|MN908947.3 ATTAAAGGTTTATACCTTCCCAGGT\n",
      "ENA|MN985325|MN985325.1 ATTAAAGGTTTATACCTTCCCAGGT\n",
      "ENA|MN988713|MN988713.1 ATTAAAGGTTTATACCTTCCCAGGT\n",
      "ENA|MN994467|MN994467.1 ATTAAAGGTTTATACCTTCCCAGGT\n",
      "ENA|MN994468|MN994468.1 ATTAAAGGTTTATACCTTCCCAGGT\n",
      "ENA|MN997409|MN997409.1 ATTAAAGGTTTATACCTTCCCAGGT\n"
     ]
    }
   ],
   "source": [
    "SARS_CoV2_genomes = '../data/2019nCoV_genomes.2020_02_03.fa'\n",
    "genome = read_fasta(SARS_CoV2_genomes)\n",
    "for h, seq in genome.items():\n",
    "    print(h.split()[0], seq[:25])"
   ]
  },
  {
   "cell_type": "code",
   "execution_count": 5,
   "metadata": {},
   "outputs": [
    {
     "data": {
      "text/plain": [
       "15"
      ]
     },
     "execution_count": 5,
     "metadata": {},
     "output_type": "execute_result"
    }
   ],
   "source": [
    "# HW 1-1\n",
    "len(genome)"
   ]
  },
  {
   "cell_type": "code",
   "execution_count": 6,
   "metadata": {},
   "outputs": [
    {
     "name": "stdout",
     "output_type": "stream",
     "text": [
      "29881\n",
      "29881\n",
      "29838\n",
      "29891\n",
      "29825\n",
      "29891\n",
      "29852\n",
      "29854\n",
      "29857\n",
      "29903\n",
      "29882\n",
      "29882\n",
      "29882\n",
      "29883\n",
      "29882\n"
     ]
    }
   ],
   "source": [
    "# HW 1-2\n",
    "for h in genome.keys():\n",
    "    print(len(genome[h]))"
   ]
  },
  {
   "cell_type": "code",
   "execution_count": 8,
   "metadata": {},
   "outputs": [
    {
     "name": "stdout",
     "output_type": "stream",
     "text": [
      "1.0\n"
     ]
    }
   ],
   "source": [
    "# HW 1-3\n",
    "count = 0\n",
    "for h in genome.keys():\n",
    "    for ht in genome.keys():\n",
    "        if genome[h] == genome[ht]:\n",
    "            count += 1\n",
    "        else:\n",
    "            count += 0\n",
    "\n",
    "number_identical = (count-len(genome))/2\n",
    "print(number_identical)"
   ]
  },
  {
   "cell_type": "code",
   "execution_count": null,
   "metadata": {},
   "outputs": [],
   "source": []
  }
 ],
 "metadata": {
  "kernelspec": {
   "display_name": "Python 3",
   "language": "python",
   "name": "python3"
  },
  "language_info": {
   "codemirror_mode": {
    "name": "ipython",
    "version": 3
   },
   "file_extension": ".py",
   "mimetype": "text/x-python",
   "name": "python",
   "nbconvert_exporter": "python",
   "pygments_lexer": "ipython3",
   "version": "3.7.6"
  }
 },
 "nbformat": 4,
 "nbformat_minor": 4
}
