{
 "cells": [
  {
   "cell_type": "markdown",
   "metadata": {},
   "source": [
    "# HW_01. Covid-19 Taewon Son(20191153)"
   ]
  },
  {
   "cell_type": "code",
   "execution_count": 2,
   "metadata": {},
   "outputs": [],
   "source": [
    "Cov_data=open('/home/taweon/BME203-2020/data/2019nCoV_genomes.2020_02_03.fa','r')"
   ]
  },
  {
   "cell_type": "code",
   "execution_count": 3,
   "metadata": {},
   "outputs": [],
   "source": [
    "Cov_data.seek(0)\n",
    "Covdata=Cov_data.read()"
   ]
  },
  {
   "cell_type": "code",
   "execution_count": 4,
   "metadata": {},
   "outputs": [],
   "source": [
    "import re"
   ]
  },
  {
   "cell_type": "code",
   "execution_count": 5,
   "metadata": {},
   "outputs": [
    {
     "name": "stdout",
     "output_type": "stream",
     "text": [
      "there are 15 sequences.\n"
     ]
    }
   ],
   "source": [
    "find_name=re.compile('.*complete genome\\.\\\\n')\n",
    "name=find_name.findall(Covdata)\n",
    "kind_of_viruses=len(name)\n",
    "print('there are',kind_of_viruses,'sequences.')"
   ]
  },
  {
   "cell_type": "code",
   "execution_count": 6,
   "metadata": {},
   "outputs": [],
   "source": [
    "Cov_data.seek(0)\n",
    "Covdata_l=Cov_data.readlines()"
   ]
  },
  {
   "cell_type": "code",
   "execution_count": 7,
   "metadata": {},
   "outputs": [
    {
     "name": "stdout",
     "output_type": "stream",
     "text": [
      "0 >ENA|MN988668|MN988668.1 Wuhan seafood market pneumonia virus isolate 2019-nCoV WHU01, complete genome.\n",
      "\n",
      "500 >ENA|MN988669|MN988669.1 Wuhan seafood market pneumonia virus isolate 2019-nCoV WHU02, complete genome.\n",
      "\n",
      "1000 >ENA|MN938384|MN938384.1 Wuhan seafood market pneumonia virus isolate 2019-nCoV_HKU-SZ-002a_2020, complete genome.\n",
      "\n",
      "1499 >ENA|MN975262|MN975262.1 Wuhan seafood market pneumonia virus isolate 2019-nCoV_HKU-SZ-005b_2020, complete genome.\n",
      "\n",
      "1999 >ENA|MN996527|MN996527.1 Wuhan seafood market pneumonia virus isolate WIV02, complete genome.\n",
      "\n",
      "2498 >ENA|MN996528|MN996528.1 Wuhan seafood market pneumonia virus isolate WIV04, complete genome.\n",
      "\n",
      "2998 >ENA|MN996529|MN996529.1 Wuhan seafood market pneumonia virus isolate WIV05, complete genome.\n",
      "\n",
      "3497 >ENA|MN996530|MN996530.1 Wuhan seafood market pneumonia virus isolate WIV06, complete genome.\n",
      "\n",
      "3996 >ENA|MN996531|MN996531.1 Wuhan seafood market pneumonia virus isolate WIV07, complete genome.\n",
      "\n",
      "4495 >ENA|MN908947|MN908947.3 Wuhan seafood market pneumonia virus isolate Wuhan-Hu-1, complete genome.\n",
      "\n",
      "4995 >ENA|MN985325|MN985325.1 Wuhan seafood market pneumonia virus isolate 2019-nCoV/USA-WA1/2020, complete genome.\n",
      "\n",
      "5495 >ENA|MN988713|MN988713.1 Wuhan seafood market pneumonia virus isolate 2019-nCoV/USA-IL1/2020, complete genome.\n",
      "\n",
      "5995 >ENA|MN994467|MN994467.1 Wuhan seafood market pneumonia virus isolate 2019-nCoV/USA-CA1/2020, complete genome.\n",
      "\n",
      "6495 >ENA|MN994468|MN994468.1 Wuhan seafood market pneumonia virus isolate 2019-nCoV/USA-CA2/2020, complete genome.\n",
      "\n",
      "6995 >ENA|MN997409|MN997409.1 Wuhan seafood market pneumonia virus isolate 2019-nCoV/USA-AZ1/2020, complete genome.\n",
      "\n"
     ]
    }
   ],
   "source": [
    "for n in name:\n",
    "    for i in range(len(Covdata_l)-1):\n",
    "        if n==Covdata_l[i]:\n",
    "            print(i,Covdata_l[i])"
   ]
  },
  {
   "cell_type": "code",
   "execution_count": 8,
   "metadata": {},
   "outputs": [
    {
     "name": "stdout",
     "output_type": "stream",
     "text": [
      "29881\n",
      "29881\n",
      "29838\n",
      "29891\n",
      "29825\n",
      "29891\n",
      "29852\n",
      "29854\n",
      "29857\n",
      "29903\n",
      "29882\n",
      "29882\n",
      "29882\n",
      "29883\n",
      "29880\n"
     ]
    }
   ],
   "source": [
    "virus=dict()\n",
    "l_1=[]\n",
    "l=[]\n",
    "for n in name:\n",
    "    for i in range(len(Covdata_l)-1):\n",
    "        if n==Covdata_l[i]:\n",
    "            l_1.append(i)\n",
    "for i in range(len(l_1)-1):\n",
    "    if i<13:\n",
    "        temp_l=Covdata_l[l_1[i]+1:l_1[i+1]]\n",
    "        temp_l=''.join(temp_l)\n",
    "        l.append(temp_l.replace('\\n',''))\n",
    "    else:\n",
    "        temp_l=Covdata_l[l_1[i]+1:l_1[i+1]]\n",
    "        temp_l=''.join(temp_l)\n",
    "        l.append(temp_l.replace('\\n',''))\n",
    "        temp_l=Covdata_l[l_1[i+1]+1:-1]\n",
    "        temp_l=''.join(temp_l)\n",
    "        l.append(temp_l.replace('\\n',''))\n",
    "for n in range(15):\n",
    "    virus[name[n]]=l[n]\n",
    "for i in l:\n",
    "    print(len(i))"
   ]
  },
  {
   "cell_type": "code",
   "execution_count": 9,
   "metadata": {},
   "outputs": [
    {
     "name": "stdout",
     "output_type": "stream",
     "text": [
      "there are 1.0 fair of same gene\n"
     ]
    }
   ],
   "source": [
    "flag=0\n",
    "for i in l:\n",
    "    flag+=-1\n",
    "    for j in l:\n",
    "        if i==j:\n",
    "            flag+=1\n",
    "        else:pass\n",
    "print('there are', flag/2, 'fair of same gene')"
   ]
  },
  {
   "cell_type": "code",
   "execution_count": null,
   "metadata": {},
   "outputs": [],
   "source": []
  },
  {
   "cell_type": "code",
   "execution_count": null,
   "metadata": {},
   "outputs": [],
   "source": []
  }
 ],
 "metadata": {
  "kernelspec": {
   "display_name": "Python 3",
   "language": "python",
   "name": "python3"
  },
  "language_info": {
   "codemirror_mode": {
    "name": "ipython",
    "version": 3
   },
   "file_extension": ".py",
   "mimetype": "text/x-python",
   "name": "python",
   "nbconvert_exporter": "python",
   "pygments_lexer": "ipython3",
   "version": "3.7.6"
  }
 },
 "nbformat": 4,
 "nbformat_minor": 4
}
