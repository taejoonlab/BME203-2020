{
 "cells": [
  {
   "cell_type": "markdown",
   "metadata": {},
   "source": [
    "# Homework 01. Jiyun Han (Student ID - 20191324)"
   ]
  },
  {
   "cell_type": "code",
   "execution_count": 8,
   "metadata": {},
   "outputs": [
    {
     "name": "stdout",
     "output_type": "stream",
     "text": [
      "1 sequence has 29881 nucletides\n",
      "2 sequence has 29881 nucletides\n",
      "3 sequence has 29838 nucletides\n",
      "4 sequence has 29891 nucletides\n",
      "5 sequence has 29825 nucletides\n",
      "6 sequence has 29891 nucletides\n",
      "7 sequence has 29852 nucletides\n",
      "8 sequence has 29854 nucletides\n",
      "9 sequence has 29857 nucletides\n",
      "10 sequence has 29903 nucletides\n",
      "11 sequence has 29882 nucletides\n",
      "12 sequence has 29882 nucletides\n",
      "13 sequence has 29882 nucletides\n",
      "14 sequence has 29883 nucletides\n",
      "15 sequence has 29882 nucletides\n",
      "There are 15 sequences\n"
     ]
    }
   ],
   "source": [
    "# HW1_1 and 2\n",
    "from Bio import SeqIO\n",
    "\n",
    "seq = SeqIO.parse(\"2019nCoV_genomes.2020_02_03.fa\", \"fasta\") #Read the given data using parse.\n",
    "\n",
    "num_seq = 0 #set the num_seq 0 for counting.\n",
    "for s in seq: #Set s as a variable and read seq one by one.\n",
    "    num_seq += 1 #Add 1 while reading one sequnce.\n",
    "    print(num_seq, \"sequence has\", len(s.seq), \"nucletides\") #Task(2) answer #len(s.seq) means length of nucleotides\n",
    "\n",
    "print(\"There are\", num_seq, \"sequences\") #Task(1) answer"
   ]
  },
  {
   "cell_type": "code",
   "execution_count": 9,
   "metadata": {},
   "outputs": [
    {
     "name": "stdout",
     "output_type": "stream",
     "text": [
      "1.0\n"
     ]
    }
   ],
   "source": [
    "# HW1_3\n",
    "seq = SeqIO.parse(\"2019nCoV_genomes.2020_02_03.fa\", \"fasta\") #Use once more time to eliminate errors\n",
    "list_seq = [] #set list\n",
    "count_true = 0 #counting number of true that means same sequence number\n",
    "\n",
    "for l in seq:\n",
    "    seq_list = l.seq.split(\"\\n\") #I will put each 15 sequence in each list and put in one big list(list_seq)\n",
    "    #print(l.seq) #just for check\n",
    "    list_seq.append(seq_list) #append will put sequences as list in list_seq\n",
    "\n",
    "#print(list_seq) #just for check\n",
    "for i in list_seq: #using 'for' twice to compare\n",
    "    for j in list_seq:\n",
    "        #print(i) #just for check\n",
    "        #print(j)\n",
    "        #print(i == j)\n",
    "        if i == j: #it means two sequences are same\n",
    "            count_true += 1\n",
    "            #print(i, \"is same as\", j)\n",
    "#print(count_true)\n",
    "count_final = (count_true - num_seq)/2 #final counting will consider overlapping(ex) 1 == 1, 2 == 2.. it has num_seq overlapping) and we should devide it two(ex) 1 == 2, 2 == 1)\n",
    "print(count_final) #Taks(3) answer"
   ]
  },
  {
   "cell_type": "code",
   "execution_count": null,
   "metadata": {},
   "outputs": [],
   "source": []
  }
 ],
 "metadata": {
  "kernelspec": {
   "display_name": "Python 3",
   "language": "python",
   "name": "python3"
  },
  "language_info": {
   "codemirror_mode": {
    "name": "ipython",
    "version": 3
   },
   "file_extension": ".py",
   "mimetype": "text/x-python",
   "name": "python",
   "nbconvert_exporter": "python",
   "pygments_lexer": "ipython3",
   "version": "3.7.6"
  }
 },
 "nbformat": 4,
 "nbformat_minor": 4
}
