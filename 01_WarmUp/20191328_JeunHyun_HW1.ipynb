{
 "cells": [
  {
   "cell_type": "markdown",
   "metadata": {},
   "source": [
    "# Homework 01. Jeun Hyun (Student ID - 20191328)\n"
   ]
  },
  {
   "cell_type": "code",
   "execution_count": 6,
   "metadata": {},
   "outputs": [],
   "source": [
    "# The function to read sequences from a FASTA file\n",
    "def read_fasta(tmp_filename):\n",
    "    rv = dict()\n",
    "    f = open(tmp_filename, 'r')\n",
    "    for line in f:\n",
    "        if line.startswith('>'):\n",
    "            tmp_h = line.strip().lstrip('>')\n",
    "            rv[tmp_h] = ''\n",
    "        else:\n",
    "            rv[tmp_h] += line.strip().replace(' ', '')\n",
    "    f.close()\n",
    "    return rv"
   ]
  },
  {
   "cell_type": "code",
   "execution_count": 7,
   "metadata": {},
   "outputs": [
    {
     "name": "stdout",
     "output_type": "stream",
     "text": [
      "ENA|MN988668|MN988668.1 TTAAAGGTTTATACCTTCCCAGGTA\n",
      "ENA|MN988669|MN988669.1 TTAAAGGTTTATACCTTCCCAGGTA\n",
      "ENA|MN938384|MN938384.1 CAACCAACTTTCGATCTCTTGTAGA\n",
      "ENA|MN975262|MN975262.1 ATTAAAGGTTTATACCTTCCCAGGT\n",
      "ENA|MN996527|MN996527.1 AACCAACTTTCGATCTCTTGTAGAT\n",
      "ENA|MN996528|MN996528.1 ATTAAAGGTTTATACCTTCCCAGGT\n",
      "ENA|MN996529|MN996529.1 TACCTTCCCAGGTAACAAACCAACC\n",
      "ENA|MN996530|MN996530.1 CCTTCCCAGGTAACAAACCAACCAA\n",
      "ENA|MN996531|MN996531.1 ACCTTCCCAGGTAACAAACCAACCA\n",
      "ENA|MN908947|MN908947.3 ATTAAAGGTTTATACCTTCCCAGGT\n",
      "ENA|MN985325|MN985325.1 ATTAAAGGTTTATACCTTCCCAGGT\n",
      "ENA|MN988713|MN988713.1 ATTAAAGGTTTATACCTTCCCAGGT\n",
      "ENA|MN994467|MN994467.1 ATTAAAGGTTTATACCTTCCCAGGT\n",
      "ENA|MN994468|MN994468.1 ATTAAAGGTTTATACCTTCCCAGGT\n",
      "ENA|MN997409|MN997409.1 ATTAAAGGTTTATACCTTCCCAGGT\n"
     ]
    }
   ],
   "source": [
    "# Read genomes\n",
    "filename_genomes = '../data/2019nCoV_genomes.2020_02_03.fa'\n",
    "genome_list = read_fasta(filename_genomes)\n",
    "for g_h, g_seq in genome_list.items():\n",
    "    print(g_h.split()[0], g_seq[:25])"
   ]
  },
  {
   "cell_type": "code",
   "execution_count": 8,
   "metadata": {},
   "outputs": [
    {
     "name": "stdout",
     "output_type": "stream",
     "text": [
      "The number of sequences is 15\n"
     ]
    }
   ],
   "source": [
    "# 1. Number of sequences\n",
    "print(\"The number of sequences is\", len(genome_list))"
   ]
  },
  {
   "cell_type": "code",
   "execution_count": 9,
   "metadata": {},
   "outputs": [
    {
     "name": "stdout",
     "output_type": "stream",
     "text": [
      "The length of sequence is respectively 29881 29881 29838 29891 29825 29891 29852 29854 29857 29903 29882 29882 29882 29883 29882 "
     ]
    }
   ],
   "source": [
    "# 2. Length of sequences\n",
    "print(\"The length of sequence is respectively \", end=\"\")\n",
    "for sequence in genome_list.values():\n",
    "    print(len(sequence), end=\" \") "
   ]
  },
  {
   "cell_type": "code",
   "execution_count": 10,
   "metadata": {},
   "outputs": [
    {
     "name": "stdout",
     "output_type": "stream",
     "text": [
      "The number of identical sequences is 2\n"
     ]
    }
   ],
   "source": [
    "# 3. Number of identical sequences\n",
    "genomeDict = {} # make new dictionary in terms of sequences\n",
    "for g_h, g_seq in genome_list.items():\n",
    "    if g_seq not in genomeDict.keys():\n",
    "        genomeDict[g_seq] = [g_h]\n",
    "    else:\n",
    "        genomeDict[g_seq].append(g_h)\n",
    "#print(genomeDict) # interpret as common sequences(keys) and their corresponing histories(values). histories are grouped in identical sequences. \n",
    "\n",
    "# Now, count the number of identical sequences\n",
    "count = 0\n",
    "for h in genomeDict.values():\n",
    "    if len(h) >= 2:\n",
    "        count += len(h)\n",
    "print(\"The number of identical sequences is\", count)\n"
   ]
  },
  {
   "cell_type": "code",
   "execution_count": 11,
   "metadata": {},
   "outputs": [],
   "source": [
    "# Another method!\n",
    "#genome_sequenceList = list(genome_list.values())\n",
    "#identical_sequenceList = []\n",
    "#count = 0\n",
    "#for i in range(len(genome_list)):\n",
    "#    if genome_sequenceList[i] not in identical_sequenceList: # in order to exclude the sequence which is already checked\n",
    "#        for j in range(i+1, len(genome_list)): \n",
    "#            if genome_sequenceList[i] == genome_sequenceList[j]: # just check whether there is sequences identical with 'ith' sequence\n",
    "#                identical_sequenceList.append(genome_sequenceList[i])\n",
    "#                for k in range(len(genome_list)): # going to check how many identical sequences exist.\n",
    "#                    if genome_sequenceList[i] == genome_sequenceList[k]: \n",
    "#                        count += 1\n",
    "#print(\"The number of identical sequences is\", count)\n"
   ]
  },
  {
   "cell_type": "code",
   "execution_count": null,
   "metadata": {},
   "outputs": [],
   "source": []
  }
 ],
 "metadata": {
  "kernelspec": {
   "display_name": "Python 3",
   "language": "python",
   "name": "python3"
  },
  "language_info": {
   "codemirror_mode": {
    "name": "ipython",
    "version": 3
   },
   "file_extension": ".py",
   "mimetype": "text/x-python",
   "name": "python",
   "nbconvert_exporter": "python",
   "pygments_lexer": "ipython3",
   "version": "3.7.6"
  }
 },
 "nbformat": 4,
 "nbformat_minor": 4
}
