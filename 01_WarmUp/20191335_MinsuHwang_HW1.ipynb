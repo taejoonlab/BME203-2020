{
 "cells": [
  {
   "cell_type": "markdown",
   "metadata": {},
   "source": [
    "# Homework 01. Minsu Hwang (Student ID 20191335)\n"
   ]
  },
  {
   "cell_type": "code",
   "execution_count": 11,
   "metadata": {},
   "outputs": [
    {
     "name": "stdout",
     "output_type": "stream",
     "text": [
      "ENA|MN988668|MN988668.1 TTAAAGGTTTATACCTTCCCAGGTA\n",
      "ENA|MN988669|MN988669.1 TTAAAGGTTTATACCTTCCCAGGTA\n",
      "ENA|MN938384|MN938384.1 CAACCAACTTTCGATCTCTTGTAGA\n",
      "ENA|MN975262|MN975262.1 ATTAAAGGTTTATACCTTCCCAGGT\n",
      "ENA|MN996527|MN996527.1 AACCAACTTTCGATCTCTTGTAGAT\n",
      "ENA|MN996528|MN996528.1 ATTAAAGGTTTATACCTTCCCAGGT\n",
      "ENA|MN996529|MN996529.1 TACCTTCCCAGGTAACAAACCAACC\n",
      "ENA|MN996530|MN996530.1 CCTTCCCAGGTAACAAACCAACCAA\n",
      "ENA|MN996531|MN996531.1 ACCTTCCCAGGTAACAAACCAACCA\n",
      "ENA|MN908947|MN908947.3 ATTAAAGGTTTATACCTTCCCAGGT\n",
      "ENA|MN985325|MN985325.1 ATTAAAGGTTTATACCTTCCCAGGT\n",
      "ENA|MN988713|MN988713.1 ATTAAAGGTTTATACCTTCCCAGGT\n",
      "ENA|MN994467|MN994467.1 ATTAAAGGTTTATACCTTCCCAGGT\n",
      "ENA|MN994468|MN994468.1 ATTAAAGGTTTATACCTTCCCAGGT\n",
      "ENA|MN997409|MN997409.1 ATTAAAGGTTTATACCTTCCCAGGT\n"
     ]
    }
   ],
   "source": [
    "# HW1. 1-1.Read data/2019nCoV_genomes.2020_02_03.fa\n",
    "filename_genomes = '../data/2019nCoV_genomes.2020_02_03.fa'\n",
    "genome_list = read_fasta(filename_genomes)\n",
    "for g_h, g_seq in genome_list.items():\n",
    "    print(g_h.split()[0], g_seq[:25])"
   ]
  },
  {
   "cell_type": "code",
   "execution_count": 12,
   "metadata": {},
   "outputs": [
    {
     "name": "stdout",
     "output_type": "stream",
     "text": [
      "The Number of Sequences:  15\n"
     ]
    }
   ],
   "source": [
    "#HW1. 2-1. The Number of sequences\n",
    "a1=len(genome_list)\n",
    "print(\"The Number of Sequences: \", a1)"
   ]
  },
  {
   "cell_type": "code",
   "execution_count": 31,
   "metadata": {},
   "outputs": [
    {
     "name": "stdout",
     "output_type": "stream",
     "text": [
      "The Length of Sequences: 29881\n",
      "The Length of Sequences: 29881\n",
      "The Length of Sequences: 29838\n",
      "The Length of Sequences: 29891\n",
      "The Length of Sequences: 29825\n",
      "The Length of Sequences: 29891\n",
      "The Length of Sequences: 29852\n",
      "The Length of Sequences: 29854\n",
      "The Length of Sequences: 29857\n",
      "The Length of Sequences: 29903\n",
      "The Length of Sequences: 29882\n",
      "The Length of Sequences: 29882\n",
      "The Length of Sequences: 29882\n",
      "The Length of Sequences: 29883\n",
      "The Length of Sequences: 29882\n"
     ]
    }
   ],
   "source": [
    "#HW1. 2-2. The Length of sequences\n",
    "\n",
    "for g_seq in genome_list.values():\n",
    "    print(\"The Length of Sequences:\",len(g_seq))\n",
    "    "
   ]
  },
  {
   "cell_type": "code",
   "execution_count": 42,
   "metadata": {},
   "outputs": [
    {
     "name": "stdout",
     "output_type": "stream",
     "text": [
      "The number of Identical Sequences: 1.0\n"
     ]
    }
   ],
   "source": [
    "#HW1. 2-3. The Number of Identical Sequences\n",
    "\"\"\"\"\"\"\n",
    "list1 = []\n",
    "for g_h in genome_list.items():\n",
    "    list1.append(g_seq)\n",
    "\n",
    "count = 0\n",
    "for i in list1:\n",
    "    for j in list1:\n",
    "        if i == j:\n",
    "            count+=1\n",
    "number = count/(a1*a1) #Divide by a1*a1(the number of sequences**2) Becuase This is because overlapping sequences are represented by overlapping permutations \n",
    "print(\"The number of Identical Sequences:\", number)"
   ]
  },
  {
   "cell_type": "code",
   "execution_count": null,
   "metadata": {},
   "outputs": [],
   "source": []
  }
 ],
 "metadata": {
  "kernelspec": {
   "display_name": "Python 3",
   "language": "python",
   "name": "python3"
  },
  "language_info": {
   "codemirror_mode": {
    "name": "ipython",
    "version": 3
   },
   "file_extension": ".py",
   "mimetype": "text/x-python",
   "name": "python",
   "nbconvert_exporter": "python",
   "pygments_lexer": "ipython3",
   "version": "3.7.6"
  }
 },
 "nbformat": 4,
 "nbformat_minor": 4
}
