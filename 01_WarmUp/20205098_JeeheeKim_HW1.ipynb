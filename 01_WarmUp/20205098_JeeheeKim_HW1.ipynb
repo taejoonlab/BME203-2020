{
 "cells": [
  {
   "cell_type": "markdown",
   "metadata": {},
   "source": [
    "#Homework 01. Jeehee Kim (Student ID - 20205098)"
   ]
  },
  {
   "cell_type": "code",
   "execution_count": 3,
   "metadata": {},
   "outputs": [
    {
     "name": "stdout",
     "output_type": "stream",
     "text": [
      "ENA|MN988668|MN988668.1\n",
      "TTAAAGGTTT\n",
      "ENA|MN988669|MN988669.1\n",
      "TTAAAGGTTT\n",
      "ENA|MN938384|MN938384.1\n",
      "CAACCAACTT\n",
      "ENA|MN975262|MN975262.1\n",
      "ATTAAAGGTT\n",
      "ENA|MN996527|MN996527.1\n",
      "AACCAACTTT\n",
      "ENA|MN996528|MN996528.1\n",
      "ATTAAAGGTT\n",
      "ENA|MN996529|MN996529.1\n",
      "TACCTTCCCA\n",
      "ENA|MN996530|MN996530.1\n",
      "CCTTCCCAGG\n",
      "ENA|MN996531|MN996531.1\n",
      "ACCTTCCCAG\n",
      "ENA|MN908947|MN908947.3\n",
      "ATTAAAGGTT\n",
      "ENA|MN985325|MN985325.1\n",
      "ATTAAAGGTT\n",
      "ENA|MN988713|MN988713.1\n",
      "ATTAAAGGTT\n",
      "ENA|MN994467|MN994467.1\n",
      "ATTAAAGGTT\n",
      "ENA|MN994468|MN994468.1\n",
      "ATTAAAGGTT\n",
      "ENA|MN997409|MN997409.1\n",
      "ATTAAAGGTT\n"
     ]
    }
   ],
   "source": [
    "# 1. Read genomes\n",
    "\n",
    "def read_fasta(fa_file_name):             \n",
    "    rv = dict()\n",
    "    f = open(fa_file_name,'r')\n",
    "    for line in f:\n",
    "        if line.startswith(\">\"):\n",
    "            seq_info = line.strip().lstrip('>')           # Removal of header marker('>') & '\\n'   \n",
    "            rv[seq_info] = ''                             \n",
    "        else:\n",
    "            rv[seq_info] += line.strip().replace(' ','')\n",
    "        \n",
    "    f.close()                                             # Making continuous seq_information => {Key:Value} = {'seq_header':'sequence'}\n",
    "    return rv\n",
    "    \n",
    "\n",
    "fa_file_name = '../data/2019nCoV_genomes.2020_02_03.fa'\n",
    "genome_list = read_fasta(fa_file_name)\n",
    "for g_h, g_seq in genome_list.items():                    \n",
    "    print(g_h.split()[0], g_seq[:10], sep='\\n')\n",
    "    #print(g_h.split()[0], g_seq, sep='\\n')               # Return list format of dict's {key:value} > list.keys() = dict_keys[] = g_h ; list of seq_ID\n",
    "                                                          #                                          > list.values() = dict_values[] = g_seq ; list of sequences \n",
    "\n"
   ]
  },
  {
   "cell_type": "code",
   "execution_count": 4,
   "metadata": {},
   "outputs": [
    {
     "name": "stdout",
     "output_type": "stream",
     "text": [
      "The number of sequences: 15\n"
     ]
    }
   ],
   "source": [
    "# 2-1. Number of sequences \n",
    "print(\"The number of sequences: \" + str(len(genome_list.items())))  "
   ]
  },
  {
   "cell_type": "code",
   "execution_count": 5,
   "metadata": {},
   "outputs": [
    {
     "name": "stdout",
     "output_type": "stream",
     "text": [
      "The length of ENA|MN988668|MN988668.1 is 29881nt\n",
      "The length of ENA|MN988669|MN988669.1 is 29881nt\n",
      "The length of ENA|MN938384|MN938384.1 is 29838nt\n",
      "The length of ENA|MN975262|MN975262.1 is 29891nt\n",
      "The length of ENA|MN996527|MN996527.1 is 29825nt\n",
      "The length of ENA|MN996528|MN996528.1 is 29891nt\n",
      "The length of ENA|MN996529|MN996529.1 is 29852nt\n",
      "The length of ENA|MN996530|MN996530.1 is 29854nt\n",
      "The length of ENA|MN996531|MN996531.1 is 29857nt\n",
      "The length of ENA|MN908947|MN908947.3 is 29903nt\n",
      "The length of ENA|MN985325|MN985325.1 is 29882nt\n",
      "The length of ENA|MN988713|MN988713.1 is 29882nt\n",
      "The length of ENA|MN994467|MN994467.1 is 29882nt\n",
      "The length of ENA|MN994468|MN994468.1 is 29883nt\n",
      "The length of ENA|MN997409|MN997409.1 is 29882nt\n"
     ]
    }
   ],
   "source": [
    "# 2-2. Length of sequences \n",
    "for g_h, g_seq in genome_list.items():\n",
    "    print(\"The length of \" + g_h.split()[0] + \" is \" + str(len(g_seq)) + \"nt\")"
   ]
  },
  {
   "cell_type": "code",
   "execution_count": 6,
   "metadata": {},
   "outputs": [
    {
     "name": "stdout",
     "output_type": "stream",
     "text": [
      "dict_values([2, 1, 1, 1, 1, 1, 1, 1, 1, 1, 1, 1, 1, 1])\n",
      "Number of identical sequences: 2\n"
     ]
    }
   ],
   "source": [
    "# 2-3. Number of identical sequences \n",
    "g_dict = {}                                               # Making the new dictionary for counting identical sequences\n",
    "for g_h, g_seq in genome_list.items():                    \n",
    "    if g_seq not in g_dict.keys():                           \n",
    "        g_dict[g_seq] = 1\n",
    "    else:\n",
    "        g_dict[g_seq] += 1\n",
    "\n",
    "print(g_dict.values())\n",
    " \n",
    "\n",
    "for n in g_dict.values():                                 # 'g_dict.values() > 1' means that there is more than one same g_dict.keys() in this list\n",
    "    if n > 1 :                                            # 'n' is the number of identical sequences\n",
    "        print(\"Number of identical sequences: \" + str(n))\n",
    "        "
   ]
  },
  {
   "cell_type": "code",
   "execution_count": null,
   "metadata": {},
   "outputs": [],
   "source": []
  }
 ],
 "metadata": {
  "kernelspec": {
   "display_name": "Python 3",
   "language": "python",
   "name": "python3"
  },
  "language_info": {
   "codemirror_mode": {
    "name": "ipython",
    "version": 3
   },
   "file_extension": ".py",
   "mimetype": "text/x-python",
   "name": "python",
   "nbconvert_exporter": "python",
   "pygments_lexer": "ipython3",
   "version": "3.7.6"
  }
 },
 "nbformat": 4,
 "nbformat_minor": 4
}
