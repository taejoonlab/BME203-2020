{
 "cells": [
  {
   "cell_type": "markdown",
   "metadata": {},
   "source": [
    "# Homework 02. Minsu Hwang (Student ID 20191335)"
   ]
  },
  {
   "cell_type": "code",
   "execution_count": 28,
   "metadata": {},
   "outputs": [],
   "source": [
    "# The function to read sequences from a FASTA file\n",
    "def read_fasta(tmp_filename):\n",
    "    rv = dict()\n",
    "    f = open(tmp_filename, 'r')\n",
    "    for line in f:\n",
    "        if line.startswith('>'):\n",
    "            tmp_h = line.strip().lstrip('>')\n",
    "            rv[tmp_h] = ''\n",
    "        else:\n",
    "            rv[tmp_h] += line.strip().replace(' ', '')\n",
    "    f.close()\n",
    "    return rv"
   ]
  },
  {
   "cell_type": "code",
   "execution_count": 55,
   "metadata": {},
   "outputs": [
    {
     "name": "stdout",
     "output_type": "stream",
     "text": [
      "2019-nCoV_N1-F GACCCCAAAATCAGCGAAAT\n",
      "2019-nCoV_N1-R TCTGGTTACTGCCAGTTGAATCTG\n",
      "2019-nCoV_N1-P ACCCCGCATTACGTTTGGTGGACC\n",
      "2019-nCoV_N2-F TTACAAACATTGGCCGCAAA\n",
      "2019-nCoV_N2-R GCGCGACATTCCGAAGAA\n",
      "2019-nCoV_N2-P ACAATTTGCCCCCAGCGCTTCAG\n",
      "2019-nCoV_N3-F GGGAGCCTTGAATACACCAAAA\n",
      "2019-nCoV_N3-R TGTAGCACGATTGCAGCATTG\n",
      "2019-nCoV_N3-P AYCACATTGGCACCCGCAATCCTG\n",
      "RP-F AGATTTGGACCTGCGAGCG\n",
      "RP-R GAGCGGCTGTCTCCACAAGT\n",
      "RP-P TTCTGACCTGAAGGCTCTGCGCG\n"
     ]
    }
   ],
   "source": [
    "# Read primers for Covid-19 detection\n",
    "filename_primers_1 = '../data/2019nCoV_primers.fa'\n",
    "primer_list_1 = read_fasta(filename_primers_1)\n",
    "for p_h, p_seq in primer_list.items():\n",
    "    print(p_h, p_seq)"
   ]
  },
  {
   "cell_type": "code",
   "execution_count": 42,
   "metadata": {},
   "outputs": [
    {
     "name": "stdout",
     "output_type": "stream",
     "text": [
      "ENA|MN988668|MN988668.1 TTAAAGGTTTATACCTTCCCAGGTA\n",
      "ENA|MN988669|MN988669.1 TTAAAGGTTTATACCTTCCCAGGTA\n",
      "ENA|MN938384|MN938384.1 CAACCAACTTTCGATCTCTTGTAGA\n",
      "ENA|MN975262|MN975262.1 ATTAAAGGTTTATACCTTCCCAGGT\n",
      "ENA|MN996527|MN996527.1 AACCAACTTTCGATCTCTTGTAGAT\n",
      "ENA|MN996528|MN996528.1 ATTAAAGGTTTATACCTTCCCAGGT\n",
      "ENA|MN996529|MN996529.1 TACCTTCCCAGGTAACAAACCAACC\n",
      "ENA|MN996530|MN996530.1 CCTTCCCAGGTAACAAACCAACCAA\n",
      "ENA|MN996531|MN996531.1 ACCTTCCCAGGTAACAAACCAACCA\n",
      "ENA|MN908947|MN908947.3 ATTAAAGGTTTATACCTTCCCAGGT\n",
      "ENA|MN985325|MN985325.1 ATTAAAGGTTTATACCTTCCCAGGT\n",
      "ENA|MN988713|MN988713.1 ATTAAAGGTTTATACCTTCCCAGGT\n",
      "ENA|MN994467|MN994467.1 ATTAAAGGTTTATACCTTCCCAGGT\n",
      "ENA|MN994468|MN994468.1 ATTAAAGGTTTATACCTTCCCAGGT\n",
      "ENA|MN997409|MN997409.1 ATTAAAGGTTTATACCTTCCCAGGT\n",
      "\n"
     ]
    },
    {
     "ename": "FileNotFoundError",
     "evalue": "[Errno 2] No such file or directory: '../data/2019nCoV_genomes.2020_03_27.fa'",
     "output_type": "error",
     "traceback": [
      "\u001b[0;31m---------------------------------------------------------------------------\u001b[0m",
      "\u001b[0;31mFileNotFoundError\u001b[0m                         Traceback (most recent call last)",
      "\u001b[0;32m<ipython-input-42-c542768b00f3>\u001b[0m in \u001b[0;36m<module>\u001b[0;34m\u001b[0m\n\u001b[1;32m      8\u001b[0m \u001b[0;34m\u001b[0m\u001b[0m\n\u001b[1;32m      9\u001b[0m \u001b[0mfilename_genomes_2\u001b[0m\u001b[0;34m=\u001b[0m \u001b[0;34m'../data/2019nCoV_genomes.2020_03_27.fa'\u001b[0m\u001b[0;34m\u001b[0m\u001b[0;34m\u001b[0m\u001b[0m\n\u001b[0;32m---> 10\u001b[0;31m \u001b[0mgenome_list_2\u001b[0m\u001b[0;34m=\u001b[0m \u001b[0mread_fasta\u001b[0m\u001b[0;34m(\u001b[0m\u001b[0mfilename_genomes_2\u001b[0m\u001b[0;34m)\u001b[0m\u001b[0;34m\u001b[0m\u001b[0;34m\u001b[0m\u001b[0m\n\u001b[0m\u001b[1;32m     11\u001b[0m \u001b[0;32mfor\u001b[0m \u001b[0mg_h\u001b[0m\u001b[0;34m,\u001b[0m \u001b[0mg_seq\u001b[0m \u001b[0;32min\u001b[0m \u001b[0mgenome_list_2\u001b[0m\u001b[0;34m.\u001b[0m\u001b[0mitems\u001b[0m\u001b[0;34m(\u001b[0m\u001b[0;34m)\u001b[0m\u001b[0;34m:\u001b[0m\u001b[0;34m\u001b[0m\u001b[0;34m\u001b[0m\u001b[0m\n\u001b[1;32m     12\u001b[0m     \u001b[0mprint\u001b[0m\u001b[0;34m(\u001b[0m\u001b[0mg_h\u001b[0m\u001b[0;34m.\u001b[0m\u001b[0msplit\u001b[0m\u001b[0;34m(\u001b[0m\u001b[0;34m)\u001b[0m\u001b[0;34m[\u001b[0m\u001b[0;36m0\u001b[0m\u001b[0;34m]\u001b[0m\u001b[0;34m,\u001b[0m \u001b[0mg_seq\u001b[0m\u001b[0;34m[\u001b[0m\u001b[0;34m:\u001b[0m\u001b[0;36m25\u001b[0m\u001b[0;34m]\u001b[0m\u001b[0;34m)\u001b[0m\u001b[0;34m\u001b[0m\u001b[0;34m\u001b[0m\u001b[0m\n",
      "\u001b[0;32m<ipython-input-28-9d58018d7a98>\u001b[0m in \u001b[0;36mread_fasta\u001b[0;34m(tmp_filename)\u001b[0m\n\u001b[1;32m      2\u001b[0m \u001b[0;32mdef\u001b[0m \u001b[0mread_fasta\u001b[0m\u001b[0;34m(\u001b[0m\u001b[0mtmp_filename\u001b[0m\u001b[0;34m)\u001b[0m\u001b[0;34m:\u001b[0m\u001b[0;34m\u001b[0m\u001b[0;34m\u001b[0m\u001b[0m\n\u001b[1;32m      3\u001b[0m     \u001b[0mrv\u001b[0m \u001b[0;34m=\u001b[0m \u001b[0mdict\u001b[0m\u001b[0;34m(\u001b[0m\u001b[0;34m)\u001b[0m\u001b[0;34m\u001b[0m\u001b[0;34m\u001b[0m\u001b[0m\n\u001b[0;32m----> 4\u001b[0;31m     \u001b[0mf\u001b[0m \u001b[0;34m=\u001b[0m \u001b[0mopen\u001b[0m\u001b[0;34m(\u001b[0m\u001b[0mtmp_filename\u001b[0m\u001b[0;34m,\u001b[0m \u001b[0;34m'r'\u001b[0m\u001b[0;34m)\u001b[0m\u001b[0;34m\u001b[0m\u001b[0;34m\u001b[0m\u001b[0m\n\u001b[0m\u001b[1;32m      5\u001b[0m     \u001b[0;32mfor\u001b[0m \u001b[0mline\u001b[0m \u001b[0;32min\u001b[0m \u001b[0mf\u001b[0m\u001b[0;34m:\u001b[0m\u001b[0;34m\u001b[0m\u001b[0;34m\u001b[0m\u001b[0m\n\u001b[1;32m      6\u001b[0m         \u001b[0;32mif\u001b[0m \u001b[0mline\u001b[0m\u001b[0;34m.\u001b[0m\u001b[0mstartswith\u001b[0m\u001b[0;34m(\u001b[0m\u001b[0;34m'>'\u001b[0m\u001b[0;34m)\u001b[0m\u001b[0;34m:\u001b[0m\u001b[0;34m\u001b[0m\u001b[0;34m\u001b[0m\u001b[0m\n",
      "\u001b[0;31mFileNotFoundError\u001b[0m: [Errno 2] No such file or directory: '../data/2019nCoV_genomes.2020_03_27.fa'"
     ]
    }
   ],
   "source": [
    "# Read genomes\n",
    "filename_genomes_1 = '../data/2019nCoV_genomes.2020_02_03.fa'\n",
    "genome_list_1 = read_fasta(filename_genomes_1)\n",
    "for g_h, g_seq in genome_list_1.items():\n",
    "    print(g_h.split()[0], g_seq[:25])\n",
    "\n",
    "print(\"\"\"\"\"\")\n",
    "\n",
    "filename_genomes_2= '../data/2019nCoV_genomes.2020_03_27.fa'\n",
    "genome_list_2= read_fasta(filename_genomes_2)\n",
    "for g_h, g_seq in genome_list_2.items():\n",
    "    print(g_h.split()[0], g_seq[:25])"
   ]
  },
  {
   "cell_type": "code",
   "execution_count": 43,
   "metadata": {},
   "outputs": [],
   "source": [
    "# The function to get the reverse complementary sequences\n",
    "rc = {'A': 'T', 'T': 'A', 'G': 'C', 'C': 'G'}\n",
    "def revcomp(tmp_seq):\n",
    "    rv = []\n",
    "    for tmp_n in tmp_seq[::-1]:\n",
    "        rv.append(rc[tmp_n])\n",
    "    return ''.join(rv)\n",
    "    \n",
    "    return ''.join([rc[x] for x in tmp_seq[::-1]])"
   ]
  },
  {
   "cell_type": "code",
   "execution_count": 33,
   "metadata": {},
   "outputs": [],
   "source": [
    "#Q1.What is the length of amplicons generated by primers? Are they all same among the genomes?\n",
    "def primer_amplicon(F_primer, genome):\n",
    "    if F_primer in genome:\n",
    "        F_index=genome.index(F_primer)"
   ]
  },
  {
   "cell_type": "code",
   "execution_count": 57,
   "metadata": {},
   "outputs": [
    {
     "name": "stdout",
     "output_type": "stream",
     "text": [
      "['2019-nCoV_N1', '2019-nCoV_N1', '2019-nCoV_N1', '2019-nCoV_N2', '2019-nCoV_N2', '2019-nCoV_N2', '2019-nCoV_N3', '2019-nCoV_N3', '2019-nCoV_N3', 'RP', 'RP', 'RP']\n"
     ]
    }
   ],
   "source": [
    "primer_names=[primer_name[:-2] for primer_name in primer_list_1.keys()]\n",
    "print(primer_names)"
   ]
  },
  {
   "cell_type": "code",
   "execution_count": null,
   "metadata": {},
   "outputs": [],
   "source": []
  },
  {
   "cell_type": "code",
   "execution_count": null,
   "metadata": {},
   "outputs": [],
   "source": []
  }
 ],
 "metadata": {
  "kernelspec": {
   "display_name": "Python 3",
   "language": "python",
   "name": "python3"
  },
  "language_info": {
   "codemirror_mode": {
    "name": "ipython",
    "version": 3
   },
   "file_extension": ".py",
   "mimetype": "text/x-python",
   "name": "python",
   "nbconvert_exporter": "python",
   "pygments_lexer": "ipython3",
   "version": "3.7.6"
  }
 },
 "nbformat": 4,
 "nbformat_minor": 4
}
