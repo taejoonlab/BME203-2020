{
 "cells": [
  {
   "cell_type": "code",
   "execution_count": 3,
   "metadata": {},
   "outputs": [],
   "source": [
    "def read_fasta(tmp_filename):\n",
    "    rv = dict()\n",
    "    f = open(tmp_filename, 'r')\n",
    "    for line in f:\n",
    "        if line.startswith('>'):\n",
    "            tmp_h = line.strip().lstrip('>')\n",
    "            rv[tmp_h] = ''\n",
    "        else:\n",
    "            rv[tmp_h] += line.strip().replace(' ', '')\n",
    "    f.close()\n",
    "    return rv"
   ]
  },
  {
   "cell_type": "code",
   "execution_count": 4,
   "metadata": {},
   "outputs": [],
   "source": [
    "#1. Read GCF_009858895.2 genomic info\n",
    "genome_fna_file= '../data/GCF_009858895.2_ASM985889v3_genomic.fna'\n",
    "genome_gff_file= '../data/GCF_009858895.2_ASM985889v3_genomic.gff'\n",
    "\n",
    "N_protein_locations = [[] for _ in range(1)]\n",
    "gff_file_data=open(genome_gff_file,'r')\n",
    "fna_file_data=open(genome_gff_file,'r')\n",
    "count=0\n",
    "count_a=0\n",
    "#2. Make N-protein cDNA sequence.\n",
    "a=gff_file_data.readlines()\n",
    "for j in range(len(a)):\n",
    "    if a[j].find('Name=N')!=-1:\n",
    "        count+=1\n",
    "N_protein_locations = [[] for _ in range(count)]\n",
    "for i in range(len(a)):\n",
    "    if a[i].find('Name=N')!=-1:\n",
    "        b=[int(a[i].split()[3])-1, int(a[i].split()[4])-1]\n",
    "        N_protein_locations[count_a].append(b)\n",
    "        count_a+=1"
   ]
  },
  {
   "cell_type": "code",
   "execution_count": 12,
   "metadata": {},
   "outputs": [],
   "source": [
    "#2. Make N-protein cDNA sequence.\n",
    "ab=read_fasta(genome_fna_file)\n",
    "ofile = open(\"20171224NcDNA.fa\", \"w\")\n",
    "for seq in ab.values():\n",
    "    for k in range(count):\n",
    "        b=seq[N_protein_locations[k][0][0]:N_protein_locations[k][0][1]+1]\n",
    "        ofile.write(\">\" + 'N-protein' + \"\\n\" +''.join(b)+\"\\n\")\n",
    "ofile.close()"
   ]
  },
  {
   "cell_type": "code",
   "execution_count": 6,
   "metadata": {},
   "outputs": [],
   "source": [
    "#3. Translate it to protein sequence.\n",
    "# transeq --sequence 20171224NcDNA.fa --outseq 20171224protein.fa\n",
    "maaaaaaaa_protein = '20171224protein.fa'\n",
    "ma_protein = read_fasta(maaaaaaaa_protein)"
   ]
  },
  {
   "cell_type": "code",
   "execution_count": 7,
   "metadata": {},
   "outputs": [
    {
     "name": "stdout",
     "output_type": "stream",
     "text": [
      "Nprotein sequence and GCF_009858895.2_ASM985889v3_protein.faa are the same.\n"
     ]
    }
   ],
   "source": [
    "#Q1. Compare it to GCF_009858895.2_ASM985889v3_protein.fna. Are they same?\n",
    "protein_fna_file= '../data/GCF_009858895.2_ASM985889v3_protein.faa'\n",
    "protein_info=read_fasta(protein_fna_file)\n",
    "protein_name=[]\n",
    "protein_sequence=[]\n",
    "for p_n, p_seq in protein_info.items():\n",
    "    if p_n.find('nucleocapsid')!=-1:\n",
    "        protein_name.append(p_n)\n",
    "        protein_sequence.append(p_seq)\n",
    "a=''.join(ma_protein.values())\n",
    "b=a.replace('*','')\n",
    "if b==''.join(protein_sequence):\n",
    "    print('Nprotein sequence and GCF_009858895.2_ASM985889v3_protein.faa are the same.')"
   ]
  },
  {
   "cell_type": "code",
   "execution_count": 8,
   "metadata": {},
   "outputs": [],
   "source": [
    "#Q2,Q3. getting similarities\n",
    "def read_blastresult(blast_file):\n",
    "    Genome_blast=open(blast_file,'r')\n",
    "    fahaha=Genome_blast.readlines()\n",
    "    qt=0\n",
    "    perfect_match_list=[]\n",
    "    percentage=[]\n",
    "    name=[]\n",
    "    max_name=[]\n",
    "    min_name=[]\n",
    "    for z in range(len(fahaha)):\n",
    "        az=fahaha[z].split()\n",
    "        percentage.append(float(az[2]))\n",
    "        name.append(az[1])\n",
    "        az=''\n",
    "    for i in range(len(fahaha)):\n",
    "        if percentage[i]==max(percentage):\n",
    "            max_name.append(name[i])\n",
    "        elif percentage[i]==min(percentage):\n",
    "            min_name.append(name[i])\n",
    "    return print(max_name, \"has highest similarity of \",max(percentage)),print(min_name, \"has the lowest similarity of \",min(percentage))"
   ]
  },
  {
   "cell_type": "code",
   "execution_count": 13,
   "metadata": {},
   "outputs": [
    {
     "name": "stdout",
     "output_type": "stream",
     "text": [
      "The result of N proteins cDNA and SARS_nCoV DNA compared\n",
      "['MT049951', 'MT066176', 'MT066175', 'MT072688', 'MT093571', 'MT093631', 'MT123292', 'LC528232', 'LC528233', 'MT126808', 'MT135044', 'MT135042', 'MT135041', 'MT152824', 'MT050493', 'MT012098', 'MT066156', 'MT121215', 'MT163718', 'MT163717', 'MT163716', 'MT163719', 'MT192773', 'MT192759', 'MT192765', 'MT192772', 'MT240479', 'MT246490', 'MT246489', 'MT246488', 'MT246487', 'MT246486', 'MT246484', 'MT246482', 'MT246481', 'MT246480', 'MT246479', 'MT246478', 'MT246477', 'MT246476', 'MT246475', 'MT246474', 'MT246473', 'MT246472', 'MT246471', 'MT246469', 'MT246468', 'MT246467', 'MT246466', 'MT246464', 'MT246462', 'MT246461', 'MT246460', 'MT246459', 'MT246458', 'MT246457', 'MT246455', 'MT246453', 'MT246452', 'MT246450', 'MT246449'] has highest similarity of  100.0\n",
      "['MT233522', 'MT246470', 'MT246451'] has the lowest similarity of  99.762\n",
      "The result of N proteins proteins and SARS_nCoV protein compared \n",
      "['MT049951_2', 'MT066176_2', 'MT066175_2', 'MT072688_2', 'MT093571_2', 'MT093631_1', 'MT123293_2', 'MT123291_2', 'MT123292_2', 'LC528232_2', 'LC528233_1', 'MT126808_2', 'MT135044_2', 'MT135042_2', 'MT135041_2', 'MT152824_3', 'MT050493_3', 'MT012098_1', 'MT066156_2', 'MT121215_2', 'MT163718_2', 'MT163717_2', 'MT163716_2', 'MT163719_2', 'MT192773_1', 'MT192759_2', 'MT192765_1', 'MT192772_2', 'MT240479_2', 'MT246490_3', 'MT246489_3', 'MT246488_2', 'MT246487_1', 'MT246486_3', 'MT246484_3', 'MT246482_2', 'MT246481_3', 'MT246480_1', 'MT246479_3', 'MT246478_1', 'MT246477_1', 'MT246476_2', 'MT246475_3', 'MT246474_1', 'MT246473_3', 'MT246472_1', 'MT246471_3', 'MT246469_1', 'MT246468_2', 'MT246467_2', 'MT246466_2', 'MT246464_2', 'MT246462_2', 'MT246461_3', 'MT246460_2', 'MT246459_2', 'MT246458_2', 'MT246457_3', 'MT246455_2', 'MT246454_2', 'MT246453_3', 'MT246452_1', 'MT246450_1', 'MT246449_3'] has highest similarity of  100.0\n",
      "['MT233522_2', 'MT246470_2', 'MT246451_2'] has the lowest similarity of  99.524\n",
      "The result of N proteins proteins and MERS protein compared\n",
      "['KX574227.1_3'] has highest similarity of  50.142\n",
      "['KX108941.1_2'] has the lowest similarity of  43.333\n",
      "The result of N proteins proteins and SARS protein compared\n",
      "['KU973692.1_3', 'DQ898174.1_1', 'FJ882949.1_1', 'FJ882934.1_3', 'FJ882937.1_2', 'FJ882935.1_1', 'FJ882933.1_2', 'FJ882947.1_3', 'FJ882946.1_1', 'FJ882927.1_2', 'FJ882932.1_3', 'FJ882939.1_3', 'FJ882936.1_3', 'FJ882938.1_2', 'FJ882941.1_1', 'FJ882929.1_1', 'FJ882944.1_3', 'FJ882940.1_3', 'FJ882954.1_2', 'FJ882960.1_3', 'FJ882955.1_3', 'FJ882931.1_3', 'FJ882928.1_2', 'FJ882926.1_2', 'FJ882930.1_2', 'AY362698.1_1', 'AY394850.2_2'] has highest similarity of  90.544\n",
      "['DQ084200.1_3', 'DQ022305.2_2'] has the lowest similarity of  89.573\n"
     ]
    },
    {
     "data": {
      "text/plain": [
       "(None, (None, None))"
      ]
     },
     "execution_count": 13,
     "metadata": {},
     "output_type": "execute_result"
    }
   ],
   "source": [
    "#4. Based on this info, extract N proteins cDNA/proteins from other SARS-CoV-2 genomes\n",
    "# transeq --sequence ../data/2019nCoV_genomes.2020_03_27.fa --outseq 2019nCoV_genomes.2020_03_27.protein.fa\n",
    "# makeblastdb -dbtype prot -in 2019nCoV_genomes.2020_03_27.protein.fa -out 2019nCoV_genomes.2020_03_27.protein.blastdb\n",
    "# blastp -db 2019nCoV_genomes.2020_03_27.protein.blastdb -query 20171224NcDNA.fa -out 20171224N_protein_nCoV.out -outfmt 6\n",
    "#Q2. Which pairs are most similar ones? Which pairs are most different ones?\n",
    "print(\"The result of N proteins cDNA and SARS_nCoV DNA compared\"),read_blastresult('20171224N_cDNA_nCoV.out')\n",
    "print(\"The result of N proteins proteins and SARS_nCoV protein compared \"),read_blastresult('20171224N_protein_nCoV.out')\n",
    "#5. Based on this info, extract N proteins cDNA/proteins from other SARS & MERS genomes.\n",
    "#Q3. Which protein is most similar to SARS-CoV N protein? Which protein is most different to MERS N protein?\n",
    "#print(\"The result of N proteins cDNA and MERS DNA compared\"),read_blastresult('20171224N_cDNA_MERS.out')\n",
    "print(\"The result of N proteins proteins of SARS-CoV-2 and MERS protein compared\"),read_blastresult('20171224N_protein_MERS.out')\n",
    "#print(\"The result of N proteins cDNA and SARS DNA compared\"),read_blastresult('20171224N_cDNA_SARS.out')\n",
    "print(\"The result of N proteins proteins of SARS-CoV-2 and SARS protein compared\"),read_blastresult('20171224N_protein_SARS.out')"
   ]
  },
  {
   "cell_type": "code",
   "execution_count": 10,
   "metadata": {},
   "outputs": [
    {
     "name": "stdout",
     "output_type": "stream",
     "text": [
      "RDRPprotein sequence is included in GCF_009858895.2_ASM985889v3_protein.fna.\n"
     ]
    }
   ],
   "source": [
    "#optional question. repeat the previous procedure with RDRP instead of N protein\n",
    "abc='SARS_CoV_RNA-dependent_RNA _polymerase.fa.txt'\n",
    "fh=open(abc,'r')\n",
    "line=fh.readline()\n",
    "title=''\n",
    "sequence=''\n",
    "while line:\n",
    "    line=line.rstrip('\\n')\n",
    "    if '>' in line:\n",
    "        title=line\n",
    "    else:\n",
    "        sequence=sequence+line\n",
    "    line=fh.readline()\n",
    "protein_fna_file= '../data/GCF_009858895.2_ASM985889v3_protein.faa'\n",
    "protein_info=read_fasta(protein_fna_file)\n",
    "protein_name=[]\n",
    "protein_sequence=[]\n",
    "for p_seq in protein_info.values():\n",
    "    if sequence in p_seq:\n",
    "        print('RDRPprotein sequence is included in GCF_009858895.2_ASM985889v3_protein.fna.')\n",
    "RDRPfile = open(\"20171224RDRP.fa\", \"w\")\n",
    "RDRPfile.write(title + \"\\n\" +sequence+\"\\n\")\n",
    "RDRPfile.close()"
   ]
  },
  {
   "cell_type": "code",
   "execution_count": 11,
   "metadata": {},
   "outputs": [
    {
     "name": "stdout",
     "output_type": "stream",
     "text": [
      "The result of N proteins cDNA and SARS_nCoV compared\n",
      "['MT049951', 'MT066176', 'MT066175', 'MT072688', 'MT093571', 'MT093631', 'MT123293', 'MT123291', 'MT123290', 'MT123292', 'LC528232', 'LC528233', 'MT126808', 'MT135044', 'MT135043', 'MT135042', 'MT135041', 'MT152824', 'MT050493', 'MT066156', 'MT121215', 'MT163718', 'MT163717', 'MT163716', 'MT163719', 'MT192773', 'MT192759', 'MT192772', 'MT233523', 'MT233519', 'MT240479', 'MT246489', 'MT246488', 'MT246486', 'MT246485', 'MT246482', 'MT246479', 'MT246478', 'MT246477', 'MT246476', 'MT246475', 'MT246474', 'MT246473', 'MT246472', 'MT246471', 'MT246469', 'MT246466', 'MT246464', 'MT246462', 'MT246461', 'MT246459', 'MT246458', 'MT246457', 'MT246456', 'MT246455', 'MT246454', 'MT246452'] has highest similarity of  99.784\n",
      "['MT246451'] has the lowest similarity of  99.568\n",
      "The result of N proteins proteins and SARS_nCoV compared \n",
      "['MT233523_1', 'MT233519_1', 'MT240479_1', 'MT246486_2', 'MT246482_1', 'MT246476_1', 'MT246471_2', 'MT246464_1', 'MT246457_2', 'MT246455_1', 'MT135044_1', 'MT135043_1', 'MT135042_1', 'MT135041_1', 'MT152824_2', 'MT050493_2', 'MT163718_1', 'MT163719_1', 'MT246489_2', 'MT246488_1', 'MT246479_2', 'MT246478_3', 'MT246477_3', 'MT246475_2', 'MT246474_3', 'MT246473_2', 'MT246466_1', 'MT246462_1', 'MT246461_2', 'MT246459_1', 'MT246456_1', 'MT246452_3', 'MT049951_1', 'MT066176_1', 'MT066175_1', 'MT072688_1', 'MT093571_1', 'MT093631_3', 'MT123293_1', 'MT123291_1', 'MT123290_1', 'MT123292_1', 'LC528232_1', 'LC528233_3', 'MT126808_1', 'MT066156_1', 'MT163717_1', 'MT192773_3', 'MT192759_1', 'MT192772_1', 'MT246472_3', 'MT246469_3', 'MT246458_1', 'MT246454_1', 'MT121215_1', 'MT163716_1', 'MT246485_2'] has highest similarity of  99.784\n",
      "['MT246451_1'] has the lowest similarity of  99.568\n",
      "The result of N proteins cDNA and MERS compared\n",
      "['ENA|MG021452|MG021452.1'] has highest similarity of  71.798\n",
      "['ENA|KC869678|KC869678.4'] has the lowest similarity of  71.044\n",
      "The result of N proteins proteins and MERS compared\n",
      "['MG021452.1_3'] has highest similarity of  71.798\n",
      "['MG596802.1_3'] has the lowest similarity of  70.802\n",
      "The result of N proteins cDNA and SARS compared\n",
      "['ENA|KU973692|KU973692.1', 'ENA|DQ898174|DQ898174.1', 'ENA|FJ882949|FJ882949.1', 'ENA|FJ882934|FJ882934.1', 'ENA|FJ882937|FJ882937.1', 'ENA|FJ882935|FJ882935.1', 'ENA|FJ882933|FJ882933.1', 'ENA|FJ882947|FJ882947.1', 'ENA|FJ882946|FJ882946.1', 'ENA|FJ882927|FJ882927.1', 'ENA|FJ882932|FJ882932.1', 'ENA|FJ882936|FJ882936.1', 'ENA|AB257344|AB257344.1', 'ENA|FJ882938|FJ882938.1', 'ENA|FJ882941|FJ882941.1', 'ENA|FJ882950|FJ882950.1', 'ENA|FJ882944|FJ882944.1', 'ENA|FJ882940|FJ882940.1', 'ENA|FJ882960|FJ882960.1', 'ENA|FJ882955|FJ882955.1', 'ENA|FJ882931|FJ882931.1', 'ENA|FJ882928|FJ882928.1', 'ENA|FJ882926|FJ882926.1', 'ENA|FJ882930|FJ882930.1', 'ENA|AY686863|AY686863.1', 'ENA|AY310120|AY310120.1', 'ENA|AY686864|AY686864.1', 'ENA|AY394850|AY394850.2', 'ENA|AY362698|AY362698.1', 'ENA|FJ882954|FJ882954.1', 'ENA|FJ882929|FJ882929.1'] has highest similarity of  96.324\n",
      "['ENA|DQ084200|DQ084200.1', 'ENA|DQ084199|DQ084199.1', 'ENA|DQ022305|DQ022305.2'] has the lowest similarity of  95.568\n",
      "The result of N proteins proteins and SARS compared\n",
      "['KU973692.1_3', 'AY394850.2_3', 'FJ882941.1_3', 'DQ898174.1_3', 'FJ882934.1_2', 'FJ882937.1_1', 'FJ882935.1_3', 'FJ882933.1_1', 'FJ882946.1_3', 'FJ882927.1_1', 'FJ882932.1_2', 'FJ882936.1_2', 'FJ882938.1_1', 'FJ882929.1_3', 'FJ882950.1_2', 'FJ882940.1_2', 'FJ882954.1_1', 'FJ882960.1_2', 'FJ882931.1_2', 'FJ882928.1_1', 'FJ882926.1_1', 'FJ882930.1_1', 'AY686863.1_3', 'AY686864.1_1', 'FJ882949.1_3', 'FJ882947.1_2', 'FJ882944.1_2', 'FJ882955.1_2', 'AY310120.1_3', 'AY362698.1_3', 'AB257344.1_1'] has highest similarity of  96.324\n",
      "['DQ084200.1_1', 'DQ084199.1_1', 'DQ022305.2_3'] has the lowest similarity of  95.568\n"
     ]
    },
    {
     "data": {
      "text/plain": [
       "(None, (None, None))"
      ]
     },
     "execution_count": 11,
     "metadata": {},
     "output_type": "execute_result"
    }
   ],
   "source": [
    "print(\"The result of N proteins cDNA and SARS_nCoV compared\"),read_blastresult('20171224RDRP_cDNA_nCoV.out')\n",
    "print(\"The result of N proteins proteins and SARS_nCoV compared \"),read_blastresult('20171224RDRP_protein_nCoV.out')\n",
    "print(\"The result of N proteins cDNA and MERS compared\"),read_blastresult('20171224RDRP_cDNA_MERS.out')\n",
    "print(\"The result of N proteins proteins and MERS compared\"),read_blastresult('20171224RDRP_protein_MERS.out')\n",
    "print(\"The result of N proteins cDNA and SARS compared\"),read_blastresult('20171224RDRP_cDNA_SARS.out')\n",
    "print(\"The result of N proteins proteins and SARS compared\"),read_blastresult('20171224RDRP_protein_SARS.out')"
   ]
  },
  {
   "cell_type": "code",
   "execution_count": null,
   "metadata": {},
   "outputs": [],
   "source": []
  }
 ],
 "metadata": {
  "kernelspec": {
   "display_name": "Python 3",
   "language": "python",
   "name": "python3"
  },
  "language_info": {
   "codemirror_mode": {
    "name": "ipython",
    "version": 3
   },
   "file_extension": ".py",
   "mimetype": "text/x-python",
   "name": "python",
   "nbconvert_exporter": "python",
   "pygments_lexer": "ipython3",
   "version": "3.7.6"
  }
 },
 "nbformat": 4,
 "nbformat_minor": 4
}
