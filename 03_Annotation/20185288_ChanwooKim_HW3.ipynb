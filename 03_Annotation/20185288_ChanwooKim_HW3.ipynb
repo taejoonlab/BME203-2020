{
 "cells": [
  {
   "cell_type": "raw",
   "metadata": {},
   "source": [
    "# Homework 03. Chanwoo Kim (student ID:20185288)"
   ]
  },
  {
   "cell_type": "code",
   "execution_count": 1,
   "metadata": {},
   "outputs": [
    {
     "name": "stdout",
     "output_type": "stream",
     "text": [
      "The history saving thread hit an unexpected error (DatabaseError('database disk image is malformed')).History will not be written to the database.\n"
     ]
    }
   ],
   "source": [
    "# The function to read sequences from a FASTA file\n",
    "def read_fasta(tmp_filename):\n",
    "    rv = dict()\n",
    "    f = open(tmp_filename, 'r')\n",
    "    for line in f:\n",
    "        if line.startswith('>'):\n",
    "            tmp_h = line.strip().lstrip('>')\n",
    "            rv[tmp_h] = ''\n",
    "        else:\n",
    "            rv[tmp_h] += line.strip().replace(' ', '')\n",
    "    f.close()\n",
    "    return rv"
   ]
  },
  {
   "cell_type": "code",
   "execution_count": 20,
   "metadata": {},
   "outputs": [
    {
     "name": "stdout",
     "output_type": "stream",
     "text": [
      "genomic region that translates N-protein\n",
      " NC_045512.2 ATGTCTGATAATGGACCCCAAAATCAGCGAAATGCACCCCGCATTACGTTTGGTGGACCCTCAGATTCAACTGGCAGTAACCAGAATGGAGAACGCAGTGGGGCGCGATCAAAACAACGTCGGCCCCAAGGTTTACCCAATAATACTGCGTCTTGGTTCACCGCTCTCACTCAACATGGCAAGGAAGACCTTAAATTCCCTCGAGGACAAGGCGTTCCAATTAACACCAATAGCAGTCCAGATGACCAAATTGGCTACTACCGAAGAGCTACCAGACGAATTCGTGGTGGTGACGGTAAAATGAAAGATCTCAGTCCAAGATGGTATTTCTACTACCTAGGAACTGGGCCAGAAGCTGGACTTCCCTATGGTGCTAACAAAGACGGCATCATATGGGTTGCAACTGAGGGAGCCTTGAATACACCAAAAGATCACATTGGCACCCGCAATCCTGCTAACAATGCTGCAATCGTGCTACAACTTCCTCAAGGAACAACATTGCCAAAAGGCTTCTACGCAGAAGGGAGCAGAGGCGGCAGTCAAGCCTCTTCTCGTTCCTCATCACGTAGTCGCAACAGTTCAAGAAATTCAACTCCAGGCAGCAGTAGGGGAACTTCTCCTGCTAGAATGGCTGGCAATGGCGGTGATGCTGCTCTTGCTTTGCTGCTGCTTGACAGATTGAACCAGCTTGAGAGCAAAATGTCTGGTAAAGGCCAACAACAACAAGGCCAAACTGTCACTAAGAAATCTGCTGCTGAGGCTTCTAAGAAGCCTCGGCAAAAACGTACTGCCACTAAAGCATACAATGTAACACAAGCTTTCGGCAGACGTGGTCCAGAACAAACCCAAGGAAATTTTGGGGACCAGGAACTAATCAGACAAGGAACTGATTACAAACATTGGCCGCAAATTGCACAATTTGCCCCCAGCGCTTCAGCGTTCTTCGGAATGTCGCGCATTGGCATGGAAGTCACACCTTCGGGAACGTGGTTGACCTACACAGGTGCCATCAAATTGGATGACAAAGATCCAAATTTCAAAGATCAAGTCATTTTGCTGAATAAGCATATTGACGCATACAAAACATTCCCACCAACAGAGCCTAAAAAGGACAAAAAGAAGAAGGCTGATGAAACTCAAGCCTTACCGCAGAGACAGAAGAAACAGCAAACTGTGACTCTTCTTCCTGCTGCAGATTTGGATGATTTCTCCAAACAATTGCAACAATCCATGAGCAGTGCTGACTCAACTCAGGCCTAA\n",
      "NC_045512.2\n"
     ]
    }
   ],
   "source": [
    "# Q1. Compare it to GCF_009858895.2_ASM985889v3_protein.fna\n",
    "f1 = open(\"GCF_009858895.2_ASM985889v3_genomic.gff\", \"r\")\n",
    "NproteinID = 'YP_009724397.2'\n",
    "lines1=f1.readlines()\n",
    "f1.close()\n",
    "\n",
    "GCF_009858895_genome= \"GCF_009858895.2_ASM985889v3_genomic.fna\"\n",
    "GCF_009858895_genome=read_fasta(GCF_009858895_genome)\n",
    "NproteinStart=int()\n",
    "NproteinEnd=int()\n",
    "for line in lines1[7:]:\n",
    "    if \"#\" not in line and NproteinID in line.split()[8]:\n",
    "        NproteinStart=int(line.split()[3])\n",
    "        NproteinEnd=int(line.split()[4])\n",
    "\n",
    "Nproteinseq=str()\n",
    "for gID, gseq in GCF_009858895_genome.items():\n",
    "    Nproteinseq=gseq[NproteinStart-1:NproteinEnd]\n",
    "    print('genomic region that translates N-protein\\n', gID.split()[0], Nproteinseq)\n",
    "genomef = open(\"NproteinGenome.fna\",\"w\")\n",
    "genomeID = gID.split()[0]\n",
    "fastaID=\">\"+gID.split()[0]+ \"Nproteinseq\\n\"\n",
    "genomef.write(fastaID)\n",
    "genomef.write(Nproteinseq)\n",
    "genomef.close()\n",
    "#The following codes were typed in ubuntu to get the blastp output of the output of the script.\n",
    "#transeq --sequence NproteinGenome.fna --outseq NproteinGenome_trans6.fa -frame 6\n",
    "\n",
    "#makeblastdb -dbtype prot -in NproteinGenome_trans6.fa -out NproteinGenome_trans6\n",
    "\n",
    "#blastp -db NproteinGenome_trans6 -query GCF_009858895.2_ASM985889v3_protein.faa -outfmt 7 -out NproteinGenome_trans6.tbl"
   ]
  },
  {
   "cell_type": "code",
   "execution_count": 33,
   "metadata": {},
   "outputs": [
    {
     "name": "stdout",
     "output_type": "stream",
     "text": [
      "NC_045512.2_1 is one of the 6-frame translated genome that translates YP_009724397.2 with 100.000 % identity\n"
     ]
    }
   ],
   "source": [
    "# Q1. Compare it to GCF_009858895.2_ASM985889v3_protein.fna\n",
    "#This code basically produces the output of blastp for N protein.\n",
    "f = open(\"NproteinGenome_trans6.tbl\", \"r\")\n",
    "NproteinID = 'YP_009724397.2'\n",
    "lines=f.readlines()\n",
    "for line in lines:\n",
    "    if line.split()[0]=='YP_009724397.2' and float(line.split()[2])>95:\n",
    "        print(line.split()[1], 'is one of the 6-frame translated genome that translates', line.split()[0], 'with', line.split()[2], '% identity')\n",
    "f.close()\n",
    "#The steps before the Q2\n",
    "# extract N proteins cDNA/proteins from other SARS-CoV2 genomes \n",
    "# makeblastdb -dbtype nucl -in 2019nCoV_genomes.2020_02_03.fa -out 2019nCoV_genomes.2020_02_03.blastdb\n",
    "# blastn -db 2019nCoV_genomes.2020_02_03.blastdb -query NproteinGenome.fna -out 2019nCoV_genomes.2020_02_03.blastn.out -outfmt7\n",
    "\n"
   ]
  },
  {
   "cell_type": "code",
   "execution_count": 31,
   "metadata": {},
   "outputs": [
    {
     "name": "stdout",
     "output_type": "stream",
     "text": [
      "The most similar ones to NC_045512.2 are ENA|MN994468|MN994468.1 with 100.000 identity\n",
      "The most similar ones to NC_045512.2 are ENA|MN985325|MN985325.1 with 100.000 identity\n",
      "The most similar ones to NC_045512.2 are ENA|MN908947|MN908947.3 with 100.000 identity\n",
      "The most similar ones to NC_045512.2 are ENA|MN996531|MN996531.1 with 100.000 identity\n",
      "The most similar ones to NC_045512.2 are ENA|MN996530|MN996530.1 with 100.000 identity\n",
      "The most similar ones to NC_045512.2 are ENA|MN996529|MN996529.1 with 100.000 identity\n",
      "The most similar ones to NC_045512.2 are ENA|MN996528|MN996528.1 with 100.000 identity\n",
      "The most similar ones to NC_045512.2 are ENA|MN996527|MN996527.1 with 100.000 identity\n",
      "The most similar ones to NC_045512.2 are ENA|MN988669|MN988669.1 with 100.000 identity\n",
      "The most similar ones to NC_045512.2 are ENA|MN988668|MN988668.1 with 100.000 identity\n",
      "Different ones to NC_045512.2 are ENA|MN988713|MN988713.1 with 99.921 identity\n",
      "Different ones to NC_045512.2 are ENA|MN997409|MN997409.1 with 99.921 identity\n",
      "Different ones to NC_045512.2 are ENA|MN994467|MN994467.1 with 99.921 identity\n",
      "Different ones to NC_045512.2 are ENA|MN975262|MN975262.1 with 99.921 identity\n",
      "Different ones to NC_045512.2 are ENA|MN938384|MN938384.1 with 99.921 identity\n",
      "These genomes have the same origin {'WIV07,', 'WIV04,', 'WIV06,', 'WIV02,', 'WIV05,'}\n",
      "These genomes have the same origin {'2019-nCoV/USA-CA2/2020,', '2019-nCoV/USA-IL1/2020,', '2019-nCoV/USA-AZ1/2020,', '2019-nCoV/USA-CA1/2020,', '2019-nCoV/USA-WA1/2020,'}\n",
      "These genomes have the same origin {'Wuhan-Hu-1,'}\n",
      "These genomes have the same origin {'2019-nCoV_HKU-SZ-002a_2020,', '2019-nCoV_HKU-SZ-005b_2020,'}\n",
      "These genomes have the same origin {'2019-nCoV'}\n"
     ]
    }
   ],
   "source": [
    "# Q2. Which pairs are most similar ones? Which pairs are most different ones?\n",
    "f = open(\"2019nCoV_genomes.2020_02_03.blastn.out\", \"r\")\n",
    "lines=f.readlines()\n",
    "f.close()\n",
    "\n",
    "\n",
    "for line in lines:\n",
    "    if \"#\" not in line and float(line.split()[2])==100:\n",
    "        print('The most similar ones to', line.split()[0], 'are', line.split()[1],'with', line.split()[2], 'identity')\n",
    "    if \"#\" not in line and float(line.split()[2])!=100:\n",
    "        print('Different ones to', line.split()[0], 'are', line.split()[1],'with', line.split()[2], 'identity')\n",
    "\n",
    "#Additional question posed by the professor.\n",
    "#Classify the genomes by origin\n",
    "import Levenshtein as ls\n",
    "filename_genomes = '2019nCoV_genomes.2020_02_03.fna'\n",
    "IDset=set()\n",
    "similarity_score_list=list()\n",
    "genome_list = read_fasta(filename_genomes)\n",
    "for gid1, g_seq1 in genome_list.items():\n",
    "    for gid2, g_seq2 in genome_list.items():\n",
    "        similarity_score_list.append(ls.distance(str(gid1.split()[7]),str(gid2.split()[7])))\n",
    "        IDset.add(gid1.split()[7])\n",
    "\n",
    "initialID=str()\n",
    "scoremax=max(similarity_score_list)\n",
    "while len(IDset)!=0:\n",
    "    loopset=set()\n",
    "    for ID1 in IDset:\n",
    "        if len(loopset)==0:\n",
    "            loopset.add(ID1)\n",
    "            initialID=ID1\n",
    "        if len(loopset)!=0:\n",
    "            if float(ls.distance(initialID, ID1))/scoremax <0.2:\n",
    "                loopset.add(ID1)\n",
    "    IDset=IDset.difference(loopset)\n",
    "    print(\"These genomes have the same origin\", loopset )\n",
    "\n",
    "#Steps before Q3\n",
    "#With the most similar N-protein sequence in sars-COV genome(NproteinGenome.fna in Q1) as query sequence, I will use blastn on the sars and mers genomes.\n",
    "# makeblastdb -dbtype nucl -in SARS_genomes.2020_02_03.fa -out SARS_genomes.2020_02_03.blastdb\n",
    "# blastn -db SARS_genomes.2020_02_03.blastdb -query NproteinGenome.fna -out SARS_genomes.2020_02_03.blastn.out -outfmt7\n",
    "# makeblastdb -dbtype nucl -in MERS_genomes.2020_02_03.2020_02_03.fa -out 2MERS_genomes.2020_02_03.blastdb\n",
    "# blastn -db MERS_genomes.2020_02_03.blastdb -query NproteinGenome.fna -out MERS_genomes.2020_02_03.blastn.out -outfmt7"
   ]
  },
  {
   "cell_type": "code",
   "execution_count": 3,
   "metadata": {},
   "outputs": [
    {
     "name": "stdout",
     "output_type": "stream",
     "text": [
      "SARS-COV N protein sequence is similar to N protein sequences in SARS genomes as follow:\n",
      "NC_045512.2Nproteinseq is similar to N protein sequence in the genome ENA|KU973692|KU973692.1 with 88.619 identity\n",
      "NC_045512.2Nproteinseq is similar to N protein sequence in the genome ENA|DQ898174|DQ898174.1 with 88.610 identity\n",
      "NC_045512.2Nproteinseq is similar to N protein sequence in the genome ENA|FJ882949|FJ882949.1 with 88.610 identity\n",
      "NC_045512.2Nproteinseq is similar to N protein sequence in the genome ENA|FJ882934|FJ882934.1 with 88.610 identity\n",
      "NC_045512.2Nproteinseq is similar to N protein sequence in the genome ENA|FJ882937|FJ882937.1 with 88.610 identity\n",
      "NC_045512.2Nproteinseq is similar to N protein sequence in the genome ENA|FJ882935|FJ882935.1 with 88.610 identity\n",
      "NC_045512.2Nproteinseq is similar to N protein sequence in the genome ENA|FJ882933|FJ882933.1 with 88.610 identity\n",
      "NC_045512.2Nproteinseq is similar to N protein sequence in the genome ENA|FJ882947|FJ882947.1 with 88.610 identity\n",
      "NC_045512.2Nproteinseq is similar to N protein sequence in the genome ENA|FJ882946|FJ882946.1 with 88.610 identity\n",
      "NC_045512.2Nproteinseq is similar to N protein sequence in the genome ENA|FJ882927|FJ882927.1 with 88.610 identity\n",
      "NC_045512.2Nproteinseq is similar to N protein sequence in the genome ENA|FJ882932|FJ882932.1 with 88.610 identity\n",
      "NC_045512.2Nproteinseq is similar to N protein sequence in the genome ENA|FJ882939|FJ882939.1 with 88.610 identity\n",
      "NC_045512.2Nproteinseq is similar to N protein sequence in the genome ENA|FJ882936|FJ882936.1 with 88.610 identity\n",
      "NC_045512.2Nproteinseq is similar to N protein sequence in the genome ENA|FJ882938|FJ882938.1 with 88.610 identity\n",
      "NC_045512.2Nproteinseq is similar to N protein sequence in the genome ENA|FJ882941|FJ882941.1 with 88.610 identity\n",
      "NC_045512.2Nproteinseq is similar to N protein sequence in the genome ENA|FJ882944|FJ882944.1 with 88.610 identity\n",
      "NC_045512.2Nproteinseq is similar to N protein sequence in the genome ENA|FJ882940|FJ882940.1 with 88.610 identity\n",
      "NC_045512.2Nproteinseq is similar to N protein sequence in the genome ENA|FJ882954|FJ882954.1 with 88.610 identity\n",
      "NC_045512.2Nproteinseq is similar to N protein sequence in the genome ENA|FJ882960|FJ882960.1 with 88.610 identity\n",
      "NC_045512.2Nproteinseq is similar to N protein sequence in the genome ENA|FJ882955|FJ882955.1 with 88.610 identity\n",
      "NC_045512.2Nproteinseq is similar to N protein sequence in the genome ENA|FJ882931|FJ882931.1 with 88.610 identity\n",
      "NC_045512.2Nproteinseq is similar to N protein sequence in the genome ENA|FJ882928|FJ882928.1 with 88.610 identity\n",
      "NC_045512.2Nproteinseq is similar to N protein sequence in the genome ENA|FJ882926|FJ882926.1 with 88.610 identity\n",
      "NC_045512.2Nproteinseq is similar to N protein sequence in the genome ENA|FJ882930|FJ882930.1 with 88.610 identity\n",
      "NC_045512.2Nproteinseq is similar to N protein sequence in the genome ENA|AY394850|AY394850.2 with 88.610 identity\n",
      "NC_045512.2Nproteinseq is similar to N protein sequence in the genome ENA|AY362698|AY362698.1 with 88.610 identity\n",
      "NC_045512.2Nproteinseq is similar to N protein sequence in the genome ENA|AB257344|AB257344.1 with 88.531 identity\n",
      "NC_045512.2Nproteinseq is similar to N protein sequence in the genome ENA|FJ882929|FJ882929.1 with 88.531 identity\n",
      "NC_045512.2Nproteinseq is similar to N protein sequence in the genome ENA|FJ882950|FJ882950.1 with 88.531 identity\n",
      "NC_045512.2Nproteinseq is similar to N protein sequence in the genome ENA|AY310120|AY310120.1 with 88.531 identity\n",
      "NC_045512.2Nproteinseq is similar to N protein sequence in the genome ENA|FJ882956|FJ882956.1 with 88.452 identity\n",
      "NC_045512.2Nproteinseq is similar to N protein sequence in the genome ENA|DQ084200|DQ084200.1 with 88.862 identity\n",
      "NC_045512.2Nproteinseq is similar to N protein sequence in the genome ENA|DQ084199|DQ084199.1 with 88.862 identity\n",
      "NC_045512.2Nproteinseq is similar to N protein sequence in the genome ENA|DQ022305|DQ022305.2 with 88.862 identity\n",
      "NC_045512.2Nproteinseq is similar to N protein sequence in the genome ENA|AY686864|AY686864.1 with 88.374 identity\n",
      "NC_045512.2Nproteinseq is similar to N protein sequence in the genome ENA|AY686863|AY686863.1 with 88.217 identity\n",
      "No similarity exists between sars-COV N protein and N protein sequence in MERS-genome\n"
     ]
    }
   ],
   "source": [
    "#Q3 Which protein is most similar to SARS-CoV N protein? Which protein is most different to MERS N protein?\n",
    "f = open(\"SARS_genomes.2020_02_03.blastn.out\", \"r\")\n",
    "sarslines=f.readlines()\n",
    "f.close()\n",
    "f2 = open(\"MERS_genomes.2020_02_03.blastn.out\", \"r\")\n",
    "merslines=f2.readlines()\n",
    "f.close()\n",
    "fastaf = 'NproteinGenome.fna' #made in question1 which contains cDNA sequence of N protein.\n",
    "Nproteinsequence = read_fasta(fastaf)\n",
    "print(\"SARS-COV N protein sequence is similar to N protein sequences in SARS genomes as follow:\")\n",
    "for line in sarslines: #SARS-genome result ouput\n",
    "    if \"#\" not in line and float(line.split()[2])==100:\n",
    "        print( line.split()[0], 'is identical to', line.split()[1],'with', line.split()[2], 'identity')\n",
    "    elif \"#\" not in line and float(line.split()[2])>75:\n",
    "        print( line.split()[0], 'is similar to N protein sequence in the genome', line.split()[1],'with', line.split()[2], 'identity')\n",
    "for line in sarslines:\n",
    "    if \"# 0 hits found\" in line:\n",
    "        print(\"No similarity exists between sars-COV N protein and N protein sequence in SARS-genome\")\n",
    "for line in merslines:  #MERS-genome result ouput\n",
    "    if \"#\" not in line and float(line.split()[2])==100:\n",
    "        print( line.split()[0], 'is identical to', line.split()[1],'with', line.split()[2], 'identity')\n",
    "    elif \"#\" not in line and float(line.split()[2])>75:\n",
    "        print( line.split()[0], 'is similar to N protein sequence in the genome', line.split()[1],'with', line.split()[2], 'identity')\n",
    "for line in merslines:\n",
    "    if \"# 0 hits found\" in line:\n",
    "        print(\"No similarity exists between sars-COV N protein and N protein sequence in MERS-genome\")\n",
    "        "
   ]
  },
  {
   "cell_type": "code",
   "execution_count": null,
   "metadata": {},
   "outputs": [],
   "source": []
  },
  {
   "cell_type": "code",
   "execution_count": null,
   "metadata": {},
   "outputs": [],
   "source": []
  }
 ],
 "metadata": {
  "kernelspec": {
   "display_name": "Python 3",
   "language": "python",
   "name": "python3"
  },
  "language_info": {
   "codemirror_mode": {
    "name": "ipython",
    "version": 3
   },
   "file_extension": ".py",
   "mimetype": "text/x-python",
   "name": "python",
   "nbconvert_exporter": "python",
   "pygments_lexer": "ipython3",
   "version": "3.7.6"
  }
 },
 "nbformat": 4,
 "nbformat_minor": 4
}
