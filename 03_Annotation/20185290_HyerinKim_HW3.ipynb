{
 "cells": [
  {
   "cell_type": "markdown",
   "metadata": {},
   "source": [
    "# Homework 03. Hyerin Kim (student ID:20185290)\n",
    "Collect SARS-CoV-2 N proteins & (optional) RNA-dependent RNA proteins\n",
    "\n",
    "## Back ground\n",
    "The coronavirus nucleocapsid (N) is a structural protein that forms complexes with genomic RNA, interacts with the viral membrane protein during virion assembly and plays a critical role in enhancing the efficiency of virus transcription and assembly\n",
    "<ol>\n",
    "    <li> binding to viral RNA to form the ribonucleocapsid and having roles in virus replication, transcription and translation    \n",
    "    <li> In host cells, N proteins have been shown to cause deregulation of the cell-cycle, inhibit the production of interferon, up-regulate the production of COX2, up-regulate the activity of AP1, and induce apoptosis in serum deprived cells —of all which may have possible pathological consequences\n",
    "</ol>\n",
    "reference: McBride, R., et al. (2014). \"The coronavirus nucleocapsid is a multifunctional protein.\" Viruses 6(8): 2991-3018.\n",
    "\n",
    "## Data files\n",
    "<ul>\n",
    "    <li> The genome of Covid-19: '../data/2019nCoV_genomes.2020_03_27.fa'\n",
    "    <li> GCF_009858895.2 genomic seqeunce : '../data/ GCF_009858895.2_ASM985889v3_genomic.fna'\n",
    "    <li> GCF_009858895.2 genomic info : '../data/ GCF_009858895.2_ASM985889v3_genomic.gff'\n",
    "    <li> GCF_009858895.2 protein info : '../data/ GCF_009858895.2_ASM985889v3_protein.faa'\n",
    "</ul>\n",
    "    \n",
    "## Procedures\n",
    "<ol>\n",
    "<li> Read GCF_009858895.2 genomic info.\n",
    "<li> Make N-protein cDNA sequence.\n",
    "<li> Translate it to protein sequence.\n",
    "</ol>\n",
    "\n",
    "## Questions\n",
    "<ol>\n",
    "    <li> Compare it to GCF_009858895.2_ASM985889v3_protein.faa. Based on this info, extract N proteins cDNA/proteins from other SARS-CoV2 genomes (either 02_03 or 03_27).\n",
    "    <li> Which pairs are most similar ones? Which pairs are most different ones? Based on this info, extract N proteins cDNA/proteins from other SARS & MERS genomes.\n",
    "    <li> Which protein is most similar to SARS-CoV N protein? Which protein is\n",
    "most different to MERS N protein?\n",
    "\n",
    "</ol>"
   ]
  },
  {
   "cell_type": "code",
   "execution_count": 42,
   "metadata": {},
   "outputs": [],
   "source": [
    "# The function to read sequences from a FASTA file\n",
    "def read_fasta(tmp_filename):\n",
    "    rv = dict()\n",
    "    f = open(tmp_filename, 'r')\n",
    "    for line in f:\n",
    "        if line.startswith('>'):\n",
    "            tmp_h = line.strip().lstrip('>')\n",
    "            rv[tmp_h] = ''\n",
    "        else:\n",
    "            rv[tmp_h] += line.strip().replace(' ', '')\n",
    "    f.close()\n",
    "    return rv"
   ]
  },
  {
   "cell_type": "code",
   "execution_count": 43,
   "metadata": {},
   "outputs": [],
   "source": [
    "# the function to write fasta file\n",
    "def write_fasta(tmp_filename, gene_list):\n",
    "    file = open(tmp_filename,\"w\")\n",
    "    for key, values in gene_list.items():\n",
    "        file.write(\">\"+key+\"\\n\"+values+\"\\n\")\n",
    "    file.close()"
   ]
  },
  {
   "cell_type": "code",
   "execution_count": 44,
   "metadata": {},
   "outputs": [],
   "source": [
    "# the function to read GFF information\n",
    "def read_gff(tmp_filename,keyword):\n",
    "    location = dict()\n",
    "    CDS = list()\n",
    "    gene = list()\n",
    "    \n",
    "    f = open(tmp_filename, 'r')\n",
    "    for line in f:\n",
    "        if not line.startswith('#') and keyword in line:\n",
    "            # only apply -1 on start point, because list[0:3] start from point 0 to point 2\n",
    "            if line.split()[2] == 'CDS':\n",
    "                CDS.append([int(line.split()[3])-1,int(line.split()[4])])\n",
    "            elif line.split()[2] == 'gene':\n",
    "                gene.append([int(line.split()[3])-1,int(line.split()[4])])\n",
    "            location['CDS'] = CDS\n",
    "            location['gene'] = gene\n",
    "\n",
    "    f.close()\n",
    "    return location"
   ]
  },
  {
   "cell_type": "code",
   "execution_count": 45,
   "metadata": {},
   "outputs": [
    {
     "name": "stdout",
     "output_type": "stream",
     "text": [
      "{'CDS': [[28273, 29533]], 'gene': [[28273, 29533]]}\n"
     ]
    }
   ],
   "source": [
    "# Read genomes & make N protein cDNA sequence\n",
    "filename_genomes = '../data/GCF_009858895.2_ASM985889v3_genomic.fna'\n",
    "genome = read_fasta(filename_genomes)\n",
    "\n",
    "# get location of N protein cDNA\n",
    "gff3 = '../data/GCF_009858895.2_ASM985889v3_genomic.gff'\n",
    "print(read_gff(gff3, 'gene=N'))\n",
    "\n"
   ]
  },
  {
   "cell_type": "code",
   "execution_count": 46,
   "metadata": {},
   "outputs": [
    {
     "name": "stdout",
     "output_type": "stream",
     "text": [
      "{'CDS0': 'ATGTCTGATAATGGACCCCAAAATCAGCGAAATGCACCCCGCATTACGTTTGGTGGACCCTCAGATTCAACTGGCAGTAACCAGAATGGAGAACGCAGTGGGGCGCGATCAAAACAACGTCGGCCCCAAGGTTTACCCAATAATACTGCGTCTTGGTTCACCGCTCTCACTCAACATGGCAAGGAAGACCTTAAATTCCCTCGAGGACAAGGCGTTCCAATTAACACCAATAGCAGTCCAGATGACCAAATTGGCTACTACCGAAGAGCTACCAGACGAATTCGTGGTGGTGACGGTAAAATGAAAGATCTCAGTCCAAGATGGTATTTCTACTACCTAGGAACTGGGCCAGAAGCTGGACTTCCCTATGGTGCTAACAAAGACGGCATCATATGGGTTGCAACTGAGGGAGCCTTGAATACACCAAAAGATCACATTGGCACCCGCAATCCTGCTAACAATGCTGCAATCGTGCTACAACTTCCTCAAGGAACAACATTGCCAAAAGGCTTCTACGCAGAAGGGAGCAGAGGCGGCAGTCAAGCCTCTTCTCGTTCCTCATCACGTAGTCGCAACAGTTCAAGAAATTCAACTCCAGGCAGCAGTAGGGGAACTTCTCCTGCTAGAATGGCTGGCAATGGCGGTGATGCTGCTCTTGCTTTGCTGCTGCTTGACAGATTGAACCAGCTTGAGAGCAAAATGTCTGGTAAAGGCCAACAACAACAAGGCCAAACTGTCACTAAGAAATCTGCTGCTGAGGCTTCTAAGAAGCCTCGGCAAAAACGTACTGCCACTAAAGCATACAATGTAACACAAGCTTTCGGCAGACGTGGTCCAGAACAAACCCAAGGAAATTTTGGGGACCAGGAACTAATCAGACAAGGAACTGATTACAAACATTGGCCGCAAATTGCACAATTTGCCCCCAGCGCTTCAGCGTTCTTCGGAATGTCGCGCATTGGCATGGAAGTCACACCTTCGGGAACGTGGTTGACCTACACAGGTGCCATCAAATTGGATGACAAAGATCCAAATTTCAAAGATCAAGTCATTTTGCTGAATAAGCATATTGACGCATACAAAACATTCCCACCAACAGAGCCTAAAAAGGACAAAAAGAAGAAGGCTGATGAAACTCAAGCCTTACCGCAGAGACAGAAGAAACAGCAAACTGTGACTCTTCTTCCTGCTGCAGATTTGGATGATTTCTCCAAACAATTGCAACAATCCATGAGCAGTGCTGACTCAACTCAGGCCTAA'}\n"
     ]
    }
   ],
   "source": [
    "# save the N protein gene location to 'point'\n",
    "N_point = read_gff(gff3, 'gene=N')\n",
    "\n",
    "# save the N protein cDNA to N_cDNA\n",
    "N_cDNA = dict()\n",
    "a = 0\n",
    "for k, v in N_point.items():\n",
    "    while a < len(N_point['CDS']):\n",
    "        N_cDNA[k+str(a)] = genome['NC_045512.2 Wuhan seafood market pneumonia virus isolate Wuhan-Hu-1, complete genome'][N_point[k][a][0]:N_point['CDS'][a][1]]\n",
    "        a += 1\n",
    "print(N_cDNA)\n",
    "\n",
    "write_fasta('../data/N_protein_cDNA.fa',N_cDNA)\n"
   ]
  },
  {
   "cell_type": "code",
   "execution_count": 47,
   "metadata": {},
   "outputs": [
    {
     "name": "stdout",
     "output_type": "stream",
     "text": [
      "Q1-1. Compare it to GCF_009858895.2_ASM985889v3_protein.faa. \n",
      "\n",
      "translated protein from N cDNA is 100.000 % matched with YP_009724397.2 nucleocapsid phosphoprotein [Wuhan seafood market pneumonia virus]\n",
      "translated protein from N cDNA is 48.148 % matched with YP_009724389.1 orf1ab polyprotein [Wuhan seafood market pneumonia virus]\n",
      "translated protein from N cDNA is 34.783 % matched with YP_009724389.1 orf1ab polyprotein [Wuhan seafood market pneumonia virus]\n",
      "translated protein from N cDNA is 28.261 % matched with YP_009724389.1 orf1ab polyprotein [Wuhan seafood market pneumonia virus]\n",
      "translated protein from N cDNA is 50.000 % matched with YP_009724389.1 orf1ab polyprotein [Wuhan seafood market pneumonia virus]\n",
      "translated protein from N cDNA is 37.500 % matched with YP_009724390.1 surface glycoprotein [Wuhan seafood market pneumonia virus]\n"
     ]
    }
   ],
   "source": [
    "# Question 1\n",
    "print(\"Q1-1. Compare it to GCF_009858895.2_ASM985889v3_protein.faa. \\n\")\n",
    "\n",
    "'''\n",
    "To make N protein protein, type on Ubuntu, data directory\n",
    "\n",
    "transeq --sequence N_protein_cDNA.fa --outseq N_protein_cDNA_trans.fa \n",
    "\n",
    "\n",
    "To compare translated protein sequence and GCF_009858895.2_ASM985889v3_protein.faa. type on Ubuntu, data directory\n",
    "\n",
    "makeblastdb -dbtype prot -in GCF_009858895.2_ASM985889v3_protein.faa. -out GCF_009858895.2_ASM985889v3_protein\n",
    "\n",
    "blastp -db GCF_009858895.2_ASM985889v3_protein -query N_protein_cDNA_trans.fa -outfmt 7 -out Q1_blastp.tbl\n",
    "'''\n",
    "\n",
    "#read blasp data file\n",
    "GCF_protein = read_fasta('../data/GCF_009858895.2_ASM985889v3_protein.faa')\n",
    "f = open('../data/Q1_blastp.tbl','r')\n",
    "for l in f:\n",
    "    for key in GCF_protein.keys():\n",
    "        if not l.startswith('#') and l.split()[1] in key:\n",
    "            print(\"translated protein from N cDNA is\",l.split()[2],\"% matched with\", key)"
   ]
  },
  {
   "cell_type": "code",
   "execution_count": null,
   "metadata": {},
   "outputs": [],
   "source": [
    " # Question 1-2. Based on this info, extract N proteins cDNA/proteins from other SARS-CoV2 genomes (either 02_03 or 03_27).')\n",
    "'''\n",
    "N protein cDNA: ../data/N_protein_cDNA.fa\n",
    "N protein protein: ../data/N_protein_cDNA_trans.fa\n",
    "type on Ubuntu\n",
    "\n",
    "blastn -db 2019_nCoV_genomes.2020_03_27.blastdb -query N_protein_cDNA.fa -outfmt 7 -out HW3_Q1_2_blastn.nbl\n",
    "blastp -db 2019_nCoV_proteins.2020_03_27.blastdb -query N_protein_cDNA_trans.fa -outfmt 7 -out HW3_Q1_2_blastp.tbl\n",
    "'''"
   ]
  },
  {
   "cell_type": "code",
   "execution_count": 49,
   "metadata": {},
   "outputs": [],
   "source": [
    "# the function to read blastN result\n",
    "# result\n",
    "def blastN(tmp_filename):\n",
    "    result = dict()\n",
    "    info = list()\n",
    "    f = open(tmp_filename,'r')\n",
    "    for line in f:\n",
    "        if not line.startswith('#'):\n",
    "            #save the blast result in info = [%identity, s.start, s.end]\n",
    "            info = [float(line.split()[2]),int(line.split()[8]),int(line.split()[9])]\n",
    "            #save the blast result in result = {subject acc.ver:info}\n",
    "            result[line.split()[1]] = info\n",
    "        info = list()\n",
    "    f.close()\n",
    "    return result"
   ]
  },
  {
   "cell_type": "code",
   "execution_count": 58,
   "metadata": {},
   "outputs": [],
   "source": [
    "#the function to read blastP result\n",
    "def blastP(tmp_filename):\n",
    "    result = dict()\n",
    "    info = list()\n",
    "    a = 'CDS0'\n",
    "    f = open(tmp_filename,'r')\n",
    "    for line in f:\n",
    "        if not line.startswith('#'):\n",
    "            info = [float(line.split()[2]),int(line.split()[8]),int(line.split()[9])]\n",
    "            if line.split()[0] == 'CDS0_1':\n",
    "                result[line.split()[1]] = info\n",
    "            if line.split()[0] == 'CDS1_1':\n",
    "                result[line.split()[1]+' by CDS2'] = info\n",
    "            if line.split()[0] == 'CDS2_1':\n",
    "                result[line.split()[1]+' by CDS3'] = info\n",
    "        info = list()\n",
    "    f.close()\n",
    "    return result"
   ]
  },
  {
   "cell_type": "code",
   "execution_count": 59,
   "metadata": {},
   "outputs": [],
   "source": [
    "# the function to get most similar one and most different one\n",
    "def blast_analysis(result):\n",
    "    identity = list()\n",
    "    for v in result.values():\n",
    "        identity.append(v[0])\n",
    "    MS = list()\n",
    "    MD = list()\n",
    "    for k, v in result.items():\n",
    "        if v[0] == max(identity):\n",
    "            MS.append(k)\n",
    "        if v[0] == min(identity):\n",
    "            MD.append(k)\n",
    "    if len(identity) == 0:\n",
    "        print('there are no blast result')\n",
    "    else:\n",
    "        print(MS,' are most similar ones, and they have', max(identity),'% identity with reference gene \\n')\n",
    "        print(MD,' are most different ones, and they have', min(identity),'% identity with reference gene')\n",
    "\n"
   ]
  },
  {
   "cell_type": "code",
   "execution_count": 60,
   "metadata": {},
   "outputs": [
    {
     "name": "stdout",
     "output_type": "stream",
     "text": [
      "Q2. Which pairs are most similar ones? Which pairs are most different ones?\n",
      "\n",
      "**In N protein cDNA blast result, \n",
      "\n",
      "['MT049951', 'MT066176', 'MT066175', 'MT072688', 'MT093571', 'MT093631', 'MT123292', 'LC528232', 'LC528233', 'MT126808', 'MT135044', 'MT135042', 'MT135041', 'MT152824', 'MT050493', 'MT012098', 'MT066156', 'MT121215', 'MT163718', 'MT163717', 'MT163716', 'MT163719', 'MT192773', 'MT192759', 'MT192765', 'MT192772', 'MT240479', 'MT246490', 'MT246489', 'MT246488', 'MT246487', 'MT246486', 'MT246484', 'MT246482', 'MT246481', 'MT246480', 'MT246479', 'MT246478', 'MT246477', 'MT246476', 'MT246475', 'MT246474', 'MT246473', 'MT246472', 'MT246471', 'MT246469', 'MT246468', 'MT246467', 'MT246466', 'MT246464', 'MT246462', 'MT246461', 'MT246460', 'MT246459', 'MT246458', 'MT246457', 'MT246455', 'MT246453', 'MT246452', 'MT246450', 'MT246449']  are most similar ones, and they have 100.0 % identity with reference gene \n",
      "\n",
      "['MT233522', 'MT246470', 'MT246451']  are most different ones, and they have 99.762 % identity with reference gene\n",
      "\n",
      " \n",
      "**In N protein protein blast result, \n",
      "\n",
      "['QHD43423', 'QHN73802', 'QHN73817', 'QHO60601', 'QHO62110', 'QHQ71980', 'QHQ82471', 'QHO62115', 'QHQ71970', 'QHR63298', 'QHR63278', 'QHR63288', 'QHR63268', 'QHR63258', 'QHR84456', 'QHU79201', 'QHU36831', 'QHU36841', 'QHU79181', 'QHU36871', 'QHU36861', 'QHU36851', 'QHU79211', 'QHW06066', 'QHZ00386', 'QHZ00365', 'QHZ00396', 'QHZ87599', 'QHZ87589', 'QIA20052', 'QIA98602', 'QIA98613', 'QIB84680', 'QIC50511', 'QIC50513', 'QIC50510', 'QIC50509', 'QIC50516', 'QIC50512', 'QIC50508', 'QIC50507', 'QIC53211', 'QIC53221', 'QID21075', 'QID21065', 'QID98801', 'QIE07488', 'QIE07478', 'QIE07468', 'BCA87368', 'BCA87378', 'QIG56001', 'QIH45060', 'QIH45040', 'QIH45030', 'QIH55228', 'QIA98590', 'QHS34553', 'QII57255', 'QII57185', 'QIA98561', 'QII57195', 'QII57265', 'QII57205', 'QII57335', 'QII57164', 'QII57215', 'QII57325', 'QII57315', 'QII57295', 'QII57245', 'QII57235', 'QII57285', 'QII57275', 'QII57225', 'QII57175', 'QII57345', 'QII87848', 'QII87838', 'QII87826', 'QII87802', 'QII87790', 'QII87814', 'QIJ96520', 'QIJ96470', 'QIJ96510', 'QIJ96500', 'QIJ96490', 'QIJ96480', 'QIK02971', 'QIK02951', 'QIK02961', 'QIK50455', 'QIK50435', 'QIK50424', 'QIK50445', 'QIM47483', 'QIQ22768', 'QIQ50199', 'QIQ50179', 'QIQ50169', 'QIQ50159', 'QIQ50149', 'QIQ50139', 'QIQ50119', 'QIQ50099', 'QIQ50089', 'QIQ50079', 'QIQ50069', 'QIQ50059', 'QIQ50049', 'QIQ50039', 'QIQ50029', 'QIQ50019', 'QIQ50009', 'QIQ49999', 'QIQ49989', 'QIQ49969', 'QIQ49959', 'QIQ49949', 'QIQ49939', 'QIQ49929', 'QIQ49919', 'QIQ49909', 'QIQ49899', 'QIQ49889', 'QIQ49879', 'QIQ49869', 'QIQ49859', 'QIQ49849', 'QIQ49829', 'QIQ49819', 'QIQ49809', 'QIQ49799', 'QIQ49779', 'QIQ49769', 'QIQ50189', 'YP_009724397', 'QIK50415', '6M3M_A', '6M3M_B', '6M3M_D', '6M3M_C', 'QIK02783', '6VYO_D', '6VYO_C', '6VYO_B', '6VYO_A', 'QIK02790', 'QIK02788', 'QIK02789', 'QIK02784', 'QIK02787', 'QIK02786', 'QIK02785', 'BCA37478', 'BCA37477', 'BCA37476', 'QII87776']  are most similar ones, and they have 100.0 % identity with reference gene \n",
      "\n",
      "['QII87775']  are most different ones, and they have 98.496 % identity with reference gene\n"
     ]
    }
   ],
   "source": [
    "# Question 2\n",
    "print(\"Q2. Which pairs are most similar ones? Which pairs are most different ones?\\n\")\n",
    "cDNA_result = blastN('../data/HW3_Q1_2_blastn.nbl')\n",
    "protein_result = blastP('../data/HW3_Q1_2_blastp.tbl')\n",
    "\n",
    "print('**In N protein cDNA blast result, \\n')\n",
    "blast_analysis(cDNA_result)\n",
    "\n",
    "print('\\n \\n**In N protein protein blast result, \\n')\n",
    "blast_analysis(protein_result)"
   ]
  },
  {
   "cell_type": "code",
   "execution_count": null,
   "metadata": {},
   "outputs": [],
   "source": [
    "# Question 2-1. Based on this info, extract N proteins cDNA/proteins from other SARS & MERS genomes.\")\n",
    "'''\n",
    "\n",
    "transeq --sequence SARS_genomes.2020_02_03.fa --outseq SARS_trans6.fa -frame 6\n",
    "transeq --sequence MERS_genomes.2020_02_03.fa --outseq MERS_trans6.fa -frame 6\n",
    "\n",
    "makeblastdb -dbtype nucl -in SARS_genomes.2020_02_03.fa -out SARS_DNA_db\n",
    "makeblastdb -dbtype nucl -in MERS_genomes.2020_02_03.fa -out MERS_DNA_db\n",
    "\n",
    "makeblastdb -dbtype prot -in SARS_trans6.fa -out SARS_protein_db\n",
    "makeblastdb -dbtype prot -in MERS_trans6.fa -out MERS_protein_db\n",
    "\n",
    "# blastn db:SARS and MERS genome, query: N_protein cDNA\n",
    "blastn -db SARS_DNA_db -query N_protein_cDNA.fa -outfmt 7 -out SARS_DNA_blastn.nbl\n",
    "blastn -db MERS_DNA_db -query N_protein_cDNA.fa -outfmt 7 -out MERS_DNA_blastn.nbl\n",
    "\n",
    "# blastp db:SARS and MERS transeq -frame 6 data, query: N_protein protein seq\n",
    "blastp -db SARS_protein_db -query N_protein_cDNA_trans.fa -outfmt 7 -out SARS_protein_blastp.tbl\n",
    "blastp -db MERS_protein_db -query N_protein_cDNA_trans.fa -outfmt 7 -out MERS_protein_blastp.tbl\n",
    "\n",
    "'''"
   ]
  },
  {
   "cell_type": "code",
   "execution_count": 63,
   "metadata": {},
   "outputs": [
    {
     "name": "stdout",
     "output_type": "stream",
     "text": [
      "Q3. Which protein is most similar to SARS-CoV N protein? Which protein is most different to MERS N protein?\n",
      "**In SARS N protein blastN result, \n",
      "\n",
      "['ENA|DQ084200|DQ084200.1', 'ENA|DQ084199|DQ084199.1', 'ENA|DQ022305|DQ022305.2']  are most similar ones, and they have 88.862 % identity with reference gene \n",
      "\n",
      "['ENA|AY686863|AY686863.1']  are most different ones, and they have 88.217 % identity with reference gene\n",
      "\n",
      "**In SARS N protein blastP result, \n",
      "\n",
      "['KU973692.1_3 by CDS2']  are most similar ones, and they have 95.809 % identity with reference gene \n",
      "\n",
      "['KU973692.1_1']  are most different ones, and they have 79.973 % identity with reference gene\n",
      "\n",
      " \n",
      "**In MERS N protein blastN result, \n",
      "\n",
      "there are no blast result\n",
      "\n",
      "**In MERS N protein blastP result, \n",
      "\n",
      "['KX574227.1_3']  are most similar ones, and they have 50.142 % identity with reference gene \n",
      "\n",
      "['KX108941.1_2']  are most different ones, and they have 43.333 % identity with reference gene\n"
     ]
    }
   ],
   "source": [
    "# Question 3\n",
    "print(\"Q3. Which protein is most similar to SARS-CoV N protein? Which protein is most different to MERS N protein?\")\n",
    "SARS_DNA = blastN('../data/SARS_DNA_blastn.nbl')\n",
    "MERS_DNA = blastN('../data/MERS_DNA_blastn.nbl')\n",
    "SARS_protein = blastP('../data/SARS_protein_blastp.tbl')\n",
    "MERS_protein = blastP('../data/MERS_protein_blastp.tbl')\n",
    "\n",
    "\n",
    "print('**In SARS N protein blastN result, \\n')\n",
    "blast_analysis(SARS_DNA)\n",
    "\n",
    "print('\\n**In SARS N protein blastP result, \\n')\n",
    "blast_analysis(SARS_protein)\n",
    "\n",
    "print('\\n \\n**In MERS N protein blastN result, \\n')\n",
    "blast_analysis(MERS_DNA)\n",
    "\n",
    "print('\\n**In MERS N protein blastP result, \\n')\n",
    "blast_analysis(MERS_protein)"
   ]
  },
  {
   "cell_type": "code",
   "execution_count": 64,
   "metadata": {},
   "outputs": [],
   "source": [
    "# (optional) check the RNA dependent RNA polymerase: gene = orf1ab\n",
    "\n",
    "#extract CDS of orf1ab\n",
    "filename_genomes = '../data/GCF_009858895.2_ASM985889v3_genomic.fna'\n",
    "genome = read_fasta(filename_genomes)\n",
    "\n",
    "# get location of orf1ab protein cDNA\n",
    "gff3 = '../data/GCF_009858895.2_ASM985889v3_genomic.gff'\n",
    "\n",
    "# save the orf1ab protein gene location to 'point'\n",
    "orf1ab_point = read_gff(gff3, 'gene=orf1ab')\n",
    "\n",
    "# save the orf1ab protein cDNA to orf1ab_cDNA\n",
    "orf1ab_cDNA = dict()\n",
    "a = 0\n",
    "for k, v in orf1ab_point.items():\n",
    "    while a < len(orf1ab_point['CDS']):\n",
    "        orf1ab_cDNA[k+str(a)] = genome['NC_045512.2 Wuhan seafood market pneumonia virus isolate Wuhan-Hu-1, complete genome'][orf1ab_point[k][a][0]:orf1ab_point['CDS'][a][1]]\n",
    "        a += 1\n",
    "\n",
    "\n",
    "write_fasta('../data/orf1ab_protein_cDNA.fa',orf1ab_cDNA)"
   ]
  },
  {
   "cell_type": "code",
   "execution_count": null,
   "metadata": {},
   "outputs": [],
   "source": [
    "# check the similarit of orf1ab cDNA and protein with other viruses(2019nCoV_2020_03_27, SARS, MERS).\n",
    "'''\n",
    "type on Ubuntu\n",
    "\n",
    "transeq --sequence orf1ab_protein_cDNA.fa --outseq orf1ab_protein_cDNA_trans.fa\n",
    "\n",
    "# blastn db:SARS and MERS genome, query: orf1ab_protein cDNA\n",
    "blastn -db SARS_DNA_db -query orf1ab_protein_cDNA.fa -outfmt 7 -out SARS_DNA_blastn_orf1ab.nbl\n",
    "blastn -db MERS_DNA_db -query orf1ab_protein_cDNA.fa -outfmt 7 -out MERS_DNA_blastn_orf1ab.nbl\n",
    "blastn -db 2019_nCoV_genomes.2020_03_27.blastdb -query orf1ab_protein_cDNA.fa -outfmt 7 -out nCoV_DNA_blastn_orf1ab.nbl\n",
    "\n",
    "# blastp db:SARS and MERS transeq -frame 6 data, query: orf1ab_protein protein seq\n",
    "blastp -db SARS_protein_db -query orf1ab_protein_cDNA_trans.fa -outfmt 7 -out SARS_protein_blastp.tbl\n",
    "blastp -db MERS_protein_db -query orf1ab_protein_cDNA_trans.fa -outfmt 7 -out MERS_protein_blastp.tbl\n",
    "blastp -db 2019_nCoV_proteins.2020_03_27.blastdb -query orf1ab_protein_cDNA_trans.fa -outfmt 7 -out nCoV_DNA_blastp_orf1ab.tbl\n",
    "'''"
   ]
  },
  {
   "cell_type": "code",
   "execution_count": 65,
   "metadata": {},
   "outputs": [
    {
     "name": "stdout",
     "output_type": "stream",
     "text": [
      "Q.(optional) whats the result hich protein is most similar to SARS-CoV N protein? Which protein is most different to MERS N protein?\n",
      "**In SARS orf1ab protein blastN result, \n",
      "\n",
      "['ENA|AY362698|AY362698.1']  are most similar ones, and they have 77.745 % identity with reference gene \n",
      "\n",
      "['ENA|KU973692|KU973692.1']  are most different ones, and they have 75.573 % identity with reference gene\n",
      "\n",
      "**In SARS orf1ab protein blastP result, \n",
      "\n",
      "['KU973692.1_3 by CDS2']  are most similar ones, and they have 95.809 % identity with reference gene \n",
      "\n",
      "['KU973692.1_1']  are most different ones, and they have 79.973 % identity with reference gene\n",
      "\n",
      " \n",
      "**In MERS orf1ab protein blastN result, \n",
      "\n",
      "['ENA|KC869678|KC869678.4']  are most similar ones, and they have 72.896 % identity with reference gene \n",
      "\n",
      "['ENA|MG021451|MG021451.1']  are most different ones, and they have 70.238 % identity with reference gene\n",
      "\n",
      "**In MERS orf1ab protein blastP result, \n",
      "\n",
      "['KX574227.1_3']  are most similar ones, and they have 50.142 % identity with reference gene \n",
      "\n",
      "['KX108941.1_2']  are most different ones, and they have 43.333 % identity with reference gene\n",
      "\n",
      " \n",
      "**In 2019nCoV.2020_03_27 orf1ab protein blastN result, \n",
      "\n",
      "['MT072688', 'MT093631', 'MT123290', 'MT192759']  are most similar ones, and they have 100.0 % identity with reference gene \n",
      "\n",
      "['MT246456']  are most different ones, and they have 99.796 % identity with reference gene\n",
      "\n",
      "**In In 2019nCoV.2020_03_27 orf1ab protein blastP result, \n",
      "\n",
      "['QHU79172', 'QII87817', 'QII87805', 'QII87793', 'YP_009725295', 'QHD43415', 'QHN73794', 'QHO60603', 'QHO62106', 'QHQ71972', 'QHO62111', 'QHR63279', 'QHR63259', 'QHR63249', 'QHR84448', 'QHU79193', 'QHU79171', 'QHU36833', 'QHU36853', 'QHU79203', 'QHZ00357', 'QHZ00388', 'QIA98595', 'QIB84672', 'QIC53222', 'QID21067', 'QID21047', 'QID21057', 'QIE07450', 'BCB15089', 'QII57247', 'QII57257', 'QII57197', 'QII57327', 'QII57297', 'QII57207', 'QII57307', 'QII57227', 'QII57337', 'QII57217', 'QII87792', 'QII87816', 'QII87804', 'QIJ96462', 'QIJ96482', 'QIK02943', 'QIK02953', 'QIK50426', 'QIK50416', 'QIQ50191', 'QIQ50161', 'QIQ50151', 'QIQ50131', 'QIQ50091', 'QIQ50071', 'QIQ50061', 'QIQ50051', 'QIQ50041', 'QIQ49991', 'QIQ49971', 'QIQ49961', 'QIQ49951', 'QIQ49931', 'QIQ49911', 'QIQ49881', 'QIQ49861', 'QIQ49791', 'QIQ49781', 'QIQ50181', 'YP_009724389', 'QIM47466', 'YP_009725299', 'QIM47456', 'YP_009725298', 'YP_009725300', '6LU7_A', '6Y84_A', '6M03_A', '5R84_A', '5R83_A', '5R82_A', '5R81_A', '5R80_A', '5R7Z_A', '5R7Y_A', 'YP_009725301', 'YP_009725302', 'QID88857', 'QIB84670', 'YP_009725304', 'YP_009725297', '6W02_A', '6W02_B', '6W4H_B', 'YP_009725306', '6W4B_A', '6W4B_B', 'YP_009725305', 'QIH55230', 'QII87778', 'QII87777', 'YP_009725303', 'QHO62876 by CDS2', 'QHR63289 by CDS2', 'QHZ87581 by CDS2', 'QIA98605 by CDS2', 'QII57317 by CDS2', 'QHD43415 by CDS2', 'QHN73794 by CDS2', 'QHN73809 by CDS2', 'QHO60603 by CDS2', 'QHO62106 by CDS2', 'QHO62111 by CDS2', 'QHQ71962 by CDS2', 'QHR63279 by CDS2', 'QHR63259 by CDS2', 'QHR84448 by CDS2', 'QHU79193 by CDS2', 'QHU36823 by CDS2', 'QHU79171 by CDS2', 'QHU36863 by CDS2', 'QHU36833 by CDS2', 'QHU36853 by CDS2', 'QHU36843 by CDS2', 'QHU79203 by CDS2', 'QHW06038 by CDS2', 'QHW06048 by CDS2', 'QHW06058 by CDS2', 'QHZ00357 by CDS2', 'QIA98595 by CDS2', 'QIB84672 by CDS2', 'QIC53203 by CDS2', 'QIC53222 by CDS2', 'QID21047 by CDS2', 'QID21057 by CDS2', 'QID98793 by CDS2', 'QIE07470 by CDS2', 'QIE07450 by CDS2', 'BCB15089 by CDS2', 'QII57247 by CDS2', 'QII57177 by CDS2', 'QIA98553 by CDS2', 'QII57187 by CDS2', 'QII57257 by CDS2', 'QII57197 by CDS2', 'QII57327 by CDS2', 'QII57297 by CDS2', 'QII57165 by CDS2', 'QII57207 by CDS2', 'QII57307 by CDS2', 'QII57287 by CDS2', 'QII57227 by CDS2', 'QII57337 by CDS2', 'QII57167 by CDS2', 'QII57267 by CDS2', 'QII57217 by CDS2', 'QIJ96462 by CDS2', 'QIJ96482 by CDS2', 'QIJ96472 by CDS2', 'QIK50447 by CDS2', 'QIK50416 by CDS2', 'QIK50437 by CDS2', 'QIQ08829 by CDS2', 'QIQ08809 by CDS2', 'QIQ08789 by CDS2', 'QIQ50191 by CDS2', 'QIQ50181 by CDS2', 'YP_009724389 by CDS2', 'QII57277 by CDS2', 'QIM47456 by CDS2', 'QHZ87591 by CDS2', 'QIE07480 by CDS2', 'QHQ82463 by CDS2', 'QIA20042 by CDS2', 'BCA87360 by CDS2', 'BCA87370 by CDS2', 'QIG55993 by CDS2', 'QIH45052 by CDS2', 'QIH45042 by CDS2', 'QIH45032 by CDS2', 'QIH45022 by CDS2', 'QII57237 by CDS2', 'QII87780 by CDS2', 'QIJ96512 by CDS2', 'QIJ96522 by CDS2', 'QIJ96492 by CDS2', 'QIQ22758 by CDS2', 'QIQ49811 by CDS2', 'QIQ08799 by CDS2', 'YP_009725307 by CDS2', 'YP_009725308 by CDS2', 'YP_009725309 by CDS2', '6VWW_A by CDS2', '6VWW_B by CDS2', '6W01_A by CDS2', '6W01_B by CDS2', 'YP_009725310 by CDS2', '6W4H_A by CDS2', 'YP_009725311 by CDS2', 'QIB84671 by CDS2', 'QIA20054 by CDS2', 'QIA20057 by CDS2', 'QIA20055 by CDS2', 'QIA20056 by CDS2', 'QII57166 by CDS2', 'QIQ08767 by CDS2', 'QIQ08766 by CDS2', 'QHN69983 by CDS2', 'QHN69982 by CDS2', 'QIA98593 by CDS2', 'QIA98592 by CDS2', 'QIA98594 by CDS2', 'QHZ87575 by CDS2', 'QHZ87580 by CDS2', 'QHZ87579 by CDS2', 'QHZ87578 by CDS2', 'QHZ87577 by CDS2', 'QHZ87576 by CDS2', 'QHN73803 by CDS2', 'QHN73804 by CDS2', 'QHN73821 by CDS2', 'QHN73820 by CDS2', 'QHN73819 by CDS2', 'BBZ90167 by CDS2', 'QII87779 by CDS2', 'QHU79172 by CDS3', 'QII87817 by CDS3', 'QII87805 by CDS3', 'QII87793 by CDS3', 'YP_009725295 by CDS3', 'QHD43415 by CDS3', 'QHN73794 by CDS3', 'QHO60603 by CDS3', 'QHO62106 by CDS3', 'QHQ71972 by CDS3', 'QHO62111 by CDS3', 'QHR63279 by CDS3', 'QHR63259 by CDS3', 'QHR63249 by CDS3', 'QHR84448 by CDS3', 'QHU79193 by CDS3', 'QHU79171 by CDS3', 'QHU36833 by CDS3', 'QHU36853 by CDS3', 'QHU79203 by CDS3', 'QHZ00357 by CDS3', 'QHZ00388 by CDS3', 'QIA98595 by CDS3', 'QIB84672 by CDS3', 'QIC53222 by CDS3', 'QID21067 by CDS3', 'QID21047 by CDS3', 'QID21057 by CDS3', 'QIE07450 by CDS3', 'BCB15089 by CDS3', 'QII57247 by CDS3', 'QII57257 by CDS3', 'QII57197 by CDS3', 'QII57327 by CDS3', 'QII57297 by CDS3', 'QII57207 by CDS3', 'QII57307 by CDS3', 'QII57227 by CDS3', 'QII57337 by CDS3', 'QII57217 by CDS3', 'QII87792 by CDS3', 'QII87816 by CDS3', 'QII87804 by CDS3', 'QIJ96462 by CDS3', 'QIJ96482 by CDS3', 'QIK02943 by CDS3', 'QIK02953 by CDS3', 'QIK50426 by CDS3', 'QIK50416 by CDS3', 'QIQ50191 by CDS3', 'QIQ50161 by CDS3', 'QIQ50151 by CDS3', 'QIQ50131 by CDS3', 'QIQ50091 by CDS3', 'QIQ50071 by CDS3', 'QIQ50061 by CDS3', 'QIQ50051 by CDS3', 'QIQ50041 by CDS3', 'QIQ49991 by CDS3', 'QIQ49971 by CDS3', 'QIQ49961 by CDS3', 'QIQ49951 by CDS3', 'QIQ49931 by CDS3', 'QIQ49911 by CDS3', 'QIQ49881 by CDS3', 'QIQ49861 by CDS3', 'QIQ49791 by CDS3', 'QIQ49781 by CDS3', 'QIQ50181 by CDS3', 'YP_009724389 by CDS3', 'QIM47466 by CDS3', 'YP_009725299 by CDS3', 'QIM47456 by CDS3', 'YP_009725298 by CDS3', 'YP_009725300 by CDS3', '6LU7_A by CDS3', '6Y84_A by CDS3', '6M03_A by CDS3', '5R84_A by CDS3', '5R83_A by CDS3', '5R82_A by CDS3', '5R81_A by CDS3', '5R80_A by CDS3', '5R7Z_A by CDS3', '5R7Y_A by CDS3', 'YP_009725301 by CDS3', 'YP_009725302 by CDS3', 'QID88857 by CDS3', 'QIB84670 by CDS3', 'YP_009725304 by CDS3', 'YP_009725297 by CDS3', '6W02_A by CDS3', '6W02_B by CDS3', '6W4H_B by CDS3', 'YP_009725306 by CDS3', '6W4B_A by CDS3', '6W4B_B by CDS3', 'YP_009725305 by CDS3', 'QIH55230 by CDS3', 'QII87778 by CDS3', 'QII87777 by CDS3', 'YP_009725303 by CDS3', 'YP_009725312 by CDS3']  are most similar ones, and they have 100.0 % identity with reference gene \n",
      "\n",
      "['QIQ49921', 'QIQ49921 by CDS3']  are most different ones, and they have 98.182 % identity with reference gene\n"
     ]
    }
   ],
   "source": [
    "#analze of the blast result by using blast, blast_analysis function\n",
    "print(\"Q.(optional) whats the result hich protein is most similar to SARS-CoV N protein? Which protein is most different to MERS N protein?\")\n",
    "orf1ab_DNA_SARS = blastN('../data/SARS_DNA_blastn_orf1ab.nbl')\n",
    "orf1ab_DNA_MERS = blastN('../data/MERS_DNA_blastn_orf1ab.nbl')\n",
    "orf1ab_DNA_nCoV = blastN('../data/nCoV_DNA_blastn_orf1ab.nbl')\n",
    "\n",
    "\n",
    "orf1ab_prot_SARS = blastP('../data/SARS_protein_blastp.tbl')\n",
    "orf1ab_prot_MERS = blastP('../data/MERS_protein_blastp.tbl')\n",
    "orf1ab_prot_nCoV = blastP('../data/nCoV_DNA_blastp_orf1ab.tbl')\n",
    "\n",
    "\n",
    "print('**In SARS orf1ab protein blastN result, \\n')\n",
    "blast_analysis(orf1ab_DNA_SARS)\n",
    "\n",
    "print('\\n**In SARS orf1ab protein blastP result, \\n')\n",
    "blast_analysis(orf1ab_prot_SARS)\n",
    "\n",
    "print('\\n \\n**In MERS orf1ab protein blastN result, \\n')\n",
    "blast_analysis(orf1ab_DNA_MERS)\n",
    "\n",
    "print('\\n**In MERS orf1ab protein blastP result, \\n')\n",
    "blast_analysis(orf1ab_prot_MERS)\n",
    "\n",
    "print('\\n \\n**In 2019nCoV.2020_03_27 orf1ab protein blastN result, \\n')\n",
    "blast_analysis(orf1ab_DNA_nCoV)\n",
    "\n",
    "print('\\n**In In 2019nCoV.2020_03_27 orf1ab protein blastP result, \\n')\n",
    "blast_analysis(orf1ab_prot_nCoV)\n"
   ]
  },
  {
   "cell_type": "markdown",
   "metadata": {},
   "source": [
    "## Result\n",
    "<ul>\n",
    "    <li> reference virus: GCF_009858895.2_ASM985889v3\n",
    "    <li> in N protein case, the most different virus in 2019nCoV_2020_03_27 has 99.762% of identity in genome, 98.496% of indentity in protein. \n",
    "    <li> in orf1ab(RNA dependent RNA polymerase) case, the most different virus in 2019nCoV_2020_03_27 has 99.791% of identity in genome, 98.182% of indentity in protein.\n",
    "    <li> this result means that N proteins and orf1ab in 2019nCoV are not that much modified(developed).\n",
    "    <li> compare the reference virus with SARS and MERS, both N protein and orf1ab are more similar with SARS rather than MERS.\n",
    "</ul>"
   ]
  },
  {
   "cell_type": "code",
   "execution_count": null,
   "metadata": {},
   "outputs": [],
   "source": []
  }
 ],
 "metadata": {
  "kernelspec": {
   "display_name": "Python 3",
   "language": "python",
   "name": "python3"
  },
  "language_info": {
   "codemirror_mode": {
    "name": "ipython",
    "version": 3
   },
   "file_extension": ".py",
   "mimetype": "text/x-python",
   "name": "python",
   "nbconvert_exporter": "python",
   "pygments_lexer": "ipython3",
   "version": "3.7.6"
  }
 },
 "nbformat": 4,
 "nbformat_minor": 4
}
