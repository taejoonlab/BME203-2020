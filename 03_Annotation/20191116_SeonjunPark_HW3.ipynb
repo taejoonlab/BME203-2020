{
 "cells": [
  {
   "cell_type": "markdown",
   "metadata": {},
   "source": [
    "# Task_03. Collect SARS-CoV-2 N protein & (optional) RNA-dependent RNA proteins\n",
    "\n",
    "## Data files\n",
    "<ul>\n",
    "    <li> The genome of Covid-19: '../data/2019nCoV_genomes.2020_03_27.fa'\n",
    "    <li> The protein of Covid-19: '../data/2019nCoV_proteins.2020_03_27.fa'\n",
    "    <li> The genome of MERS: '../data/MERS_genomes.2020_02_03.fa'\n",
    "    <li> The genome of SARS: '../data/SARS_genomes.2020_02_03.fa'\n",
    "    <li> Reference file for Covid-19: GCF_009858895 files\n",
    "</ul>\n",
    "    \n",
    "## Procedures\n",
    "<ol>\n",
    "<li> Read GCF_009858895.2 genomic info file.\n",
    "<li> Make N-protein cDNA sequence and translate it.\n",
    "<li> Solve below questions\n",
    "<li> Extraction results of N-protein cDNA and N-protein sequences.\n",
    "</ol>\n",
    "\n",
    "## Questions\n",
    "<ol>\n",
    "    <li> Q1. Compare protein sequence from cDNA to GCF_009858895.2_ASM985889v3_protein.fna. According to this information, extract N proteins          cDNA/proteins from other SARS-CoV2 genomes (either 02_03 or 03_27).\n",
    "    <li> Q2. Which pairs are most similar ones? Which pairs are most different ones? From this information, extract N proteins cDNA/proteins            from other SARS & MERS genomes.\n",
    "    <li> Q3. Which protein is most similar to SARS-CoV N protein? Which protein is most different to MERS N protein?\n",
    "</ol>"
   ]
  },
  {
   "cell_type": "code",
   "execution_count": 9,
   "metadata": {},
   "outputs": [],
   "source": [
    "# The function to read sequences from a FASTA file\n",
    "def read_fasta(tmp):\n",
    "    r = dict()\n",
    "    fi = open(tmp, 'r')\n",
    "    for line in fi:\n",
    "        if line.startswith('>'):\n",
    "            h_g = line.strip().lstrip('>')\n",
    "            r[h_g] = ''\n",
    "        else:\n",
    "            r[h_g] += line.strip().replace(' ', '')\n",
    "    fi.close()\n",
    "    return r"
   ]
  },
  {
   "cell_type": "code",
   "execution_count": 10,
   "metadata": {},
   "outputs": [],
   "source": [
    "# Read genomes and define gff file\n",
    "SARS_CoV2_ref_genomes = '../data/GCF_009858895.2_ASM985889v3_genomic.fna'\n",
    "genome_COVID_ref = read_fasta(SARS_CoV2_ref_genomes)\n",
    "CoV2_ref_idx = '../data/GCF_009858895.2_ASM985889v3_genomic.gff'"
   ]
  },
  {
   "cell_type": "code",
   "execution_count": 11,
   "metadata": {},
   "outputs": [],
   "source": [
    "# Get index\n",
    "def get_idx(t, p):\n",
    "    fi = open(t, 'r')\n",
    "    for line in fi.readlines():\n",
    "        if \"gene\" in line and \"Name={}\".format(p) in line:\n",
    "            idx_s = int(line.split()[3])-1\n",
    "            idx_e = int(line.split()[4])-1\n",
    "            idx = (idx_s, idx_e)\n",
    "    return idx\n",
    "N_idx = get_idx(CoV2_ref_idx, 'N')"
   ]
  },
  {
   "cell_type": "code",
   "execution_count": 12,
   "metadata": {},
   "outputs": [],
   "source": [
    "# Get the cDNA seq of N protein\n",
    "for seq in genome_COVID_ref.values():\n",
    "    ref_N_cDNA = seq[N_idx[0]:N_idx[1]+1]\n",
    "ref_Np_cDNA = {'N_prot_cDNA' : [ref_N_cDNA]}\n",
    "def w_seq(fi, gc):\n",
    "    f = open(fi, 'w')\n",
    "    for g in list(gc.keys()):\n",
    "        if len(gc[g]) == 1:\n",
    "            f.write(\">{}\\n\".format(g))\n",
    "            f.write(\"{}\\n\".format(gc[g][0]))\n",
    "        else:\n",
    "            for i in range(len(gc[g])):\n",
    "                f.write(\">{} #{}\\n\".format(g, i+1))\n",
    "                f.write(\"\\n{}\".format(gc[g][i]))\n",
    "    f.close()\n",
    "w_seq(\"ref_Np_cDNA.fa\", ref_Np_cDNA)"
   ]
  },
  {
   "cell_type": "code",
   "execution_count": 13,
   "metadata": {},
   "outputs": [
    {
     "data": {
      "text/plain": [
       "'\\n(base) mirna@DESKTOP-BN3PD9C:~/git/BME203-2020/03_Annotation$ transeq --sequence ref_Np_cDNA.fa --outseq ref_Np_protein.fa\\n'"
      ]
     },
     "execution_count": 13,
     "metadata": {},
     "output_type": "execute_result"
    }
   ],
   "source": [
    "# Translate it to protein seq\n",
    "'''\n",
    "(base) mirna@DESKTOP-BN3PD9C:~/git/BME203-2020/03_Annotation$ transeq --sequence ref_Np_cDNA.fa --outseq ref_Np_protein.fa\n",
    "'''"
   ]
  },
  {
   "cell_type": "code",
   "execution_count": 14,
   "metadata": {},
   "outputs": [
    {
     "name": "stdout",
     "output_type": "stream",
     "text": [
      "They are same\n"
     ]
    }
   ],
   "source": [
    "# HW 3-1. Compare it to GCF_009858895.2_ASM985889v3_protein.fna.\n",
    "N_ref_prot = 'ref_Np_protein.fa'\n",
    "N_ref_tl = read_fasta(N_ref_prot)\n",
    "\n",
    "fi_ref_prot = '../data/GCF_009858895.2_ASM985889v3_protein.faa'\n",
    "ref_prot = read_fasta(fi_ref_prot)\n",
    "\n",
    "# Define compare funtion\n",
    "def compare(a, b):\n",
    "    if a == b:\n",
    "        print(\"They are same\")\n",
    "    else:\n",
    "        print(\"They are different\")\n",
    "        \n",
    "# Compare it to ref_prot sequence\n",
    "Np_from_cDNA = N_ref_tl['N_prot_cDNA_1'][:-1]\n",
    "Np_from_ref = ref_prot['YP_009724397.2 nucleocapsid phosphoprotein [Wuhan seafood market pneumonia virus]']\n",
    "\n",
    "compare(Np_from_cDNA, Np_from_ref)"
   ]
  },
  {
   "cell_type": "code",
   "execution_count": 15,
   "metadata": {},
   "outputs": [
    {
     "name": "stdout",
     "output_type": "stream",
     "text": [
      "['MT049951', 'MT066176', 'MT066175', 'MT072688', 'MT093571', 'MT093631', 'MT123292', 'LC528232', 'LC528233', 'MT126808', 'MT135044', 'MT135042', 'MT135041', 'MT152824', 'MT050493', 'MT012098', 'MT066156', 'MT121215', 'MT163718', 'MT163717', 'MT163716', 'MT163719', 'MT192773', 'MT192759', 'MT192765', 'MT192772', 'MT240479', 'MT246490', 'MT246489', 'MT246488', 'MT246487', 'MT246486', 'MT246484', 'MT246482', 'MT246481', 'MT246480', 'MT246479', 'MT246478', 'MT246477', 'MT246476', 'MT246475', 'MT246474', 'MT246473', 'MT246472', 'MT246471', 'MT246469', 'MT246468', 'MT246467', 'MT246466', 'MT246464', 'MT246462', 'MT246461', 'MT246460', 'MT246459', 'MT246458', 'MT246457', 'MT246455', 'MT246453', 'MT246452', 'MT246450', 'MT246449'] are the most similar, and the match percentage is 100.0% \n",
      "\n",
      "['MT233522', 'MT246470', 'MT246451'] are the most different, and the match percentage is 99.762% \n",
      "\n"
     ]
    }
   ],
   "source": [
    "# HW 3-2-1 Which pairs are most similar ones? Which pairs are most different ones? From this information, extract N proteins cDNA from SARS-CoV2 genomes.\n",
    "'''\n",
    "(base) mirna@DESKTOP-BN3PD9C:~/git/BME203-2020/data$ makeblastdb -dbtype nucl -in 2019nCoV_genomes.2020_03_27.fa -out 2019nCoV_genomes.2020_03_27.blastdb\n",
    "(base) mirna@DESKTOP-BN3PD9C:~/git/BME203-2020/03_Annotation$ blastn -db ../data/2019nCoV_genomes.2020_03_27.blastdb -query ref_Np_cDNA.fa -outfmt 7 -out cDNA_Np_03_27_nblast.nbl\n",
    "'''\n",
    "\n",
    "# Define the function of similarities of each pairs    \n",
    "def simi(seq_fi, prot_name):\n",
    "    fi = open(seq_fi, 'r')\n",
    "    match_per = []\n",
    "    for li in fi.readlines():\n",
    "        if li.startswith(prot_name):\n",
    "            match_per.append(float(li.split()[2]))\n",
    "    if len(match_per) != 0:\n",
    "        max_match = max(match_per)\n",
    "        min_match = min(match_per)\n",
    "    elif len(match_per) == 0:\n",
    "        max_match = 0\n",
    "        min_match = 0\n",
    "    fi.close()\n",
    "    \n",
    "    fi = open(seq_fi, 'r')\n",
    "    max_names = []\n",
    "    min_names = []\n",
    "    for li in fi.readlines():\n",
    "        if li.startswith(prot_name):\n",
    "            if li.split()[2] == str(format(max_match, \".3f\")):\n",
    "                max_names.append(li.split()[1])\n",
    "            if li.split()[2] == str(format(min_match, \".3f\")):\n",
    "                min_names.append(li.split()[1])\n",
    "    print(max_names, \"are the most similar, and the match percentage is {}% \\n\".format(max_match))\n",
    "    print(min_names, \"are the most different, and the match percentage is {}% \\n\".format(min_match))\n",
    "    fi.close()\n",
    "\n",
    "# Print out similarities of each pairs\n",
    "Np_nblast = 'cDNA_Np_03_27_nblast.nbl'\n",
    "simi(Np_nblast, 'N_prot_cDNA')\n",
    "\n",
    "# Define the function to extract the N protein cDNA seq\n",
    "def extract_cDNA(result_cDNA, seq_fi, prot_name):\n",
    "    fi = open(seq_fi, 'r')\n",
    "    result_cDNA_write = {key[:8] : result_cDNA[key] for key in result_cDNA.keys()}\n",
    "    result_cDNA_seq = {}\n",
    "    for li in fi.readlines():\n",
    "        if li.startswith(prot_name):\n",
    "            key_c = str(li.split()[1])\n",
    "            idx_s = int(li.split()[8])-1\n",
    "            idx_e = int(li.split()[9])-1\n",
    "            result_cDNA_seq[key_c] = result_cDNA_write[key_c][idx_s:idx_e+1]\n",
    "    fi.close()\n",
    "    return result_cDNA_seq\n",
    "\n",
    "# Extract the N protein cDNA seq\n",
    "nucl_seq = read_fasta('../data/2019nCoV_genomes.2020_03_27.fa')\n",
    "#extract_cDNA(nucl_seq, Np_nblast, 'N_prot_cDNA')"
   ]
  },
  {
   "cell_type": "code",
   "execution_count": 16,
   "metadata": {},
   "outputs": [
    {
     "name": "stdout",
     "output_type": "stream",
     "text": [
      "['MT049951_2', 'MT066176_2', 'MT066175_2', 'MT072688_2', 'MT093571_2', 'MT093631_1', 'MT123293_2', 'MT123291_2', 'MT123292_2', 'LC528232_2', 'LC528233_1', 'MT126808_2', 'MT135044_2', 'MT135042_2', 'MT135041_2', 'MT152824_3', 'MT050493_3', 'MT012098_1', 'MT066156_2', 'MT121215_2', 'MT163718_2', 'MT163717_2', 'MT163716_2', 'MT163719_2', 'MT192773_1', 'MT192759_2', 'MT192765_1', 'MT192772_2', 'MT240479_2', 'MT246490_3', 'MT246489_3', 'MT246488_2', 'MT246487_1', 'MT246486_3', 'MT246484_3', 'MT246482_2', 'MT246481_3', 'MT246480_1', 'MT246479_3', 'MT246478_1', 'MT246477_1', 'MT246476_2', 'MT246475_3', 'MT246474_1', 'MT246473_3', 'MT246472_1', 'MT246471_3', 'MT246469_1', 'MT246468_2', 'MT246467_2', 'MT246466_2', 'MT246464_2', 'MT246462_2', 'MT246461_3', 'MT246460_2', 'MT246459_2', 'MT246458_2', 'MT246457_3', 'MT246455_2', 'MT246454_2', 'MT246453_3', 'MT246452_1', 'MT246450_1', 'MT246449_3'] are the most similar, and the match percentage is 100.0% \n",
      "\n",
      "['MT233522_2', 'MT246470_2', 'MT246451_2'] are the most different, and the match percentage is 99.524% \n",
      "\n"
     ]
    }
   ],
   "source": [
    "# HW 3-2-2 Which pairs are most similar ones? Which pairs are most different ones? From this information, extract N proteins cDNA/proteins from other SARS-CoV2 genomes.\n",
    "'''\n",
    "(base) mirna@DESKTOP-BN3PD9C:~/git/BME203-2020/03_Annotation$ transeq --sequence ../data/2019nCoV_genomes.2020_03_27.fa --outseq 2019nCoV_genomes.2020_03_27_AA.fa -frame 6\n",
    "(base) mirna@DESKTOP-BN3PD9C:~/git/BME203-2020/03_Annotation$ makeblastdb -dbtype prot -in 2019nCoV_genomes.2020_03_27_AA.fa -out 2019nCoV.2020_03_27_AA\n",
    "(base) mirna@DESKTOP-BN3PD9C:~/git/BME203-2020/03_Annotation$ blastp -db 2019nCoV.2020_03_27_AA -query ref_Np_protein.fa -outfmt 7 -out AA_Np_03_27_tblast.tbl\n",
    "'''\n",
    "\n",
    "# Print out similarities of each pairs\n",
    "Np_tblast = 'AA_Np_03_27_tblast.tbl'\n",
    "simi(Np_tblast, 'N_prot_cDNA_1')\n",
    "\n",
    "# Define the function to extract the N protein AA seq\n",
    "def extract_prot(result_prot, seq_fi, prot_name):\n",
    "    fi = open(seq_fi, 'r')\n",
    "    result_prot_write = {key[:10] : result_prot[key] for key in result_prot.keys()}\n",
    "    result_prot_seq = {}\n",
    "    for li in fi.readlines():\n",
    "        if li.startswith(prot_name):\n",
    "            key_c = str(li.split()[1])\n",
    "            idx_s = int(li.split()[8])-1\n",
    "            idx_e = int(li.split()[9])-1\n",
    "            result_prot_seq[key_c] = result_prot_write[key_c][idx_s:idx_e+1]\n",
    "    fi.close()\n",
    "    return result_prot_seq\n",
    "\n",
    "# Extract the N protein cDNA seq\n",
    "protAA_seq = read_fasta('2019nCoV_genomes.2020_03_27_AA.fa')\n",
    "#extract_cDNA(protAA_seq, Np_tblast, 'N_prot_cDNA_1')"
   ]
  },
  {
   "cell_type": "code",
   "execution_count": 17,
   "metadata": {},
   "outputs": [
    {
     "name": "stdout",
     "output_type": "stream",
     "text": [
      "['ENA|DQ084200|DQ084200.1', 'ENA|DQ084199|DQ084199.1', 'ENA|DQ022305|DQ022305.2'] are the most similar, and the match percentage is 88.862% \n",
      "\n",
      "['ENA|AY686863|AY686863.1'] are the most different, and the match percentage is 88.217% \n",
      "\n",
      "['KU973692.1_3', 'DQ898174.1_1', 'FJ882949.1_1', 'FJ882934.1_3', 'FJ882937.1_2', 'FJ882935.1_1', 'FJ882933.1_2', 'FJ882947.1_3', 'FJ882946.1_1', 'FJ882927.1_2', 'FJ882932.1_3', 'FJ882939.1_3', 'FJ882936.1_3', 'FJ882938.1_2', 'FJ882941.1_1', 'FJ882929.1_1', 'FJ882944.1_3', 'FJ882940.1_3', 'FJ882954.1_2', 'FJ882960.1_3', 'FJ882955.1_3', 'FJ882931.1_3', 'FJ882928.1_2', 'FJ882926.1_2', 'FJ882930.1_2', 'AY362698.1_1', 'AY394850.2_2'] are the most similar, and the match percentage is 90.544% \n",
      "\n",
      "['DQ084200.1_3', 'DQ022305.2_2'] are the most different, and the match percentage is 89.573% \n",
      "\n"
     ]
    }
   ],
   "source": [
    "# HW 3-3-1 Which protein is most similar to SARS-CoV2 N protein? Which protein is most different to SARS N protein?\n",
    "'''\n",
    "(base) mirna@DESKTOP-BN3PD9C:~/git/BME203-2020/data$ makeblastdb -dbtype nucl -in SARS_genomes.2020_02_03.fa -out SARS_genomes.2020_02_03.blastdb\n",
    "(base) mirna@DESKTOP-BN3PD9C:~/git/BME203-2020/03_Annotation$ blastn -db ../data/SARS_genomes.2020_02_03.blastdb -query ref_Np_cDNA.fa -outfmt 7 -out SARS_cDNA_Np_03_27_nblast.nbl\n",
    "(base) mirna@DESKTOP-BN3PD9C:~/git/BME203-2020/03_Annotation$ transeq --sequence ../data/SARS_genomes.2020_02_03.fa --outseq SARS_genomes.2020_02_03_AA.fa -frame 6\n",
    "(base) mirna@DESKTOP-BN3PD9C:~/git/BME203-2020/03_Annotation$ makeblastdb -dbtype prot -in SARS_genomes.2020_02_03_AA.fa -out SARS_genomes.2020_02_03_AA\n",
    "(base) mirna@DESKTOP-BN3PD9C:~/git/BME203-2020/03_Annotation$ blastp -db SARS_genomes.2020_02_03_AA -query ref_Np_protein.fa -outfmt 7 -out SARS_AA_Np_03_27_tblast.tbl\n",
    "'''\n",
    "\n",
    "# Print out similarities of each pairs in nblast\n",
    "SARS_Np_nblast = 'SARS_cDNA_Np_03_27_nblast.nbl'\n",
    "simi(SARS_Np_nblast, 'N_prot_cDNA')\n",
    "\n",
    "# Print out similarities of each pairs in tblast\n",
    "SARS_Np_tblast = 'SARS_AA_Np_03_27_tblast.tbl'\n",
    "simi(SARS_Np_tblast, 'N_prot_cDNA_1')\n",
    "\n",
    "# Define the function to extract the N protein cDNA and AA seq in SARS OR MERS\n",
    "def extract_SM(result, seq_fi, prot_name):\n",
    "    fi = open(seq_fi, 'r')\n",
    "    result_write = {key[:12] : result[key] for key in result.keys()}\n",
    "    result_seq = {}\n",
    "    for li in fi.readlines():\n",
    "        if li.startswith(prot_name):\n",
    "            key_c = str(li.split()[1])\n",
    "            idx_s = int(li.split()[8])-1\n",
    "            idx_e = int(li.split()[9])-1\n",
    "            result_seq[key_c] = result_write[key_c][idx_s:idx_e+1]\n",
    "    fi.close()\n",
    "    return result_seq\n",
    "\n",
    "# Extract the N protein cDNA seq\n",
    "SARS_nucl_seq = read_fasta('../data/SARS_genomes.2020_02_03.fa')\n",
    "#extract_SM(SARS_nucl_seq, SARS_Np_nblast, 'N_prot_cDNA')\n",
    "\n",
    "# Extract the N protein cDNA seq\n",
    "SARS_protAA_seq = read_fasta('SARS_genomes.2020_02_03_AA.fa')\n",
    "#extract_SM(SARS_protAA_seq, SARS_Np_tblast, 'N_prot_cDNA_1')"
   ]
  },
  {
   "cell_type": "code",
   "execution_count": 18,
   "metadata": {},
   "outputs": [
    {
     "name": "stdout",
     "output_type": "stream",
     "text": [
      "[] are the most similar, and the match percentage is 0% \n",
      "\n",
      "[] are the most different, and the match percentage is 0% \n",
      "\n",
      "['KX574227.1_3'] are the most similar, and the match percentage is 50.142% \n",
      "\n",
      "['KX108941.1_2'] are the most different, and the match percentage is 43.333% \n",
      "\n"
     ]
    }
   ],
   "source": [
    "# HW 3-3-2 Which protein is most similar to SARS-CoV2 N protein? Which protein is most different to SARS N protein?\n",
    "'''\n",
    "(base) mirna@DESKTOP-BN3PD9C:~/git/BME203-2020/data$ makeblastdb -dbtype nucl -in MERS_genomes.2020_02_03.fa -out MERS_genomes.2020_02_03.blastdb\n",
    "(base) mirna@DESKTOP-BN3PD9C:~/git/BME203-2020/03_Annotation$ blastn -db ../data/MERS_genomes.2020_02_03.blastdb -query ref_Np_cDNA.fa -outfmt 7 -out MERS_cDNA_Np_03_27_nblast.nbl\n",
    "(base) mirna@DESKTOP-BN3PD9C:~/git/BME203-2020/03_Annotation$ transeq --sequence ../data/MERS_genomes.2020_02_03.fa --outseq MERS_genomes.2020_02_03_AA.fa -frame 6\n",
    "(base) mirna@DESKTOP-BN3PD9C:~/git/BME203-2020/03_Annotation$ makeblastdb -dbtype prot -in MERS_genomes.2020_02_03_AA.fa -out MERS_genomes.2020_02_03_AA\n",
    "(base) mirna@DESKTOP-BN3PD9C:~/git/BME203-2020/03_Annotation$ blastp -db MERS_genomes.2020_02_03_AA -query ref_Np_protein.fa -outfmt 7 -out MERS_AA_Np_03_27_tblast.tbl\n",
    "'''\n",
    "\n",
    "# Print out similarities of each pairs in nblast\n",
    "MERS_Np_nblast = 'MERS_cDNA_Np_03_27_nblast.nbl'\n",
    "simi(MERS_Np_nblast, 'N_prot_cDNA')\n",
    "\n",
    "# Print out similarities of each pairs in tblast\n",
    "MERS_Np_tblast = 'MERS_AA_Np_03_27_tblast.tbl'\n",
    "simi(MERS_Np_tblast, 'N_prot_cDNA_1')\n",
    "\n",
    "# Extract the N protein cDNA seq\n",
    "MERS_nucl_seq = read_fasta('../data/MERS_genomes.2020_02_03.fa')\n",
    "#extract_SM(MERS_nucl_seq, MERS_Np_nblast, 'N_prot_cDNA')\n",
    "\n",
    "# Extract the N protein cDNA seq\n",
    "MERS_protAA_seq = read_fasta('MERS_genomes.2020_02_03_AA.fa')\n",
    "#extract_SM(MERS_protAA_seq, MERS_Np_tblast, 'N_prot_cDNA_1')"
   ]
  },
  {
   "cell_type": "code",
   "execution_count": null,
   "metadata": {},
   "outputs": [],
   "source": []
  }
 ],
 "metadata": {
  "kernelspec": {
   "display_name": "Python 3",
   "language": "python",
   "name": "python3"
  },
  "language_info": {
   "codemirror_mode": {
    "name": "ipython",
    "version": 3
   },
   "file_extension": ".py",
   "mimetype": "text/x-python",
   "name": "python",
   "nbconvert_exporter": "python",
   "pygments_lexer": "ipython3",
   "version": "3.7.6"
  }
 },
 "nbformat": 4,
 "nbformat_minor": 4
}
