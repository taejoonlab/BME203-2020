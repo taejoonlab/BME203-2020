{
 "cells": [
  {
   "cell_type": "markdown",
   "metadata": {},
   "source": [
    "# Task_03. Collect SARS-CoV-2 N protein & (optional) RNA-dependent RNA proteins \n",
    "\n",
    "## Homework_03_Procedures\n",
    "<ol>\n",
    "     <li> Read GCF_009858895.2 genomic info.\n",
    "     <li> Make N-protein cDNA sequence.\n",
    "     <li> Translate it to protein sequence. \n",
    "     <li> Q1. Compare it to GCF_009858895.2_ASM985889v3_protein.fna\n",
    "     <li> Based on this info, extract N proteins cDNA/proteins from other SARS-CoV2 genomes (either 02_03 or 03_27).\n",
    "     <li> Q2. Which pairs are most similar ones? Which pairs are most different ones?\n",
    "     <li> Based on this info, extract N proteins cDNA/proteins from other SARS & MERS genomes.\n",
    "     <li> Q3. Which protein is most similar to SARS-CoV N protein? Which protein is most different to MERS N protein?\n",
    "     <li> An optional assignment for RdRP for Q1, Q2 and Q3\n",
    "     <li> Extraction results of N-protein cDNA and N-protein sequences.\n",
    "              \n",
    "</ol>\n",
    "\n",
    "\n",
    "\n",
    "\n",
    "## Data files\n",
    "<ul>\n",
    "    <li> The genome of Covid-19: '../data/2019nCoV_genomes.2020_03_27.fa'   \n",
    "    <li> The protein of Covid-19: '../data/2019nCoV_proteins.2020_03_27.fa'\n",
    "    <li> The genome of MERS: '../data/MERS_genomes.2020_02_03.fa'\n",
    "    <li> The genome of SARS: '../data/SARS_genomes.2020_02_03.fa'\n",
    "    <li> Reference file for Covid-19: GCF_009858895 files\n",
    "         \n",
    "</ul>\n",
    "    "
   ]
  },
  {
   "cell_type": "code",
   "execution_count": 1,
   "metadata": {},
   "outputs": [],
   "source": [
    "#1. Read GCF_009858895.2 genomic info.\n",
    "\n",
    "#2. Make N-protein cDNA sequence.\n",
    "\n",
    "#3. Translate it to protein sequence. \n",
    "\n",
    "#Q1. Compare it to GCF_009858895.2_ASM985889v3_protein.fna. Are they same?\n",
    "\n",
    "#4. Based on this info, extract N proteins cDNA/proteins from other SARS-CoV-2 genomes (either 02_03 or 03_27).\n",
    "\n",
    "#Q2. Which pairs are most similar ones? Which pairs are most different ones?\n",
    "\n",
    "#5. Based on this info, extract N proteins cDNA/proteins from other SARS & MERS genomes.\n",
    "\n",
    "#Q3. Which protein is most similar to SARS-CoV N protein? Which protein is most different to MERS N protein?"
   ]
  },
  {
   "cell_type": "code",
   "execution_count": 2,
   "metadata": {},
   "outputs": [],
   "source": [
    "# The function to get the reverse complementary sequences\n",
    "rc = {'A': 'T', 'T': 'A', 'G': 'C', 'C': 'G'}\n",
    "def revcomp(tmp_seq):\n",
    "    # from the end of input sequence to the beginning, \n",
    "    # replace each nucleotide to its complementary one.\n",
    "    #\n",
    "    # The single line code at the end of this function is equivalent to the following 4 lines.\n",
    "    # rv = []\n",
    "    # for tmp_n in tmp_seq[::-1]:\n",
    "    #     rv.append(rc[tmp_n])\n",
    "    # return ''.join(rv)\n",
    "    \n",
    "    return ''.join([rc[x] for x in tmp_seq[::-1]])\n",
    "\n",
    "#print(revcomp('AATTGGCC'))\n",
    "#GGCCAATT\n",
    "def reverse(tmp_seq):\n",
    "    return ''.join([rc[x] for x in tmp_seq[::]])\n",
    "#print(reverse('AATTGGCC'))\n",
    "#TTAACCGG"
   ]
  },
  {
   "cell_type": "code",
   "execution_count": 3,
   "metadata": {},
   "outputs": [],
   "source": [
    "# The function to read sequences from a FASTA file\n",
    "def read_fasta(tmp_filename):\n",
    "    rv = dict()\n",
    "    f = open(tmp_filename, 'r')\n",
    "    for line in f:\n",
    "        if line.startswith('>'):\n",
    "            tmp_h = line.strip().lstrip('>')\n",
    "            rv[tmp_h] = ''\n",
    "        else:\n",
    "            rv[tmp_h] += line.strip().replace(' ', '')\n",
    "    f.close()\n",
    "    return rv"
   ]
  },
  {
   "cell_type": "code",
   "execution_count": 5,
   "metadata": {},
   "outputs": [
    {
     "name": "stdout",
     "output_type": "stream",
     "text": [
      "NC_045512.2 Wuhan seafood market pneumonia virus isolate Wuhan-Hu-1, complete genome ATTAAAGGTTTATACCTTCCCAGGT\n"
     ]
    }
   ],
   "source": [
    "#1. Read GCF_009858895.2 genomic info.\n",
    "gene_read = '../data/GCF_009858895.2_ASM985889v3_genomic.fna'\n",
    "gene_GCF = read_fasta(gene_read)\n",
    "for g_h, g_seq in gene_GCF.items():\n",
    "    print(g_h, g_seq[:25])\n"
   ]
  },
  {
   "cell_type": "code",
   "execution_count": 6,
   "metadata": {},
   "outputs": [],
   "source": [
    "# The functino to read index\n",
    "def read_index(tmp_filename, protein):\n",
    "    f = open(tmp_filename, 'r')\n",
    "    for line in f.readlines():\n",
    "        if 'gene' in line and 'Name={}'.format(protein) in line:\n",
    "            return int(line.split()[3])-1, int(line.split()[4])-1\n",
    "            \n",
    "            '''index_s = int(line.split()[3]) - 1 #because it strats with 1\n",
    "            index_e = int(line.split()[4]) - 1\n",
    "            index = index_s, index_e\n",
    "            return index\n",
    "            '''"
   ]
  },
  {
   "cell_type": "code",
   "execution_count": 7,
   "metadata": {},
   "outputs": [
    {
     "name": "stdout",
     "output_type": "stream",
     "text": [
      "(28273, 29532)\n"
     ]
    }
   ],
   "source": [
    "#2. Make N-protein cDNA sequence.\n",
    "index_read = '../data/GCF_009858895.2_ASM985889v3_genomic.gff'\n",
    "GCF_index = read_index(index_read, 'N')\n",
    "print(GCF_index)\n",
    "#print(GCF_index[0])"
   ]
  },
  {
   "cell_type": "code",
   "execution_count": 8,
   "metadata": {},
   "outputs": [
    {
     "name": "stdout",
     "output_type": "stream",
     "text": [
      "[2, 3, 4, 5, 6]\n",
      "28273 29532\n",
      "ATGTCTGATAATGGACCCCAAAATCAGCGAAATGCACCCCGCATTACGTTTGGTGGACCCTCAGATTCAACTGGCAGTAACCAGAATGGAGAACGCAGTGGGGCGCGATCAAAACAACGTCGGCCCCAAGGTTTACCCAATAATACTGCGTCTTGGTTCACCGCTCTCACTCAACATGGCAAGGAAGACCTTAAATTCCCTCGAGGACAAGGCGTTCCAATTAACACCAATAGCAGTCCAGATGACCAAATTGGCTACTACCGAAGAGCTACCAGACGAATTCGTGGTGGTGACGGTAAAATGAAAGATCTCAGTCCAAGATGGTATTTCTACTACCTAGGAACTGGGCCAGAAGCTGGACTTCCCTATGGTGCTAACAAAGACGGCATCATATGGGTTGCAACTGAGGGAGCCTTGAATACACCAAAAGATCACATTGGCACCCGCAATCCTGCTAACAATGCTGCAATCGTGCTACAACTTCCTCAAGGAACAACATTGCCAAAAGGCTTCTACGCAGAAGGGAGCAGAGGCGGCAGTCAAGCCTCTTCTCGTTCCTCATCACGTAGTCGCAACAGTTCAAGAAATTCAACTCCAGGCAGCAGTAGGGGAACTTCTCCTGCTAGAATGGCTGGCAATGGCGGTGATGCTGCTCTTGCTTTGCTGCTGCTTGACAGATTGAACCAGCTTGAGAGCAAAATGTCTGGTAAAGGCCAACAACAACAAGGCCAAACTGTCACTAAGAAATCTGCTGCTGAGGCTTCTAAGAAGCCTCGGCAAAAACGTACTGCCACTAAAGCATACAATGTAACACAAGCTTTCGGCAGACGTGGTCCAGAACAAACCCAAGGAAATTTTGGGGACCAGGAACTAATCAGACAAGGAACTGATTACAAACATTGGCCGCAAATTGCACAATTTGCCCCCAGCGCTTCAGCGTTCTTCGGAATGTCGCGCATTGGCATGGAAGTCACACCTTCGGGAACGTGGTTGACCTACACAGGTGCCATCAAATTGGATGACAAAGATCCAAATTTCAAAGATCAAGTCATTTTGCTGAATAAGCATATTGACGCATACAAAACATTCCCACCAACAGAGCCTAAAAAGGACAAAAAGAAGAAGGCTGATGAAACTCAAGCCTTACCGCAGAGACAGAAGAAACAGCAAACTGTGACTCTTCTTCCTGCTGCAGATTTGGATGATTTCTCCAAACAATTGCAACAATCCATGAGCAGTGCTGACTCAACTCAGGCCTA\n"
     ]
    }
   ],
   "source": [
    "#3. Translate it to protein sequence.\n",
    "#(1)Sequnece of cDNA\n",
    "list_1 = [1,2,3,4,5,6,7]\n",
    "print(list_1[1:6])\n",
    "i_s = GCF_index[0]\n",
    "i_e = GCF_index[1]\n",
    "print(i_s, i_e)\n",
    "for g_h, g_seq in gene_GCF.items():\n",
    "    seq_cDNA = g_seq[i_s:i_e]\n",
    "    print(seq_cDNA)"
   ]
  },
  {
   "cell_type": "code",
   "execution_count": 9,
   "metadata": {},
   "outputs": [
    {
     "name": "stdout",
     "output_type": "stream",
     "text": [
      "MSDNGPQNQRNAPRITFGGPSDSTGSNQNGERSGARSKQRRPQGLPNNTASWFTALTQHGKEDLKFPRGQGVPINTNSSPDDQIGYYRRATRRIRGGDGKMKDLSPRWYFYYLGTGPEAGLPYGANKDGIIWVATEGALNTPKDHIGTRNPANNAAIVLQLPQGTTLPKGFYAEGSRGGSQASSRSSSRSRNSSRNSTPGSSRGTSPARMAGNGGDAALALLLLDRLNQLESKMSGKGQQQQGQTVTKKSAAEASKKPRQKRTATKAYNVTQAFGRRGPEQTQGNFGDQELIRQGTDYKHWPQIAQFAPSASAFFGMSRIGMEVTPSGTWLTYTGAIKLDDKDPNFKDQVILLNKHIDAYKTFPPTEPKKDKKKKADETQALPQRQKKQQTVTLLPAADLDDFSKQLQQSMSSADSTQA\n"
     ]
    }
   ],
   "source": [
    "#(2)Amino acid table\n",
    "table = {\n",
    "'TTT': 'F', 'TTC': 'F', 'TTA': 'L', 'TTG': 'L', 'TCT': 'S',\n",
    "'TCC': 'S', 'TCA': 'S', 'TCG': 'S', 'TAT': 'Y', 'TAC': 'Y',\n",
    "'TGT': 'C', 'TGC': 'C', 'TGG': 'W', 'CTT': 'L', 'CTC': 'L',\n",
    "'CTA': 'L', 'CTG': 'L', 'CCT': 'P', 'CCC': 'P', 'CCA': 'P',\n",
    "'CCG': 'P', 'CAT': 'H', 'CAC': 'H', 'CAA': 'Q', 'CAG': 'Q',\n",
    "'CGT': 'R', 'CGC': 'R', 'CGA': 'R', 'CGG': 'R', 'ATT': 'I',\n",
    "'ATC': 'I', 'ATA': 'I', 'ATG': 'M', 'ACT': 'T', 'ACC': 'T',\n",
    "'ACA': 'T', 'ACG': 'T', 'AAT': 'N', 'AAC': 'N', 'AAA': 'K',\n",
    "'AAG': 'K', 'AGT': 'S', 'AGC': 'S', 'AGA': 'R', 'AGG': 'R',\n",
    "'GTT': 'V', 'GTC': 'V', 'GTA': 'V', 'GTG': 'V', 'GCT': 'A',\n",
    "'GCC': 'A', 'GCA': 'A', 'GCG': 'A', 'GAT': 'D', 'GAC': 'D',\n",
    "'GAA': 'E', 'GAG': 'E', 'GGT': 'G', 'GGC': 'G', 'GGA': 'G',\n",
    "'GGG': 'G'}\n",
    "stop_codons = [ 'TAA', 'TAG', 'TGA']\n",
    "#(3)Make protein from cDNA\n",
    "if __name__ == '__main__':\n",
    "    for i in stop_codons:\n",
    "        table[i] = ''\n",
    "    seq = seq_cDNA\n",
    "    protein_GCF = []\n",
    "    check_stop = False\n",
    "    \n",
    "    for codon in range(0, len(seq)-len(seq)%3, 3):\n",
    "        if check_stop == False:\n",
    "            protein_GCF.append(table[seq[codon:codon+3]])\n",
    "            if table[seq[codon:codon+3]] == '':\n",
    "                check_stop = True\n",
    "        else:\n",
    "            protein.append('')\n",
    "            \n",
    "prot_GCF_cDNA = ''.join(protein_GCF)\n",
    "print(prot_GCF_cDNA)"
   ]
  },
  {
   "cell_type": "code",
   "execution_count": 10,
   "metadata": {},
   "outputs": [
    {
     "name": "stdout",
     "output_type": "stream",
     "text": [
      "GCF_009858895.2_ASM985889v3_protein.fna and our protein that made from cDNA is same\n"
     ]
    }
   ],
   "source": [
    "#Q1. Compare it to GCF_009858895.2_ASM985889v3_protein.fna. Are they same?\n",
    "#(1) Read GCF_009858895.2 protein info.\n",
    "prot_read = '../data/GCF_009858895.2_ASM985889v3_protein.faa'\n",
    "prot_GCF = read_fasta(prot_read)\n",
    "seq_prot = []\n",
    "for p_h, p_seq in prot_GCF.items():\n",
    "    #print(p_h, p_seq[:25])\n",
    "    #print(p_h)\n",
    "    if p_h == 'YP_009724397.2 nucleocapsid phosphoprotein [Wuhan seafood market pneumonia virus]':\n",
    "        seq_prot.append(p_seq)\n",
    "    else:\n",
    "        pass\n",
    "#print(seq_prot)\n",
    "#(2) Compare\n",
    "A = seq_prot[0] == prot_GCF_cDNA\n",
    "if A == True:\n",
    "    print('GCF_009858895.2_ASM985889v3_protein.fna and our protein that made from cDNA is same')"
   ]
  },
  {
   "cell_type": "code",
   "execution_count": 11,
   "metadata": {},
   "outputs": [],
   "source": [
    "#make fasta file from N cDNA\n",
    "ofile = open(\"../data/N_cDNA.fa\", \"w\")\n",
    "\n",
    "for i in range(len(seq_cDNA)):\n",
    "    ofile.write(seq_cDNA[i])\n",
    "ofile.close()"
   ]
  },
  {
   "cell_type": "code",
   "execution_count": 12,
   "metadata": {},
   "outputs": [],
   "source": [
    "#make fasta file from N protein cDNA\n",
    "ofile = open(\"../data/N_prot.fa\", \"w\")\n",
    "\n",
    "for i in range(len(prot_GCF_cDNA)):\n",
    "    ofile.write(prot_GCF_cDNA[i])\n",
    "ofile.close()"
   ]
  },
  {
   "cell_type": "code",
   "execution_count": 13,
   "metadata": {},
   "outputs": [
    {
     "name": "stdout",
     "output_type": "stream",
     "text": [
      "['MT049951', 'MT066176', 'MT066175', 'MT072688', 'MT093571', 'MT093631', 'MT123292', 'LC528232', 'LC528233', 'MT126808', 'MT135044', 'MT135042', 'MT135041', 'MT152824', 'MT050493', 'MT012098', 'MT066156', 'MT121215', 'MT163718', 'MT163717', 'MT163716', 'MT163719', 'MT192773', 'MT192759', 'MT192765', 'MT192772', 'MT240479', 'MT246490', 'MT246489', 'MT246488', 'MT246487', 'MT246486', 'MT246484', 'MT246482', 'MT246481', 'MT246480', 'MT246479', 'MT246478', 'MT246477', 'MT246476', 'MT246475', 'MT246474', 'MT246473', 'MT246472', 'MT246471', 'MT246469', 'MT246468', 'MT246467', 'MT246466', 'MT246464', 'MT246462', 'MT246461', 'MT246460', 'MT246459', 'MT246458', 'MT246457', 'MT246455', 'MT246453', 'MT246452', 'MT246450', 'MT246449'] are the most similar one, becuase 100% same.\n",
      "\n",
      "['MT233522', 'MT246470', 'MT246451'] is the most different ones : 99.762\n"
     ]
    }
   ],
   "source": [
    "#4. Based on this info, extract N proteins cDNA/proteins from other SARS-CoV-2 genomes (either 02_03 or 03_27).\n",
    "'''\n",
    "makeblastdb -dbtype nucl -in 2019nCoV_genomes.2020_03_27.fa -out 2019nCoV_genomes.2020_03_27.blastnb\n",
    "\n",
    "blastn -db ../data/2019nCoV_genomes.2020_03_27.blastnb -query N_cDNA.fa -outfmt 7 -out cDNA_0327_nblast.nbl\n",
    "'''\n",
    "\n",
    "#Q2. Which pairs are most similar ones? Which pairs are most different ones?\n",
    "#compare cDNA with 0327.gene\n",
    "f = open('../data/cDNA_0327_nblast.nbl', 'r')\n",
    "percent = []\n",
    "per_100 = []\n",
    "per_list = []\n",
    "list_final = {}\n",
    "name_max = []\n",
    "name_min = []\n",
    "for line in f:\n",
    "    \n",
    "    #print(line)\n",
    "    \n",
    "    #print('-----------') #check\n",
    "    #print(line.split()[1]) #name\n",
    "    if line.startswith('#'):\n",
    "        continue\n",
    "    else:\n",
    "        #print(line.split()[1])\n",
    "        #print(line.split()[2])\n",
    "        if line.split()[2] == '100.000':\n",
    "            #print(line.split()[2])\n",
    "            per_100.append(line.split()[1])\n",
    "        else:\n",
    "            percent.append(line.split()[2])\n",
    "            per_list.append(line.split()[1])\n",
    "            list_final[line.split()[1]] = line.split()[2]\n",
    "\n",
    "                       \n",
    "#print(list_final.keys())\n",
    "for i in list_final.items():\n",
    "    if min(percent) == i[1]:\n",
    "        name_min.append(i[0])\n",
    "    if max(percent) == i[1]:\n",
    "        name_max.append(i[0])\n",
    "    \n",
    "percent = list(map(float, percent))\n",
    "            \n",
    "sum_per = 0\n",
    "for i in percent:\n",
    "    sum_per = sum_per + i\n",
    "percentage = sum_per/len(percent)\n",
    "\n",
    "if per_100 == []:\n",
    "    print(name_max, 'is the most simillar ones :', max(percent))\n",
    "else:\n",
    "    print(per_100, 'are the most similar one, becuase 100% same.\\n')\n",
    "    \n",
    "print(name_min, 'is the most different ones :', min(percent))        "
   ]
  },
  {
   "cell_type": "code",
   "execution_count": 14,
   "metadata": {},
   "outputs": [
    {
     "name": "stdout",
     "output_type": "stream",
     "text": [
      "['MT049951_2', 'MT066176_2', 'MT066175_2', 'MT072688_2', 'MT093571_2', 'MT093631_1', 'MT123293_2', 'MT123291_2', 'MT123292_2', 'LC528232_2', 'LC528233_1', 'MT126808_2', 'MT135044_2', 'MT135042_2', 'MT135041_2', 'MT152824_3', 'MT050493_3', 'MT012098_1', 'MT066156_2', 'MT121215_2', 'MT163718_2', 'MT163717_2', 'MT163716_2', 'MT163719_2', 'MT192773_1', 'MT192759_2', 'MT192765_1', 'MT192772_2', 'MT240479_2', 'MT246490_3', 'MT246489_3', 'MT246488_2', 'MT246487_1', 'MT246486_3', 'MT246484_3', 'MT246482_2', 'MT246481_3', 'MT246480_1', 'MT246479_3', 'MT246478_1', 'MT246477_1', 'MT246476_2', 'MT246475_3', 'MT246474_1', 'MT246473_3', 'MT246472_1', 'MT246471_3', 'MT246469_1', 'MT246468_2', 'MT246467_2', 'MT246466_2', 'MT246464_2', 'MT246462_2', 'MT246461_3', 'MT246460_2', 'MT246459_2', 'MT246458_2', 'MT246457_3', 'MT246455_2', 'MT246454_2', 'MT246453_3', 'MT246452_1', 'MT246450_1', 'MT246449_3'] are the most similar one, becuase 100% same.\n",
      "\n",
      "['MT233522_2', 'MT246470_2', 'MT246451_2'] is the most different ones : 99.523\n"
     ]
    }
   ],
   "source": [
    "#4. Based on this info, extract N proteins cDNA/proteins from other SARS-CoV-2 genomes (either 02_03 or 03_27).\n",
    "'''\n",
    "transeq --sequence ../data/2019nCoV_genomes.2020_03_27.fa --outseq 2019nCoV_genomes.2020_03_27_trans6.fa -frame 6\n",
    "\n",
    "makeblastdb -dbtype prot -in 2019nCoV_genomes.2020_03_27_trans6.fa -out 2019nCoV_genomes.2020_03_27_trans6\n",
    "\n",
    "blastp -db 2019nCoV_genomes.2020_03_27_trans6 -query N_prot.fa -outfmt 7 -out N_prot_0327_tblast.tbl\n",
    "'''\n",
    "\n",
    "#Q2. Which pairs are most similar ones? Which pairs are most different ones?\n",
    "#compare cDNA_prot with 0327.gene\n",
    "f = open('../data/N_prot_0327_tblast.tbl', 'r')\n",
    "percent = []\n",
    "per_100 = []\n",
    "per_list = []\n",
    "list_final = {}\n",
    "name_max = []\n",
    "name_min = []\n",
    "for line in f:\n",
    "    \n",
    "    #print(line)\n",
    "    \n",
    "    #print('-----------') #check\n",
    "    #print(line.split()[1]) #name\n",
    "    if line.startswith('#'):\n",
    "        continue\n",
    "    else:\n",
    "        #print(line.split()[1])\n",
    "        #print(line.split()[2])\n",
    "        if line.split()[2] == '100.000':\n",
    "            #print(line.split()[2])\n",
    "            per_100.append(line.split()[1])\n",
    "        else:\n",
    "            percent.append(line.split()[2])\n",
    "            per_list.append(line.split()[1])\n",
    "            list_final[line.split()[1]] = line.split()[2]\n",
    "\n",
    "                       \n",
    "#print(list_final.keys())\n",
    "for i in list_final.items():\n",
    "    if min(percent) == i[1]:\n",
    "        name_min.append(i[0])\n",
    "    if max(percent) == i[1]:\n",
    "        name_max.append(i[0])\n",
    "    \n",
    "percent = list(map(float, percent))\n",
    "            \n",
    "sum_per = 0\n",
    "for i in percent:\n",
    "    sum_per = sum_per + i\n",
    "percentage = sum_per/len(percent)\n",
    "\n",
    "if per_100 == []:\n",
    "    print(name_max, 'is the most simillar ones :', max(percent))\n",
    "else:\n",
    "    print(per_100, 'are the most similar one, becuase 100% same.\\n')\n",
    "    \n",
    "print(name_min, 'is the most different ones :', min(percent))"
   ]
  },
  {
   "cell_type": "code",
   "execution_count": 15,
   "metadata": {},
   "outputs": [
    {
     "name": "stdout",
     "output_type": "stream",
     "text": [
      "['KU973692.1_3', 'FJ882960.1_3', 'DQ898174.1_1', 'FJ882949.1_1', 'FJ882934.1_3', 'FJ882937.1_2', 'FJ882935.1_1', 'FJ882933.1_2', 'FJ882947.1_3', 'FJ882946.1_1', 'FJ882927.1_2', 'FJ882932.1_3', 'FJ882939.1_3', 'FJ882936.1_3', 'FJ882938.1_2', 'FJ882941.1_1', 'FJ882929.1_1', 'FJ882944.1_3', 'FJ882940.1_3', 'FJ882954.1_2', 'FJ882955.1_3', 'FJ882931.1_3', 'FJ882928.1_2', 'FJ882926.1_2', 'FJ882930.1_2', 'AY362698.1_1', 'AY394850.2_2'] is the most simillar ones : 90.521\n",
      "['DQ084200.1_3', 'DQ022305.2_2'] is the most different ones : 89.549\n"
     ]
    }
   ],
   "source": [
    "#5. Based on this info, extract N proteins cDNA/proteins from other SARS & MERS genomes.\n",
    "'''\n",
    "transeq --sequence ../data/SARS_genomes.2020_02_03.fa --outseq SARS_genomes.2020_02_03_trans6.fa -frame 6\n",
    "\n",
    "makeblastdb -dbtype prot -in SARS_genomes.2020_02_03_trans6.fa -out SARS_genomes.2020_02_03_trans6.fa\n",
    "\n",
    "blastp -db SARS_genomes.2020_02_03_trans6.fa -query N_prot.fa -outfmt 7 -out N_prot_SARS_tblast.tbl\n",
    "'''\n",
    "#Q3. Which protein is most similar to SARS-CoV N protein? Which protein is most different to MERS N protein?\n",
    "\n",
    "f = open('../data/N_prot_SARS_tblast.tbl', 'r')\n",
    "percent = []\n",
    "per_100 = []\n",
    "per_list = []\n",
    "list_final = {}\n",
    "name_max = []\n",
    "name_min = []\n",
    "for line in f:\n",
    "    \n",
    "    #print(line)\n",
    "    \n",
    "    #print('-----------') #check\n",
    "    #print(line.split()[1]) #name\n",
    "    if line.startswith('#'):\n",
    "        continue\n",
    "    else:\n",
    "        #print(line.split()[1])\n",
    "        #print(line.split()[2])\n",
    "        if line.split()[2] == '100.000':\n",
    "            #print(line.split()[2])\n",
    "            per_100.append(line.split()[1])\n",
    "        else:\n",
    "            percent.append(line.split()[2])\n",
    "            per_list.append(line.split()[1])\n",
    "            list_final[line.split()[1]] = line.split()[2]\n",
    "\n",
    "                       \n",
    "#print(list_final.keys())\n",
    "for i in list_final.items():\n",
    "    if min(percent) == i[1]:\n",
    "        name_min.append(i[0])\n",
    "    if max(percent) == i[1]:\n",
    "        name_max.append(i[0])\n",
    "    \n",
    "percent = list(map(float, percent))\n",
    "            \n",
    "sum_per = 0\n",
    "for i in percent:\n",
    "    sum_per = sum_per + i\n",
    "percentage = sum_per/len(percent)\n",
    "\n",
    "if per_100 == []:\n",
    "    print(name_max, 'is the most simillar ones :', max(percent))\n",
    "else:\n",
    "    print(per_100, 'are the most similar one, becuase 100% same.\\n')\n",
    "    \n",
    "print(name_min, 'is the most different ones :', min(percent))"
   ]
  },
  {
   "cell_type": "code",
   "execution_count": 16,
   "metadata": {},
   "outputs": [
    {
     "name": "stdout",
     "output_type": "stream",
     "text": [
      "['KX574227.1_3'] is the most simillar ones : 50.142\n",
      "['KX108941.1_2'] is the most different ones : 43.333\n"
     ]
    }
   ],
   "source": [
    "#5. Based on this info, extract N proteins cDNA/proteins from other SARS & MERS genomes.\n",
    "'''\n",
    "transeq --sequence ../data/MERS_genomes.2020_02_03.fa --outseq MERS_genomes.2020_02_03_trans6.fa -frame 6\n",
    "\n",
    "makeblastdb -dbtype prot -in MERS_genomes.2020_02_03_trans6.fa -out MERS_genomes.2020_02_03_trans6.fa\n",
    "\n",
    "blastp -db MERS_genomes.2020_02_03_trans6.fa -query N_prot.fa -outfmt 7 -out N_prot_MERS_tblast.tbl\n",
    "'''\n",
    "#Q3. Which protein is most similar to SARS-CoV N protein? Which protein is most different to MERS N protein?\n",
    "\n",
    "f = open('../data/N_prot_MERS_tblast.tbl', 'r')\n",
    "percent = []\n",
    "per_100 = []\n",
    "per_list = []\n",
    "list_final = {}\n",
    "name_max = []\n",
    "name_min = []\n",
    "for line in f:\n",
    "    \n",
    "    #print(line)\n",
    "    \n",
    "    #print('-----------') #check\n",
    "    #print(line.split()[1]) #name\n",
    "    if line.startswith('#'):\n",
    "        continue\n",
    "    else:\n",
    "        #print(line.split()[1])\n",
    "        #print(line.split()[2])\n",
    "        if line.split()[2] == '100.000':\n",
    "            #print(line.split()[2])\n",
    "            per_100.append(line.split()[1])\n",
    "        else:\n",
    "            percent.append(line.split()[2])\n",
    "            per_list.append(line.split()[1])\n",
    "            list_final[line.split()[1]] = line.split()[2]\n",
    "\n",
    "                       \n",
    "#print(list_final.keys())\n",
    "for i in list_final.items():\n",
    "    if min(percent) == i[1]:\n",
    "        name_min.append(i[0])\n",
    "    if max(percent) == i[1]:\n",
    "        name_max.append(i[0])\n",
    "    \n",
    "percent = list(map(float, percent))\n",
    "            \n",
    "sum_per = 0\n",
    "for i in percent:\n",
    "    sum_per = sum_per + i\n",
    "percentage = sum_per/len(percent)\n",
    "\n",
    "if per_100 == []:\n",
    "    print(name_max, 'is the most simillar ones :', max(percent))\n",
    "else:\n",
    "    print(per_100, 'are the most similar one, becuase 100% same.\\n')\n",
    "    \n",
    "print(name_min, 'is the most different ones :', min(percent))"
   ]
  },
  {
   "cell_type": "code",
   "execution_count": null,
   "metadata": {},
   "outputs": [],
   "source": []
  }
 ],
 "metadata": {
  "kernelspec": {
   "display_name": "Python 3",
   "language": "python",
   "name": "python3"
  },
  "language_info": {
   "codemirror_mode": {
    "name": "ipython",
    "version": 3
   },
   "file_extension": ".py",
   "mimetype": "text/x-python",
   "name": "python",
   "nbconvert_exporter": "python",
   "pygments_lexer": "ipython3",
   "version": "3.7.6"
  }
 },
 "nbformat": 4,
 "nbformat_minor": 4
}
