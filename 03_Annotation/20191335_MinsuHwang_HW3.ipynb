{
 "cells": [
  {
   "cell_type": "markdown",
   "metadata": {},
   "source": [
    "# Homework 03. Minsu Hwang (Student ID : 20191335)\n",
    "    \n",
    "## Procedures\n",
    "1. Read GCF_009858895.2 genomic info.\n",
    "\n",
    "2. Make N-protein cDNA sequence.\n",
    "\n",
    "3. Translate it to protein sequence. \n",
    "\n",
    "Q1. Compare it to GCF_009858895.2_ASM985889v3_protein.fna. Are they same?\n",
    "\n",
    "\n",
    "4. Based on this info, extract N proteins cDNA/proteins from other SARS-CoV-2 genomes (either 02_03 or 03_27).\n",
    "\n",
    "Q2. Which pairs are most similar ones? Which pairs are most different ones?\n",
    "\n",
    "5. Based on this info, extract N proteins cDNA/proteins from other SARS & MERS genomes.\n",
    "\n",
    "Q3. Which protein is most similar to SARS-CoV N protein? Which protein is most different to MERS N protein?\n"
   ]
  },
  {
   "cell_type": "code",
   "execution_count": 2,
   "metadata": {},
   "outputs": [],
   "source": [
    "# The function to get the reverse complementary sequences\n",
    "def revcomp(tmp_seq):\n",
    "    rv = []\n",
    "    for tmp_n in tmp_seq[::-1]:\n",
    "        rv.append(rc[tmp_n])\n",
    "    return ''.join(rv)\n",
    "    \n",
    "    return ''.join([rc[x] for x in tmp_seq[::-1]])"
   ]
  },
  {
   "cell_type": "code",
   "execution_count": 3,
   "metadata": {},
   "outputs": [],
   "source": [
    "# The function to read sequences from a FASTA file\n",
    "def read_fasta(tmp_filename):\n",
    "    rv = dict()\n",
    "    f = open(tmp_filename, 'r')\n",
    "    for line in f:\n",
    "        if line.startswith('>'):\n",
    "            tmp_h = line.strip().lstrip('>')\n",
    "            rv[tmp_h] = ''\n",
    "        else:\n",
    "            rv[tmp_h] += line.strip().replace(' ', '')\n",
    "    f.close()\n",
    "    return rv"
   ]
  },
  {
   "cell_type": "code",
   "execution_count": 4,
   "metadata": {},
   "outputs": [
    {
     "name": "stdout",
     "output_type": "stream",
     "text": [
      "NC_045512.2 ATTAAAGGTTTATACCTTCCCAGGT\n"
     ]
    }
   ],
   "source": [
    "# Read GCF_009858895.2 genome info\n",
    "\n",
    "filename_genome = '../data/GCF_009858895.2_ASM985889v3_genomic.fna'\n",
    "genome_list = read_fasta(filename_genome)\n",
    "for g_h, g_seq in genome_list.items():\n",
    "    print(g_h.split()[0], g_seq[:25])"
   ]
  },
  {
   "cell_type": "code",
   "execution_count": 5,
   "metadata": {},
   "outputs": [],
   "source": [
    "#make a function for writing files.\n",
    "def F_write(tmp_filename, genome_list):\n",
    "    fx1 = open(tmp_filename, 'w')\n",
    "    for g in list(genome_list.keys()):\n",
    "        if len(genome_list[g]) == 1:\n",
    "            fx1.write(\">{}\\n\".format(g))\n",
    "            fx1.write(\"{}\\n\".format(genome_list[g][0]))\n",
    "        else:\n",
    "            for i in range(len(genome_list[g])):\n",
    "                fx1.write(\">{} #{}\\n\".format(g, i+1))\n",
    "                fx1.write(\"\\n{}\".format(genome_list[g][i]))\n",
    "    fx1.close()"
   ]
  },
  {
   "cell_type": "code",
   "execution_count": 6,
   "metadata": {},
   "outputs": [
    {
     "name": "stdout",
     "output_type": "stream",
     "text": [
      "(28273, 29532)\n",
      "{'N_protein': ['ATGTCTGATAATGGACCCCAAAATCAGCGAAATGCACCCCGCATTACGTTTGGTGGACCCTCAGATTCAACTGGCAGTAACCAGAATGGAGAACGCAGTGGGGCGCGATCAAAACAACGTCGGCCCCAAGGTTTACCCAATAATACTGCGTCTTGGTTCACCGCTCTCACTCAACATGGCAAGGAAGACCTTAAATTCCCTCGAGGACAAGGCGTTCCAATTAACACCAATAGCAGTCCAGATGACCAAATTGGCTACTACCGAAGAGCTACCAGACGAATTCGTGGTGGTGACGGTAAAATGAAAGATCTCAGTCCAAGATGGTATTTCTACTACCTAGGAACTGGGCCAGAAGCTGGACTTCCCTATGGTGCTAACAAAGACGGCATCATATGGGTTGCAACTGAGGGAGCCTTGAATACACCAAAAGATCACATTGGCACCCGCAATCCTGCTAACAATGCTGCAATCGTGCTACAACTTCCTCAAGGAACAACATTGCCAAAAGGCTTCTACGCAGAAGGGAGCAGAGGCGGCAGTCAAGCCTCTTCTCGTTCCTCATCACGTAGTCGCAACAGTTCAAGAAATTCAACTCCAGGCAGCAGTAGGGGAACTTCTCCTGCTAGAATGGCTGGCAATGGCGGTGATGCTGCTCTTGCTTTGCTGCTGCTTGACAGATTGAACCAGCTTGAGAGCAAAATGTCTGGTAAAGGCCAACAACAACAAGGCCAAACTGTCACTAAGAAATCTGCTGCTGAGGCTTCTAAGAAGCCTCGGCAAAAACGTACTGCCACTAAAGCATACAATGTAACACAAGCTTTCGGCAGACGTGGTCCAGAACAAACCCAAGGAAATTTTGGGGACCAGGAACTAATCAGACAAGGAACTGATTACAAACATTGGCCGCAAATTGCACAATTTGCCCCCAGCGCTTCAGCGTTCTTCGGAATGTCGCGCATTGGCATGGAAGTCACACCTTCGGGAACGTGGTTGACCTACACAGGTGCCATCAAATTGGATGACAAAGATCCAAATTTCAAAGATCAAGTCATTTTGCTGAATAAGCATATTGACGCATACAAAACATTCCCACCAACAGAGCCTAAAAAGGACAAAAAGAAGAAGGCTGATGAAACTCAAGCCTTACCGCAGAGACAGAAGAAACAGCAAACTGTGACTCTTCTTCCTGCTGCAGATTTGGATGATTTCTCCAAACAATTGCAACAATCCATGAGCAGTGCTGACTCAACTCAGGCCTAA']}\n",
      ">N_protein\n",
      "\n",
      "ATGTCTGATAATGGACCCCAAAATC\n"
     ]
    }
   ],
   "source": [
    "#check N-protein index\n",
    "g_inx_file = '../data/GCF_009858895.2_ASM985889v3_genomic.gff'\n",
    "def g_inx(tmp_filename, p_N):\n",
    "    a = open(tmp_filename, 'r')\n",
    "    for i in a.readlines():\n",
    "        if \"gene\" in i and \"Name={}\".format(p_N) in i:\n",
    "            return int(i.split()[3])-1, int(i.split()[4])-1\n",
    "f1=g_inx(g_inx_file, 'N')\n",
    "print(f1)\n",
    "#Make N-protein cDNA sequence\n",
    "for i in genome_list.values():\n",
    "    N_seq = i[f1[0]:f1[1]+1]\n",
    "cDNA_seq = {'N_protein' : [N_seq]}\n",
    "print(cDNA_seq)\n",
    "F_write(\"ref_cDNA.fa\", cDNA_seq)\n",
    "f = open(\"ref_cDNA.fa\", 'r')\n",
    "print(f.readline())\n",
    "print(f.readline()[:25])"
   ]
  },
  {
   "cell_type": "code",
   "execution_count": 7,
   "metadata": {},
   "outputs": [
    {
     "name": "stdout",
     "output_type": "stream",
     "text": [
      "MSDNGPQNQRNAPRITFGGPSDSTGSNQNGERSGARSKQRRPQGLPNNTASWFTALTQHGKEDLKFPRGQGVPINTNSSPDDQIGYYRRATRRIRGGDGKMKDLSPRWYFYYLGTGPEAGLPYGANKDGIIWVATEGALNTPKDHIGTRNPANNAAIVLQLPQGTTLPKGFYAEGSRGGSQASSRSSSRSRNSSRNSTPGSSRGTSPARMAGNGGDAALALLLLDRLNQLESKMSGKGQQQQGQTVTKKSAAEASKKPRQKRTATKAYNVTQAFGRRGPEQTQGNFGDQELIRQGTDYKHWPQIAQFAPSASAFFGMSRIGMEVTPSGTWLTYTGAIKLDDKDPNFKDQVILLNKHIDAYKTFPPTEPKKDKKKKADETQALPQRQKKQQTVTLLPAADLDDFSKQLQQSMSSADSTQA*\n"
     ]
    }
   ],
   "source": [
    "#translate it to protein sequence\n",
    "table = {\n",
    "'TTT': 'F', 'TTC': 'F', 'TTA': 'L', 'TTG': 'L', 'TCT': 'S',\n",
    "'TCC': 'S', 'TCA': 'S', 'TCG': 'S', 'TAT': 'Y', 'TAC': 'Y',\n",
    "'TGT': 'C', 'TGC': 'C', 'TGG': 'W', 'CTT': 'L', 'CTC': 'L',\n",
    "'CTA': 'L', 'CTG': 'L', 'CCT': 'P', 'CCC': 'P', 'CCA': 'P',\n",
    "'CCG': 'P', 'CAT': 'H', 'CAC': 'H', 'CAA': 'Q', 'CAG': 'Q',\n",
    "'CGT': 'R', 'CGC': 'R', 'CGA': 'R', 'CGG': 'R', 'ATT': 'I',\n",
    "'ATC': 'I', 'ATA': 'I', 'ATG': 'M', 'ACT': 'T', 'ACC': 'T',\n",
    "'ACA': 'T', 'ACG': 'T', 'AAT': 'N', 'AAC': 'N', 'AAA': 'K',\n",
    "'AAG': 'K', 'AGT': 'S', 'AGC': 'S', 'AGA': 'R', 'AGG': 'R',\n",
    "'GTT': 'V', 'GTC': 'V', 'GTA': 'V', 'GTG': 'V', 'GCT': 'A',\n",
    "'GCC': 'A', 'GCA': 'A', 'GCG': 'A', 'GAT': 'D', 'GAC': 'D',\n",
    "'GAA': 'E', 'GAG': 'E', 'GGT': 'G', 'GGC': 'G', 'GGA': 'G',\n",
    "'GGG': 'G'}\n",
    "stop_codons = [ 'TAA', 'TAG', 'TGA']\n",
    "if __name__ == \"__main__\":\n",
    "    for i in stop_codons:\n",
    "        table[i] = '*' \n",
    "    seq = N_seq\n",
    "    N_protein = [] \n",
    "    check_finish = False \n",
    "\n",
    "    for codon in range(0,len(seq)-len(seq)%3, 3): \n",
    "        if check_finish==False:\n",
    "            N_protein.append(table[seq[codon:codon+3]])\n",
    "            if table[seq[codon:codon+3]] == '*':\n",
    "                check_finish = True\n",
    "        else:\n",
    "            N_protein.append('*')\n",
    "        N_proteins=\"\".join(N_protein)\n",
    "    print(N_proteins)"
   ]
  },
  {
   "cell_type": "code",
   "execution_count": 8,
   "metadata": {},
   "outputs": [
    {
     "name": "stdout",
     "output_type": "stream",
     "text": [
      "They are same\n"
     ]
    }
   ],
   "source": [
    "#Q1. Compare it to GCF_009858895.2_ASM985889v3_protein.fna, Are they same?\n",
    "filename_protein = '../data/GCF_009858895.2_ASM985889v3_protein.faa'\n",
    "protein_list = read_fasta(filename_protein)\n",
    "\n",
    "if N_proteins[:-1] == protein_list['YP_009724397.2 nucleocapsid phosphoprotein [Wuhan seafood market pneumonia virus]']:\n",
    "    print(\"They are same\")\n",
    "else:\n",
    "    print(\"They are not same\")"
   ]
  },
  {
   "cell_type": "code",
   "execution_count": 9,
   "metadata": {},
   "outputs": [
    {
     "name": "stdout",
     "output_type": "stream",
     "text": [
      "['MT049951', 'MT066176', 'MT066175', 'MT072688', 'MT093571', 'MT093631', 'MT123292', 'LC528232', 'LC528233', 'MT126808', 'MT135044', 'MT135042', 'MT135041', 'MT152824', 'MT050493', 'MT012098', 'MT066156', 'MT121215', 'MT163718', 'MT163717', 'MT163716', 'MT163719', 'MT192773', 'MT192759', 'MT192765', 'MT192772', 'MT240479', 'MT246490', 'MT246489', 'MT246488', 'MT246487', 'MT246486', 'MT246484', 'MT246482', 'MT246481', 'MT246480', 'MT246479', 'MT246478', 'MT246477', 'MT246476', 'MT246475', 'MT246474', 'MT246473', 'MT246472', 'MT246471', 'MT246469', 'MT246468', 'MT246467', 'MT246466', 'MT246464', 'MT246462', 'MT246461', 'MT246460', 'MT246459', 'MT246458', 'MT246457', 'MT246455', 'MT246453', 'MT246452', 'MT246450', 'MT246449'] are the most similar ones with 100.0%\n",
      "['MT233522', 'MT246470', 'MT246451'] are the most different ones with 99.762%\n"
     ]
    }
   ],
   "source": [
    "#Based on this info, extract N proteins cDNA/proteins from other SARS-CoV-2 genomes (either 02_03 or 03_27).\n",
    "def blast_result(tmp_filename, other_file):\n",
    "    f2 = open(tmp_filename, 'r')\n",
    "    percent = []\n",
    "    for i in f2.readlines():\n",
    "        if i.startswith(other_file):\n",
    "            percent.append(float(i.split()[2]))\n",
    "    max_p = max(percent)\n",
    "    min_p = min(percent)\n",
    "    f2.close()\n",
    "\n",
    "    f3 = open(tmp_filename, 'r')\n",
    "    highest = []\n",
    "    lowest = []\n",
    "    for i in f3.readlines():\n",
    "        if i.startswith(other_file):\n",
    "            if float(i.split()[2]) == max_p:\n",
    "                highest.append(i.split()[1])\n",
    "            if float(i.split()[2]) == min_p:\n",
    "                lowest.append(i.split()[1])\n",
    "    print(highest, \"are the most similar ones with {}%\".format(max_p))\n",
    "    print(lowest, \"are the most different ones with {}%\".format(min_p))\n",
    "    f3.close()\n",
    "    \n",
    "def get_blasted(tmp_filename, other_file, g_p_list):\n",
    "    f4 = open(tmp_filename, 'r')\n",
    "    seq_g = {}\n",
    "    for i in f4.readlines():\n",
    "        if i.startswith(other_file):\n",
    "            A=i.split()[8]\n",
    "            B=i.split()[9]\n",
    "            N = str(i.split()[1])\n",
    "            inx = (int(A)-1, int(B)-1)\n",
    "            seq_g[N] = g_p_list[N][inx[0]:inx[1]+1]\n",
    "    return seq_g\n",
    "\n",
    "N_nblast = 'cDNA_03_27_nblast.nbl'\n",
    "blast_result(N_nblast, 'N_protein')\n",
    "genome_list_2 = read_fasta('../data/2019nCoV_genomes.2020_03_27.fa')\n",
    "genome_list_2_1 = {N[:8] : genome_list_2[N] for N in genome_list_2.keys()}"
   ]
  },
  {
   "cell_type": "code",
   "execution_count": 10,
   "metadata": {},
   "outputs": [
    {
     "name": "stdout",
     "output_type": "stream",
     "text": [
      "['MT049951_2', 'MT066176_2', 'MT066175_2', 'MT072688_2', 'MT093571_2', 'MT093631_1', 'MT123293_2', 'MT123291_2', 'MT123292_2', 'LC528232_2', 'LC528233_1', 'MT126808_2', 'MT135044_2', 'MT135042_2', 'MT135041_2', 'MT152824_3', 'MT050493_3', 'MT012098_1', 'MT066156_2', 'MT121215_2', 'MT163718_2', 'MT163717_2', 'MT163716_2', 'MT163719_2', 'MT192773_1', 'MT192759_2', 'MT192765_1', 'MT192772_2', 'MT240479_2', 'MT246490_3', 'MT246489_3', 'MT246488_2', 'MT246487_1', 'MT246486_3', 'MT246484_3', 'MT246482_2', 'MT246481_3', 'MT246480_1', 'MT246479_3', 'MT246478_1', 'MT246477_1', 'MT246476_2', 'MT246475_3', 'MT246474_1', 'MT246473_3', 'MT246472_1', 'MT246471_3', 'MT246469_1', 'MT246468_2', 'MT246467_2', 'MT246466_2', 'MT246464_2', 'MT246462_2', 'MT246461_3', 'MT246460_2', 'MT246459_2', 'MT246458_2', 'MT246457_3', 'MT246455_2', 'MT246454_2', 'MT246453_3', 'MT246452_1', 'MT246450_1', 'MT246449_3'] are the most similar ones with 100.0%\n",
      "['MT233522_2', 'MT246470_2', 'MT246451_2'] are the most different ones with 99.524%\n"
     ]
    }
   ],
   "source": [
    "#Q2. Which pairs are most similar ones? Which pairs are most different ones?\n",
    "def blast_result_1(tmp_filename, other_file):\n",
    "    f2 = open(tmp_filename, 'r')\n",
    "    percent = []\n",
    "    for i in f2.readlines():\n",
    "        if i.startswith(other_file):\n",
    "            percent.append(float(i.split()[2]))\n",
    "    max_p = max(percent)\n",
    "    min_p = min(percent)\n",
    "    f2.close()\n",
    "\n",
    "    f3 = open(tmp_filename, 'r')\n",
    "    highest = []\n",
    "    lowest = []\n",
    "    for i in f3.readlines():\n",
    "        if i.startswith(other_file):\n",
    "            if float(i.split()[1]) == max_p:\n",
    "                highest.append(i.split()[1])\n",
    "            if float(i.split()[2]) == min_p:\n",
    "                lowest.append(i.split()[1])\n",
    "    print(highest, \"are the most similar ones with {}%\".format(max_p))\n",
    "    print(lowest, \"are the most different ones with {}%\".format(min_p))\n",
    "    f3.close()\n",
    "    \n",
    "def get_blasted(tmp_filename, other_file, g_p_list):\n",
    "    f4 = open(tmp_filename, 'r')\n",
    "    seq_g = {}\n",
    "    for i in f4.readlines():\n",
    "        if i.startswith(other_file):\n",
    "            A=i.split()[8]\n",
    "            B=i.split()[9]\n",
    "            N = str(i.split()[1])\n",
    "            inx = (int(A)-1, int(B)-1)\n",
    "            seq_g[N] = g_p_list[N][inx[0]:inx[1]+1]\n",
    "    return seq_g\n",
    "N_tblast = 'N_protein_03_27_tblast.tbl'\n",
    "blast_result(N_tblast, 'N_protein')\n",
    "protein_list_3 = read_fasta('2019nCoV_genomes.2020_03_27_trans6.fa')\n",
    "protein_list_3_1 = {N[:10] : protein_list_3[N] for N in protein_list_3.keys()}"
   ]
  },
  {
   "cell_type": "code",
   "execution_count": 13,
   "metadata": {},
   "outputs": [
    {
     "name": "stdout",
     "output_type": "stream",
     "text": [
      "Which protein is most similar to SARS-CoV N protein?\n",
      "['KU973692.1_3', 'DQ898174.1_1', 'FJ882949.1_1', 'FJ882934.1_3', 'FJ882937.1_2', 'FJ882935.1_1', 'FJ882933.1_2', 'FJ882947.1_3', 'FJ882946.1_1', 'FJ882927.1_2', 'FJ882932.1_3', 'FJ882939.1_3', 'FJ882936.1_3', 'FJ882938.1_2', 'FJ882941.1_1', 'FJ882929.1_1', 'FJ882944.1_3', 'FJ882940.1_3', 'FJ882954.1_2', 'FJ882960.1_3', 'FJ882955.1_3', 'FJ882931.1_3', 'FJ882928.1_2', 'FJ882926.1_2', 'FJ882930.1_2', 'AY362698.1_1', 'AY394850.2_2'] are the most similar ones with 90.544%\n",
      "['DQ084200.1_3', 'DQ022305.2_2'] are the most different ones with 89.573%\n",
      "\n",
      "Which protein is most different to MERS N protein?\n",
      "['KX574227.1_3'] are the most similar ones with 50.142%\n",
      "['KX108941.1_2'] are the most different ones with 43.333%\n"
     ]
    }
   ],
   "source": [
    "#Based on this info, extract N proteins cDNA/proteins from other SARS & MERS genomes.\n",
    "#Q3. Which protein is most similar to SARS-CoV N protein? Which protein is most different to MERS N protein?\n",
    "#first, compare with SARS-CoV N portein\n",
    "print('Which protein is most similar to SARS-CoV N protein?')\n",
    "N_SARS_tblast = 'N_protein_SARS_tblast.tbl'\n",
    "blast_result(N_SARS_tblast, 'N_protein')\n",
    "protein_list_4 = read_fasta('SARS_genomes.2020_02_03_trans6.fa')\n",
    "protein_list_SARS = {i[:12] : protein_list_4[i] for i in protein_list_4.keys()}\n",
    "print(\"\"\"\"\"\")\n",
    "#compare with MERS N protein\n",
    "print('Which protein is most different to MERS N protein?')\n",
    "N_MERS_tblast = 'N_protein_MERS_tblast.tbl'\n",
    "blast_result(N_MERS_tblast, 'N_protein')\n",
    "protein_list_5 = read_fasta('MERS_genomes.2020_02_03_trans6.fa')\n",
    "protein_list_MERS = {i[:12] : protein_list_5[i] for i in protein_list_5.keys()}"
   ]
  },
  {
   "cell_type": "code",
   "execution_count": null,
   "metadata": {},
   "outputs": [],
   "source": []
  },
  {
   "cell_type": "code",
   "execution_count": null,
   "metadata": {},
   "outputs": [],
   "source": []
  }
 ],
 "metadata": {
  "kernelspec": {
   "display_name": "Python 3",
   "language": "python",
   "name": "python3"
  },
  "language_info": {
   "codemirror_mode": {
    "name": "ipython",
    "version": 3
   },
   "file_extension": ".py",
   "mimetype": "text/x-python",
   "name": "python",
   "nbconvert_exporter": "python",
   "pygments_lexer": "ipython3",
   "version": "3.7.6"
  }
 },
 "nbformat": 4,
 "nbformat_minor": 4
}
