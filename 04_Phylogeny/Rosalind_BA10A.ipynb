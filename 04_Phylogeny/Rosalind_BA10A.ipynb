{
  "nbformat": 4,
  "nbformat_minor": 0,
  "metadata": {
    "colab": {
      "name": "Rosalind_BA10A.ipynb",
      "version": "0.3.2",
      "provenance": [],
      "collapsed_sections": [],
      "include_colab_link": true
    },
    "kernelspec": {
      "name": "python3",
      "display_name": "Python 3"
    }
  },
  "cells": [
    {
      "cell_type": "markdown",
      "metadata": {
        "id": "view-in-github",
        "colab_type": "text"
      },
      "source": [
        "<a href=\"https://colab.research.google.com/github/taejoonlab/BME203.2019/blob/master/HMM/Rosalind_BA10A.ipynb\" target=\"_parent\"><img src=\"https://colab.research.google.com/assets/colab-badge.svg\" alt=\"Open In Colab\"/></a>"
      ]
    },
    {
      "metadata": {
        "id": "XLLspq8KH7GJ",
        "colab_type": "code",
        "outputId": "c895a767-38e2-4c1e-cabe-7fa0060e16ca",
        "colab": {
          "base_uri": "https://localhost:8080/",
          "height": 69
        }
      },
      "cell_type": "code",
      "source": [
        "sample_data_list = \"\"\"\n",
        "AABBBAABABAAAABBBBAABBABABBBAABBAAAABABAABBABABBAB\n",
        "--------\n",
        "A   B\n",
        "--------\n",
        "    A   B\n",
        "A   0.194   0.806\n",
        "B   0.273   0.727\n",
        "\"\"\".strip().split(\"\\n\")\n",
        "\n",
        "status_path = sample_data_list[0]\n",
        "status_list = sample_data_list[2].strip().split()\n",
        "\n",
        "transit_list = dict()\n",
        "status_header = sample_data_list[4].strip().split()\n",
        "for tmp_line in sample_data_list[5:]:\n",
        "  tmp_tokens = tmp_line.strip().split()\n",
        "  for tmp_i in range(1,len(tmp_tokens)):\n",
        "    transit_code = '%s%s' % (tmp_tokens[0], status_header[tmp_i-1])\n",
        "    transit_list[transit_code] = float(tmp_tokens[tmp_i])\n",
        "    \n",
        "print(status_path)\n",
        "print(status_list)\n",
        "print(transit_list)"
      ],
      "execution_count": 0,
      "outputs": [
        {
          "output_type": "stream",
          "text": [
            "AABBBAABABAAAABBBBAABBABABBBAABBAAAABABAABBABABBAB\n",
            "['A', 'B']\n",
            "{'AA': 0.194, 'AB': 0.806, 'BA': 0.273, 'BB': 0.727}\n"
          ],
          "name": "stdout"
        }
      ]
    }
  ]
}