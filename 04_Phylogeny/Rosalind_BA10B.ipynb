{
  "nbformat": 4,
  "nbformat_minor": 0,
  "metadata": {
    "colab": {
      "name": "Rosalind_BA10B.ipynb",
      "version": "0.3.2",
      "provenance": [],
      "include_colab_link": true
    },
    "kernelspec": {
      "name": "python2",
      "display_name": "Python 2"
    }
  },
  "cells": [
    {
      "cell_type": "markdown",
      "metadata": {
        "id": "view-in-github",
        "colab_type": "text"
      },
      "source": [
        "<a href=\"https://colab.research.google.com/github/taejoonlab/BME203.2019/blob/master/HMM/Rosalind_BA10B.ipynb\" target=\"_parent\"><img src=\"https://colab.research.google.com/assets/colab-badge.svg\" alt=\"Open In Colab\"/></a>"
      ]
    },
    {
      "metadata": {
        "id": "51EhYmgFwPqP",
        "colab_type": "text"
      },
      "cell_type": "markdown",
      "source": [
        "http://rosalind.info/problems/ba10b/\n"
      ]
    },
    {
      "metadata": {
        "id": "hw7Td3Sdv7Xa",
        "colab_type": "code",
        "colab": {
          "base_uri": "https://localhost:8080/",
          "height": 34
        },
        "outputId": "fe0a3ce3-f0c2-42e3-e8d2-8adde0798c47"
      },
      "cell_type": "code",
      "source": [
        "# http://rosalind.info/problems/ba10b/\n",
        "\n",
        "sample_data_list = \"\"\"\n",
        "xxyzyxzzxzxyxyyzxxzzxxyyxxyxyzzxxyzyzxzxxyxyyzxxzx\n",
        "--------\n",
        "x   y   z\n",
        "--------\n",
        "BBBAAABABABBBBBBAAAAAABAAAABABABBBBBABAABABABABBBB\n",
        "--------\n",
        "A   B\n",
        "--------\n",
        "    x   y   z\n",
        "A   0.612   0.314   0.074 \n",
        "B   0.346   0.317   0.336\"\"\".strip().split(\"\\n\")\n",
        "\n",
        "outcome_str = sample_data_list[0]\n",
        "outcome_list = sample_data_list[2].strip().split()\n",
        "status_str = sample_data_list[4].strip().split()\n",
        "status_list = sample_data_list[6].strip().split()\n",
        "\n",
        "emit_start_line = 8\n",
        "emit_end_line = emit_start_line + len(outcome_list)\n",
        "outcome_header = sample_data_list[emit_start_line].strip().split()\n",
        "\n",
        "emit_list = dict()\n",
        "for tmp_line in sample_data_list[emit_start_line+1:emit_end_line]:\n",
        "  tmp_tokens = tmp_line.strip().split()\n",
        "  for tmp_i in range(1,len(tmp_tokens)):\n",
        "    emit_code = '%s%s' % (tmp_tokens[0], outcome_header[tmp_i-1])\n",
        "    emit_list[emit_code] = float(tmp_tokens[tmp_i])\n",
        "\n",
        "print(emit_list)"
      ],
      "execution_count": 9,
      "outputs": [
        {
          "output_type": "stream",
          "text": [
            "{'Ay': 0.314, 'Ax': 0.612, 'Az': 0.074, 'Bx': 0.346, 'By': 0.317, 'Bz': 0.336}\n"
          ],
          "name": "stdout"
        }
      ]
    }
  ]
}