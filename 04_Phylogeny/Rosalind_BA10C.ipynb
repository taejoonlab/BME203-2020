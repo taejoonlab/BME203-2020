{
  "nbformat": 4,
  "nbformat_minor": 0,
  "metadata": {
    "colab": {
      "name": "Rosalind_BA10C.ipynb",
      "version": "0.3.2",
      "provenance": [],
      "include_colab_link": true
    },
    "kernelspec": {
      "name": "python3",
      "display_name": "Python 3"
    }
  },
  "cells": [
    {
      "cell_type": "markdown",
      "metadata": {
        "id": "view-in-github",
        "colab_type": "text"
      },
      "source": [
        "<a href=\"https://colab.research.google.com/github/taejoonlab/BME203.2019/blob/master/HMM/Rosalind_BA10C.ipynb\" target=\"_parent\"><img src=\"https://colab.research.google.com/assets/colab-badge.svg\" alt=\"Open In Colab\"/></a>"
      ]
    },
    {
      "metadata": {
        "id": "ZJzM2f6eKYns",
        "colab_type": "code",
        "colab": {
          "base_uri": "https://localhost:8080/",
          "height": 52
        },
        "outputId": "60a2b491-035c-44cf-e1e9-be1b83e327ba"
      },
      "cell_type": "code",
      "source": [
        "# http://rosalind.info/problems/ba10c/\n",
        "\n",
        "sample_data_text = \"\"\"\n",
        "xyxzzxyxyy\n",
        "--------\n",
        "x   y   z\n",
        "--------\n",
        "A   B\n",
        "--------\n",
        "    A   B\n",
        "A   0.641   0.359\n",
        "B   0.729   0.271\n",
        "--------\n",
        "    x   y   z\n",
        "A   0.117   0.691   0.192   \n",
        "B   0.097   0.42    0.483\"\"\".strip().split(\"\\n\")\n",
        "\n",
        "outcome_str = sample_data_text[0]\n",
        "outcome_list = sample_data_text[2].strip().split()\n",
        "states_list = sample_data_text[4].strip().split()\n",
        "\n",
        "## Transition Table\n",
        "transit_start_line = 6\n",
        "transit_end_line = transit_start_line + len(states_list)\n",
        "transit_header = sample_data_text[transit_start_line].strip().split()\n",
        "\n",
        "transit_list = dict()\n",
        "for tmp_line in sample_data_text[transit_start_line+1:transit_end_line+1]:\n",
        "  tmp_tokens = tmp_line.strip().split()\n",
        "  for tmp_i in range(1,len(tmp_tokens)):\n",
        "    transit_code = '%s%s' % (tmp_tokens[0], transit_header[tmp_i-1])\n",
        "    transit_list[transit_code] = float(tmp_tokens[tmp_i])\n",
        "    \n",
        "print(transit_list)\n",
        "\n",
        "## Emission Table\n",
        "emit_start_line = transit_end_line + 2\n",
        "emit_end_line = emit_start_line + len(outcome_list)\n",
        "emit_header = sample_data_text[emit_start_line].strip().split()\n",
        "\n",
        "emit_list = dict()\n",
        "for tmp_line in sample_data_text[emit_start_line+1:emit_end_line+1]:\n",
        "  tmp_tokens = tmp_line.strip().split()\n",
        "  for tmp_i in range(1,len(tmp_tokens)):\n",
        "    emit_code = '%s%s' % (tmp_tokens[0], emit_header[tmp_i-1])\n",
        "    emit_list[emit_code] = float(tmp_tokens[tmp_i])\n",
        "    \n",
        "print(emit_list)"
      ],
      "execution_count": 12,
      "outputs": [
        {
          "output_type": "stream",
          "text": [
            "{'AA': 0.641, 'AB': 0.359, 'BA': 0.729, 'BB': 0.271}\n",
            "{'Ax': 0.117, 'Ay': 0.691, 'Az': 0.192, 'Bx': 0.097, 'By': 0.42, 'Bz': 0.483}\n"
          ],
          "name": "stdout"
        }
      ]
    }
  ]
}