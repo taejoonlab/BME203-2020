{
 "cells": [
  {
   "cell_type": "markdown",
   "metadata": {},
   "source": [
    "# Mid-term Project : Genetic Variations of 2019-nCoV\n",
    "## Index\n",
    "<ol>\n",
    "     <li> Preparation\n",
    "     <li> The Propagation Path\n",
    "     <li> The Mutation Rate\n",
    "     <li> Parts with Higher Rate of Mutations"
   ]
  },
  {
   "cell_type": "markdown",
   "metadata": {},
   "source": [
    "## 1. Preparation\n",
    "<ol>\n",
    "     <li> Get a funtion for read fasta files\n",
    "     <li> Get a funtion to write fasta files\n",
    "     <li> Get sequences of proteins of the reference genome.\n",
    "     <li> Clean the sequences of all genome file.\n",
    "     <li> translate the cleaned genome file by 6 frame using transeq\n",
    "     <li> align the reference protein sequence and the translated file using phmmer"
   ]
  },
  {
   "cell_type": "code",
   "execution_count": 5,
   "metadata": {},
   "outputs": [],
   "source": [
    "# The function to read sequences from a FASTA file\n",
    "def read_fasta(tmp_filename):\n",
    "    rv = dict()\n",
    "    f = open(tmp_filename, 'r')\n",
    "    for line in f:\n",
    "        if line.startswith('>'):\n",
    "            tmp_h = line.strip().lstrip('>')\n",
    "            rv[tmp_h] = ''\n",
    "        else:\n",
    "            rv[tmp_h] += line.strip().replace(' ', '')\n",
    "    f.close()\n",
    "    return rv"
   ]
  },
  {
   "cell_type": "code",
   "execution_count": 6,
   "metadata": {},
   "outputs": [],
   "source": [
    "# The function to write sequences to a FASTA file\n",
    "def write_fasta(tmp_filename, genome_list):\n",
    "    f = open(tmp_filename, 'w')\n",
    "    for genome in list(genome_list.keys()):\n",
    "        if len(genome_list[genome]) == 1:\n",
    "            f.write(\">{}\\n\".format(genome))\n",
    "            f.write(\"{}\\n\".format(genome_list[genome][0]))\n",
    "        else:\n",
    "            for idx in range(len(genome_list[genome])):\n",
    "                f.write(\">{} #{}\\n\".format(genome, idx+1))\n",
    "                f.write(\"{}\\n\".format(genome_list[genome][idx]))\n",
    "    f.close()"
   ]
  },
  {
   "cell_type": "code",
   "execution_count": 7,
   "metadata": {},
   "outputs": [],
   "source": [
    "# Get the reference protein sequence fasta file from ../data/GCF_009858895.2_ASM985889v3_protein.faa\n",
    "filename_refprot = '../data/GCF_009858895.2_ASM985889v3_protein.faa'\n",
    "ref_protein = read_fasta(filename_refprot)\n",
    "\n",
    "for prot in ref_protein.keys():\n",
    "    tempdict = {str(prot[15:-39]) : [ref_protein[prot]] }                                 \n",
    "    write_fasta(\"REF_{}.fa\".format(\"\".join(str(prot[15:-39]).replace(' ', ''))), tempdict)"
   ]
  },
  {
   "cell_type": "code",
   "execution_count": 8,
   "metadata": {},
   "outputs": [],
   "source": [
    "# Clean again 2019nCoV_genomes.2020_04_14.clean.fa ;\n",
    "# 1) Extract only USA sequences and the reference 2) Exclude sequneces with too much 'N's. I aribtraily set 'N'*100.\n",
    "\n",
    "filename_0414_cleaned_raw = '2019nCoV_genomes.2020_04_14.clean.fa'\n",
    "genome_0414_raw = read_fasta(filename_0414_cleaned_raw)\n",
    "genome_0414 = {genome.replace('|', '@') : [genome_0414_raw[genome]] for genome in genome_0414_raw.keys() if 'USA' in genome or 'NC_045512' in genome}\n",
    "\n",
    "list_to_delete = []\n",
    "for name, sequence in genome_0414.items():\n",
    "    if 'N'*100 in sequence[0]:\n",
    "        list_to_delete.append(name)\n",
    "for name in list_to_delete:\n",
    "    del genome_0414[name]\n",
    "write_fasta('my_0414_genome_cleaned.fa', genome_0414)\n"
   ]
  },
  {
   "cell_type": "code",
   "execution_count": 9,
   "metadata": {},
   "outputs": [],
   "source": [
    "# I commanded in Ubuntu;\n",
    "# 1) Transaltion of my_0414_genome_cleaned.fa using transeq\n",
    "# 2) sequnece alignments using phmmer\n",
    "# E, M, N, S, RdRP, orf1ab, orf10, orf3a, orf6, orf7a, orf7b, orf8, orf10.\n",
    "\n",
    "translated_genome_0414 = read_fasta('my_0414_prot_trans6')\n"
   ]
  },
  {
   "cell_type": "markdown",
   "metadata": {},
   "source": [
    "## 2. The Propagation Path\n",
    "<ol>\n",
    "     <li> Get a function to read the phmmerred result and get an aligned sequence.\n",
    "     <li> Merge the aligned sequences of the genomes by all proteins, to draw a phylogenic tree at one time.\n",
    "     <li> Exclude overlaps and sequences with deletion before export the fasta file to Megasoftware.\n",
    "     <li> Keep analyzing at Megasoftware."
   ]
  },
  {
   "cell_type": "code",
   "execution_count": 10,
   "metadata": {},
   "outputs": [],
   "source": [
    "# A function to read phmmered result and extract a corresponding aligned sequence from the cleaned genome file.\n",
    "# Using write_fasta function and this function at the same time, I can get a fasta file of the extracted sequences.\n",
    "def read_phmmer_get_sequence(filename_phmmerresult):\n",
    "    aligned_sequences = dict()\n",
    "    \n",
    "    # get the index\n",
    "    f = open(filename_phmmerresult, 'r')\n",
    "    for line in f.readlines():\n",
    "        tokens = line.strip().split()\n",
    "        if not tokens[0].startswith('#'):\n",
    "            ref_idx_srt, ref_idx_end = int(tokens[15]), int(tokens[16])\n",
    "            break\n",
    "    f.close()\n",
    "    \n",
    "    # if it aligned perfectly, get the sequence from the sequence file. \n",
    "    f = open(filename_phmmerresult, 'r')\n",
    "    for line in f.readlines():\n",
    "        tokens = line.strip().split()\n",
    "        if not tokens[0].startswith('#') and tokens[0][-2] not in aligned_sequences.keys():\n",
    "            query_idx_srt, query_idx_end = int(tokens[15]), int(tokens[16])\n",
    "            this_idx_srt,   this_idx_end = int(tokens[17]), int(tokens[18])\n",
    "            if (ref_idx_srt, ref_idx_end) == (query_idx_srt, query_idx_end):\n",
    "                aligned_sequences[tokens[0][:-2]] = [translated_genome_0414[tokens[0]][this_idx_srt-1 : this_idx_end]]\n",
    "            # This elif case is only for ORF1ab. \n",
    "            # 89 is the optimal number to consider too much DNA deletion in ORF1ab in some sequneces.\n",
    "            elif ref_idx_srt > query_idx_srt:\n",
    "                this_idx_srt = 89\n",
    "                this_idx_end = ref_idx_end\n",
    "                aligned_sequences[tokens[0][:-2]] = [translated_genome_0414[tokens[0]][this_idx_srt-1 : this_idx_end]]\n",
    "            else:\n",
    "                this_idx_srt -= (query_idx_srt - ref_idx_srt)\n",
    "                this_idx_end += (ref_idx_end - query_idx_end)\n",
    "                aligned_sequences[tokens[0][:-2]] = [translated_genome_0414[tokens[0]][this_idx_srt-1 : this_idx_end]]\n",
    "    f.close()\n",
    "    return aligned_sequences"
   ]
  },
  {
   "cell_type": "code",
   "execution_count": 11,
   "metadata": {},
   "outputs": [],
   "source": [
    "# This block is to run the funtions above and assign the result in the code in the dictionary data type.\n",
    "\n",
    "write_fasta('alignedresult_E.fa', read_phmmer_get_sequence('phmmerresult_E_protein.fa'))\n",
    "aligned_E = read_fasta('alignedresult_E.fa')\n",
    "write_fasta('alignedresult_M.fa', read_phmmer_get_sequence('phmmerresult_M_protein.fa'))\n",
    "aligned_M = read_fasta('alignedresult_M.fa')\n",
    "write_fasta('alignedresult_N.fa', read_phmmer_get_sequence('phmmerresult_N_protein.fa'))\n",
    "aligned_N = read_fasta('alignedresult_N.fa')\n",
    "write_fasta('alignedresult_S.fa', read_phmmer_get_sequence('phmmerresult_S_protein.fa'))\n",
    "aligned_S = read_fasta('alignedresult_S.fa')\n",
    "write_fasta('alignedresult_RdRP.fa', read_phmmer_get_sequence('phmmerresult_RdRP.fa'))\n",
    "aligned_RdRP = read_fasta('alignedresult_RdRP.fa')\n",
    "write_fasta('alignedresult_orf1ab.fa', read_phmmer_get_sequence('phmmerresult_orf1ab_protein.fa'))\n",
    "aligned_orf1ab = read_fasta('alignedresult_orf1ab.fa')\n",
    "write_fasta('alignedresult_ORF3a.fa', read_phmmer_get_sequence('phmmerresult_ORF3a_protein.fa'))\n",
    "aligned_orf3a = read_fasta('alignedresult_ORF3a.fa')\n",
    "write_fasta('alignedresult_ORF6.fa', read_phmmer_get_sequence('phmmerresult_ORF6_protein.fa'))\n",
    "aligned_orf6 = read_fasta('alignedresult_ORF6.fa')\n",
    "write_fasta('alignedresult_ORF7a.fa', read_phmmer_get_sequence('phmmerresult_ORF7a_protein.fa'))\n",
    "aligned_orf7a = read_fasta('alignedresult_ORF7a.fa')\n",
    "write_fasta('alignedresult_ORF7b.fa', read_phmmer_get_sequence('phmmerresult_ORF7b_protein.fa'))\n",
    "aligned_orf7b = read_fasta('alignedresult_ORF7b.fa')\n",
    "write_fasta('alignedresult_ORF8.fa', read_phmmer_get_sequence('phmmerresult_ORF8_protein.fa'))\n",
    "aligned_orf8 = read_fasta('alignedresult_ORF8.fa')\n",
    "write_fasta('alignedresult_ORF10.fa', read_phmmer_get_sequence('phmmerresult_orf10_protein.fa'))\n",
    "aligned_orf10 = read_fasta('alignedresult_ORF10.fa')"
   ]
  },
  {
   "cell_type": "code",
   "execution_count": 12,
   "metadata": {},
   "outputs": [
    {
     "name": "stdout",
     "output_type": "stream",
     "text": [
      "MT263466@USA_WA@2020-03-23 1272\n",
      "MT326059@USA@2020-03-24 274\n",
      "MT293186@USA_WA@2020-03-26 272\n"
     ]
    }
   ],
   "source": [
    "# Murge the aligned sequences to draw one phylogenic tree that considers all the results.\n",
    "# Get the translated sequence of only protein coded site.\n",
    "# Because megasoftware only recieves a fasta file with the only identical number of sequences,\n",
    "# genomes that have different number of sequences with the reference are excluded (total 3 genomes).\n",
    "\n",
    "for x,y in aligned_S.items():\n",
    "    if len(y) != 1273:\n",
    "        print(x, len(y))\n",
    "        \n",
    "for x,y in aligned_orf3a.items():\n",
    "    if len(y) != 275:\n",
    "        print(x, len(y))\n",
    "\n",
    "aligned_and_merged = {genome.replace('@', '_') : [aligned_S[genome]+aligned_orf3a[genome]+aligned_E[genome]+aligned_M[genome]+aligned_orf6[genome]+aligned_orf7a[genome]+aligned_orf7b[genome]+aligned_orf8[genome]+aligned_N[genome]+aligned_RdRP[genome]+aligned_orf10[genome]] for genome in genome_0414.keys() if genome not in ['MT263466@USA_WA@2020-03-23','MT326059@USA@2020-03-24', 'MT293186@USA_WA@2020-03-26']}\n",
    "write_fasta('aligned_and_merged.fa', aligned_and_merged)"
   ]
  },
  {
   "cell_type": "code",
   "execution_count": 13,
   "metadata": {},
   "outputs": [
    {
     "name": "stdout",
     "output_type": "stream",
     "text": [
      "['MT044258_USA_CA_2020-01-27', 'MT106053_USA_CA_2020-02-10', 'MT118835_USA_CA_2020-02-23', 'MT159705_USA_2020-02-17', 'MT159706_USA_2020-02-17', 'MT159707_USA_2020-02-17', 'MT159708_USA_2020-02-17', 'MT159709_USA_2020-02-20', 'MT159710_USA_2020-02-17', 'MT159711_USA_2020-02-20', 'MT159712_USA_2020-02-25', 'MT159713_USA_2020-02-18', 'MT159714_USA_2020-02-18', 'MT159715_USA_2020-02-24', 'MT159717_USA_2020-02-17', 'MT159719_USA_2020-02-18', 'MT159720_USA_2020-02-21', 'MT159721_USA_2020-02-21', 'MT159722_USA_2020-02-21', 'MT184907_USA_2020-02-18', 'MT184909_USA_2020-02-21', 'MT184912_USA_2020-02-17', 'MT188340_USA_MN_2020-03-07', 'MT276331_USA_TX_2020-02-29', 'MT304482_USA_IL_2020-03-01', 'MT326035_USA_2020-03-23', 'NC_045512_China_2019-12-00'] are identical with each other.\n",
      "['MN985325_USA_2020-01-19', 'MN997409_USA_AZ_2020-01-22', 'MT020880_USA_WA_2020-01-25', 'MT020881_USA_WA_2020-01-25', 'MT163717_USA_WA_2020-02-28', 'MT163718_USA_WA_2020-02-29', 'MT163719_USA_WA_2020-03-01', 'MT188339_USA_MN_2020-03-09', 'MT188341_USA_MN_2020-03-05', 'MT233526_USA_WA_2020-01-19', 'MT246452_USA_WA_2020-03-13', 'MT246455_USA_WA_2020-03-12', 'MT246457_USA_WA_2020-03-12', 'MT246458_USA_WA_2020-03-12', 'MT246459_USA_WA_2020-03-12', 'MT246462_USA_WA_2020-03-13', 'MT246464_USA_WA_2020-03-13', 'MT246466_USA_WA_2020-03-13', 'MT246469_USA_WA_2020-03-14', 'MT246471_USA_WA_2020-03-14', 'MT246472_USA_WA_2020-03-12', 'MT246473_USA_WA_2020-03-14', 'MT246474_USA_WA_2020-03-14', 'MT246475_USA_WA_2020-03-13', 'MT246477_USA_WA_2020-03-14', 'MT246478_USA_WA_2020-03-14', 'MT246479_USA_WA_2020-03-13', 'MT246489_USA_WA_2020-03-14', 'MT246667_USA_WA_2020-01-19', 'MT251975_USA_WA_2020-03-14', 'MT251977_USA_WA_2020-03-14', 'MT251980_USA_WA_2020-03-13', 'MT259241_USA_WA_2020-03-16', 'MT259245_USA_WA_2020-03-15', 'MT259247_USA_WA_2020-03-16', 'MT259254_USA_WA_2020-03-16', 'MT259257_USA_WA_2020-03-16', 'MT259266_USA_WA_2020-03-13', 'MT259268_USA_WA_2020-03-13', 'MT259271_USA_WA_2020-03-15', 'MT259275_USA_WA_2020-03-14', 'MT259280_USA_WA_2020-03-15', 'MT259287_USA_WA_2020-03-15', 'MT262896_USA_WA_2020-03-13', 'MT262897_USA_WA_2020-03-13', 'MT262898_USA_WA_2020-03-13', 'MT262899_USA_WA_2020-03-13', 'MT262900_USA_WA_2020-03-13', 'MT262901_USA_WA_2020-03-13', 'MT262902_USA_WA_2020-03-13', 'MT262903_USA_WA_2020-03-13', 'MT262904_USA_WA_2020-03-13', 'MT262905_USA_WA_2020-03-13', 'MT262906_USA_WA_2020-03-13', 'MT262907_USA_WA_2020-03-13', 'MT262908_USA_WA_2020-03-13', 'MT262909_USA_WA_2020-03-13', 'MT262910_USA_WA_2020-03-13', 'MT262911_USA_WA_2020-03-13', 'MT262912_USA_WA_2020-03-13', 'MT262913_USA_WA_2020-03-13', 'MT262914_USA_WA_2020-03-13', 'MT262916_USA_WA_2020-03-13', 'MT263381_USA_WA_2020-03-23', 'MT263382_USA_WA_2020-03-23', 'MT263383_USA_WA_2020-03-24', 'MT263388_USA_WA_2020-03-23', 'MT263395_USA_WA_2020-03-24', 'MT263396_USA_WA_2020-03-22', 'MT263399_USA_WA_2020-03-24', 'MT263405_USA_WA_2020-03-21', 'MT263419_USA_WA_2020-03-20', 'MT263423_USA_WA_2020-03-23', 'MT263424_USA_WA_2020-03-24', 'MT263425_USA_WA_2020-03-24', 'MT263430_USA_WA_2020-03-24', 'MT263434_USA_WA_2020-03-24', 'MT263435_USA_WA_2020-03-24', 'MT263440_USA_WA_2020-03-24', 'MT263441_USA_WA_2020-03-24', 'MT263444_USA_WA_2020-03-20', 'MT263449_USA_WA_2020-03-24', 'MT263451_USA_WA_2020-03-24', 'MT263452_USA_WA_2020-03-24', 'MT263455_USA_WA_2020-03-24', 'MT263456_USA_WA_2020-03-24', 'MT263458_USA_WA_2020-03-23', 'MT263462_USA_WA_2020-03-23', 'MT263463_USA_WA_2020-03-23', 'MT263464_USA_WA_2020-03-23', 'MT263469_USA_WA_2020-03-23', 'MT293157_USA_WA_2020-03-29', 'MT293163_USA_WA_2020-03-29', 'MT293166_USA_WA_2020-03-29', 'MT293168_USA_WA_2020-03-29', 'MT293169_USA_WA_2020-03-29', 'MT293170_USA_WA_2020-03-30', 'MT293179_USA_WA_2020-03-26', 'MT293181_USA_WA_2020-03-26', 'MT293185_USA_WA_2020-03-28', 'MT293187_USA_WA_2020-03-26', 'MT293188_USA_WA_2020-03-28', 'MT293190_USA_WA_2020-03-26', 'MT293192_USA_WA_2020-03-28', 'MT293194_USA_WA_2020-03-30', 'MT293199_USA_WA_2020-03-30', 'MT293202_USA_WA_2020-03-30', 'MT293203_USA_WA_2020-03-30', 'MT293210_USA_WA_2020-03-29', 'MT293216_USA_WA_2020-03-28', 'MT293218_USA_WA_2020-03-29', 'MT293225_USA_WA_2020-03-29', 'MT295464_USA_2020-03-10', 'MT322394_USA_VA_2020-03-00', 'MT322395_USA_VA_2020-03-00', 'MT322396_USA_VA_2020-03-00', 'MT322397_USA_VA_2020-03-00', 'MT322403_USA_VA_2020-03-00', 'MT322404_USA_VA_2020-03-00', 'MT322407_USA_VA_2020-03-00', 'MT322408_USA_VA_2020-03-00', 'MT322409_USA_VA_2020-03-00', 'MT322412_USA_VA_2020-03-00', 'MT325561_USA_AZ_2020-03-09', 'MT325562_USA_AZ_2020-03-09', 'MT325568_USA_FL_2020-03-06', 'MT325574_USA_GA_2020-03-00', 'MT325578_USA_IL_2020-03-07', 'MT325591_USA_NC_2020-03-06', 'MT325613_USA_VA_2020-03-08', 'MT326040_USA_2020-03-21', 'MT326043_USA_2020-03-22', 'MT326044_USA_2020-03-23', 'MT326047_USA_2020-03-23', 'MT326052_USA_2020-03-23', 'MT326053_USA_2020-03-23', 'MT326062_USA_2020-03-22', 'MT326076_USA_2020-03-24', 'MT326086_USA_2020-03-19', 'MT326088_USA_2020-03-23', 'MT326094_USA_2020-03-22', 'MT326097_USA_2020-03-21', 'MT326100_USA_2020-03-22', 'MT326105_USA_2020-03-22', 'MT326111_USA_2020-03-22', 'MT326116_USA_2020-03-20', 'MT326121_USA_2020-03-20', 'MT326123_USA_2020-03-20', 'MT326124_USA_2020-03-20', 'MT326135_USA_2020-03-20', 'MT326138_USA_2020-03-20', 'MT326143_USA_2020-03-20', 'MT326144_USA_2020-03-20', 'MT326147_USA_2020-03-20', 'MT326148_USA_2020-03-21', 'MT326153_USA_2020-03-21', 'MT326156_USA_2020-03-21', 'MT326165_USA_2020-03-21', 'MT326168_USA_2020-03-21', 'MT326177_USA_2020-03-19', 'MT326181_USA_2020-03-14', 'MT326187_USA_2020-03-18'] are identical with each other.\n",
      "['MT246449_USA_WA_2020-03-13', 'MT246450_USA_WA_2020-03-13', 'MT246460_USA_WA_2020-03-12', 'MT246467_USA_WA_2020-03-14', 'MT246480_USA_WA_2020-03-13', 'MT246481_USA_WA_2020-03-13', 'MT246487_USA_WA_2020-03-15', 'MT246490_USA_WA_2020-03-15', 'MT251974_USA_WA_2020-03-12', 'MT251976_USA_WA_2020-03-14', 'MT251979_USA_WA_2020-03-14', 'MT258380_USA_CA-SF_2020-03-18', 'MT258383_USA_CA-SF_2020-03-18', 'MT259239_USA_WA_2020-03-16', 'MT259240_USA_WA_2020-03-16', 'MT259246_USA_WA_2020-03-13', 'MT259248_USA_WA_2020-03-14', 'MT259251_USA_WA_2020-03-14', 'MT259260_USA_WA_2020-03-16', 'MT259261_USA_WA_2020-03-16', 'MT259264_USA_WA_2020-03-13', 'MT259278_USA_WA_2020-03-15', 'MT259286_USA_WA_2020-03-15', 'MT263390_USA_WA_2020-03-24', 'MT263391_USA_WA_2020-03-24', 'MT263392_USA_WA_2020-03-24', 'MT263394_USA_WA_2020-03-22', 'MT263417_USA_WA_2020-03-24', 'MT263426_USA_WA_2020-03-24', 'MT263432_USA_WA_2020-03-24', 'MT263433_USA_WA_2020-03-24', 'MT263437_USA_WA_2020-03-24', 'MT263439_USA_WA_2020-03-24', 'MT263442_USA_WA_2020-03-24', 'MT263446_USA_WA_2020-03-24', 'MT263465_USA_WA_2020-03-23', 'MT263467_USA_WA_2020-03-23', 'MT293162_USA_WA_2020-03-29', 'MT293164_USA_WA_2020-03-30', 'MT293171_USA_WA_2020-03-30', 'MT293172_USA_WA_2020-03-30', 'MT293173_USA_WA_2020-03-30', 'MT293174_USA_WA_2020-03-27', 'MT293175_USA_WA_2020-03-30', 'MT293176_USA_WA_2020-03-28', 'MT293191_USA_WA_2020-03-26', 'MT293195_USA_WA_2020-03-28', 'MT293197_USA_WA_2020-03-30', 'MT293201_USA_WA_2020-03-30', 'MT293204_USA_WA_2020-03-30', 'MT293212_USA_WA_2020-03-30', 'MT293215_USA_WA_2020-03-28', 'MT293221_USA_WA_2020-03-29', 'MT293222_USA_WA_2020-03-29', 'MT300186_USA_NC_2020-04-02', 'MT304490_USA_TX_2020-03-01', 'MT304491_USA_TX_2020-03-01', 'MT308702_USA_NC_2020-04-00', 'MT322398_USA_VA_2020-03-00', 'MT322400_USA_VA_2020-03-00', 'MT322401_USA_VA_2020-03-00', 'MT322402_USA_VA_2020-03-00', 'MT322405_USA_VA_2020-03-00', 'MT322406_USA_VA_2020-03-00', 'MT322410_USA_VA_2020-03-00', 'MT322413_USA_VA_2020-03-00', 'MT322415_USA_VA_2020-03-00', 'MT322416_USA_VA_2020-03-00', 'MT322417_USA_VA_2020-03-00', 'MT322418_USA_VA_2020-03-00', 'MT322424_USA_VA_2020-03-00', 'MT325565_USA_FL_2020-03-02', 'MT325577_USA_IL_2020-03-07', 'MT325582_USA_MA_2020-03-05', 'MT325583_USA_MA_2020-03-06', 'MT325584_USA_MA_2020-03-06', 'MT325585_USA_MA_2020-03-06', 'MT325586_USA_MA_2020-03-07', 'MT325590_USA_NC_2020-03-07', 'MT325600_USA_PA_2020-03-05', 'MT325601_USA_PA_2020-03-07', 'MT325602_USA_PA_2020-03-08', 'MT325603_USA_PA_2020-03-09', 'MT325604_USA_PA_2020-03-06', 'MT325605_USA_RI_2020-03-05', 'MT325611_USA_VA_2020-03-08', 'MT325612_USA_VA_2020-03-08', 'MT325616_USA_MA_2020-03-06', 'MT325629_USA_MA_2020-03-05', 'MT325630_USA_MA_2020-03-05', 'MT325631_USA_MA_2020-03-05', 'MT325632_USA_MA_2020-03-04', 'MT325633_USA_MA_2020-03-04', 'MT325636_USA_MA_2020-03-06', 'MT325637_USA_MA_2020-03-06', 'MT325638_USA_MA_2020-03-06', 'MT325639_USA_MA_2020-03-07', 'MT325640_USA_MA_2020-03-06', 'MT326023_USA_2020-03-24', 'MT326024_USA_2020-03-24', 'MT326025_USA_2020-03-24', 'MT326027_USA_2020-03-24', 'MT326029_USA_2020-03-24', 'MT326030_USA_2020-03-24', 'MT326036_USA_2020-03-23', 'MT326045_USA_2020-03-23', 'MT326046_USA_2020-03-23', 'MT326048_USA_2020-03-23', 'MT326049_USA_2020-03-23', 'MT326055_USA_2020-03-21', 'MT326056_USA_2020-03-24', 'MT326063_USA_2020-03-24', 'MT326064_USA_2020-03-23', 'MT326066_USA_2020-03-24', 'MT326067_USA_2020-03-24', 'MT326068_USA_2020-03-24', 'MT326069_USA_2020-03-24', 'MT326070_USA_2020-03-24', 'MT326077_USA_2020-03-24', 'MT326078_USA_2020-03-24', 'MT326082_USA_2020-03-23', 'MT326083_USA_2020-03-22', 'MT326087_USA_2020-03-23', 'MT326089_USA_2020-03-21', 'MT326095_USA_2020-03-22', 'MT326099_USA_2020-03-22', 'MT326106_USA_2020-03-22', 'MT326118_USA_2020-03-21', 'MT326119_USA_2020-03-20', 'MT326122_USA_2020-03-20', 'MT326125_USA_2020-03-20', 'MT326127_USA_2020-03-20', 'MT326128_USA_2020-03-20', 'MT326130_USA_2020-03-20', 'MT326133_USA_2020-03-20', 'MT326136_USA_2020-03-19', 'MT326141_USA_2020-03-19', 'MT326152_USA_2020-03-21', 'MT326154_USA_2020-03-21', 'MT326159_USA_2020-03-21', 'MT326160_USA_2020-03-21', 'MT326161_USA_2020-03-21', 'MT326162_USA_2020-03-21', 'MT326163_USA_2020-03-21', 'MT326164_USA_2020-03-21', 'MT326169_USA_2020-03-22', 'MT326170_USA_2020-03-21', 'MT326174_USA_2020-03-19', 'MT326180_USA_2020-03-19', 'MT326185_USA_2020-03-17', 'MT326189_USA_2020-03-18', 'MT326190_USA_2020-03-18', 'MT326191_USA_2020-03-18'] are identical with each other.\n",
      "['MT326028_USA_2020-03-24', 'MT326081_USA_2020-03-24', 'MT326085_USA_2020-03-20', 'MT326102_USA_2020-03-22', 'MT326103_USA_2020-03-22', 'MT326104_USA_2020-03-22'] are identical with each other.\n",
      "['MT263397_USA_WA_2020-03-24', 'MT326155_USA_2020-03-21'] are identical with each other.\n",
      "['MN994468_USA_CA_2020-01-22', 'MT163716_USA_WA_2020-02-27', 'MT246454_USA_WA_2020-03-12', 'MT258377_USA_CA-SF_2020-03-18', 'MT276326_USA_GA_2020-02-29', 'MT325634_USA_MA_2020-03-05', 'MT326114_USA_2020-03-20', 'MT326117_USA_2020-03-20'] are identical with each other.\n",
      "['MT293198_USA_WA_2020-03-30', 'MT326134_USA_2020-03-20'] are identical with each other.\n",
      "['MT259285_USA_WA_2020-03-15', 'MT263404_USA_WA_2020-03-24', 'MT326091_USA_2020-03-16', 'MT326149_USA_2020-03-21'] are identical with each other.\n",
      "['MT246453_USA_WA_2020-03-13', 'MT246484_USA_WA_2020-03-15', 'MT258378_USA_CA-SF_2020-03-18', 'MT259243_USA_WA_2020-03-13', 'MT259244_USA_WA_2020-03-16', 'MT263406_USA_WA_2020-03-21', 'MT263415_USA_WA_2020-03-24', 'MT293167_USA_WA_2020-03-29', 'MT293182_USA_WA_2020-03-26', 'MT293220_USA_WA_2020-03-28', 'MT326033_USA_2020-03-23', 'MT326061_USA_2020-03-23', 'MT326071_USA_2020-03-22', 'MT326072_USA_2020-03-22', 'MT326074_USA_2020-03-20', 'MT326075_USA_2020-03-20', 'MT326150_USA_2020-03-21'] are identical with each other.\n",
      "['MT263431_USA_WA_2020-03-24', 'MT293196_USA_WA_2020-03-30', 'MT293213_USA_WA_2020-03-30', 'MT326129_USA_2020-03-20', 'MT326171_USA_2020-03-21'] are identical with each other.\n",
      "['MT192765_USA_CA_2020-03-11', 'MT263438_USA_WA_2020-03-24', 'MT276323_USA_RI_2020-02-28', 'MT293219_USA_WA_2020-03-29', 'MT304488_USA_RI_2020-03-01', 'MT325576_USA_IA_2020-03-08', 'MT325599_USA_PA_2020-03-05', 'MT325614_USA_VA_2020-03-08', 'MT325617_USA_IA_2020-03-08', 'MT325618_USA_IA_2020-03-08', 'MT325619_USA_IA_2020-03-08', 'MT325620_USA_IA_2020-03-08', 'MT325621_USA_IA_2020-03-07', 'MT326173_USA_2020'] are identical with each other.\n",
      "['MT246485_USA_WA_2020-03-15', 'MT326034_USA_2020-03-23'] are identical with each other.\n",
      "['MT263468_USA_WA_2020-03-23', 'MT326031_USA_2020-03-24', 'MT326112_USA_2020-03-20'] are identical with each other.\n",
      "['MT246451_USA_WA_2020-03-13', 'MT326093_USA_2020-03-22'] are identical with each other.\n",
      "['MT246470_USA_WA_2020-03-13', 'MT258379_USA_CA-SF_2020-03-18', 'MT259250_USA_WA_2020-03-14', 'MT259263_USA_WA_2020-03-13', 'MT263402_USA_WA_2020-03-23', 'MT276327_USA_GA_2020-02-29', 'MT276329_USA_FL_2020-02-28', 'MT276330_USA_FL_2020-02-28', 'MT293207_USA_WA_2020-03-30', 'MT293209_USA_WA_2020-03-30', 'MT304477_USA_AZ_2020-03-02', 'MT304478_USA_FL_2020-03-02', 'MT304479_USA_GA_2020-03-03', 'MT322420_USA_VA_2020-03-00', 'MT326084_USA_2020-03-22'] are identical with each other.\n",
      "['MN994467_USA_CA_2020-01-23', 'MT044257_USA_IL_2020-01-28', 'MT304480_USA_GA_2020-03-03', 'MT304481_USA_GA_2020-03-04', 'MT324684_USA_2020-03-25', 'MT325570_USA_GA_2020-03-05', 'MT325571_USA_GA_2020-03-00', 'MT325572_USA_GA_2020-03-08', 'MT325606_USA_SC_2020-03-06', 'MT325607_USA_SC_2020-03-07', 'MT325608_USA_SC_2020-03-08', 'MT325623_USA_SC_2020-03-05', 'MT325624_USA_SC_2020-03-07', 'MT325625_USA_SC_2020-03-07'] are identical with each other.\n",
      "['MT276324_USA_CA_2020-02-26', 'MT276325_USA_WA_2020-02-27'] are identical with each other.\n",
      "['MT106052_USA_CA_2020-02-06', 'MT263386_USA_WA_2020-03-22'] are identical with each other.\n",
      "['MT027062_USA_CA_2020-01-29', 'MT027063_USA_CA_2020-01-29', 'MT039888_USA_MA_2020-01-29', 'MT263429_USA_WA_2020-03-24'] are identical with each other.\n",
      "['MT304484_USA_NH_2020-02-29', 'MT304485_USA_NH_2020-03-02', 'MT325595_USA_NH_2020-03-06'] are identical with each other.\n",
      "['MT322411_USA_VA_2020-03-00', 'MT325628_USA_VA_2020-03-06'] are identical with each other.\n",
      "['MT322421_USA_VA_2020-03-00', 'MT322422_USA_VA_2020-03-00', 'MT322423_USA_VA_2020-03-00'] are identical with each other.\n",
      "['MT259236_USA_WA_2020-03-16', 'MT259276_USA_WA_2020-03-15', 'MT263403_USA_WA_2020-03-20', 'MT263412_USA_WA_2020-03-22', 'MT293177_USA_WA_2020-03-28', 'MT293208_USA_WA_2020-03-30'] are identical with each other.\n",
      "['MT293189_USA_WA_2020-03-26', 'MT293205_USA_WA_2020-03-30'] are identical with each other.\n",
      "['MT263436_USA_WA_2020-03-24', 'MT293224_USA_WA_2020-03-29'] are identical with each other.\n",
      "['MT246486_USA_WA_2020-03-14', 'MT263398_USA_WA_2020-03-24'] are identical with each other.\n",
      "['MT259262_USA_WA_2020-03-14', 'MT259282_USA_WA_2020-03-15'] are identical with each other.\n",
      "['MT259256_USA_WA_2020-03-13', 'MT259258_USA_WA_2020-03-13'] are identical with each other.\n",
      "['MT246461_USA_WA_2020-03-13', 'MT246488_USA_WA_2020-03-14'] are identical with each other.\n",
      "number of identical sequences: 29\n"
     ]
    }
   ],
   "source": [
    "# To exclude overlaps. / Identical with what I used in Assignment 1.\n",
    "\n",
    "\n",
    "identical_sequences = []\n",
    "name_of_sequences = list(aligned_and_merged.keys())\n",
    "sequences_to_check = list(aligned_and_merged.values())\n",
    "\n",
    "#erase a sequence from the list and see if the list has the same ones. \n",
    "while(len(sequences_to_check) > 1):\n",
    "    current_sequence = sequences_to_check.pop(0)\n",
    "    if current_sequence not in sequences_to_check:\n",
    "        name_of_sequences.pop(0)\n",
    "    else:\n",
    "        templist = []\n",
    "        templist.append(name_of_sequences.pop(0).split()[0])\n",
    "        while current_sequence in sequences_to_check:\n",
    "            idx = sequences_to_check.index(current_sequence)\n",
    "            sequences_to_check.pop(idx)\n",
    "            templist.append(name_of_sequences.pop(idx).split()[0])\n",
    "        identical_sequences.append(templist)\n",
    "        \n",
    "\n",
    "for sequences in identical_sequences:\n",
    "    print(sorted(sequences), \"are identical with each other.\")\n",
    "print(\"number of identical sequences: {}\".format(len(identical_sequences)))\n",
    "\n",
    "aligned_and_merged_wo_ovlps = aligned_and_merged.copy()\n",
    "for i in identical_sequences:\n",
    "    i.sort()\n",
    "for idx1 in range(len(identical_sequences)):\n",
    "    for idx2 in range(len(identical_sequences[idx1])-1): \n",
    "        aligned_and_merged_wo_ovlps.pop(identical_sequences[idx1][idx2])\n",
    "        \n",
    "        \n",
    "write_fasta('file_to_mega.fa', aligned_and_merged_wo_ovlps)\n"
   ]
  },
  {
   "cell_type": "markdown",
   "metadata": {},
   "source": [
    "### This part is continued by using MEGA software. "
   ]
  },
  {
   "cell_type": "markdown",
   "metadata": {},
   "source": [
    "## II. The Mutation Rate\n",
    "<ol>\n",
    "     <li> Express the date infomation in julian date.\n",
    "     <li> Align the reference protein with the merged protein sequence in Part2, by using blastp.\n",
    "     <li> Read the blastp result, store the number of mutations by dates and weeks"
   ]
  },
  {
   "cell_type": "code",
   "execution_count": 14,
   "metadata": {},
   "outputs": [],
   "source": [
    "# Exclude data without the exact date info.\n",
    "# Julian date is an year-based date that have 1 Jan as 1 and 31 Dec as 365.\n",
    "\n",
    "\n",
    "Reference = dict()\n",
    "Reference['NC_045512_China_2019-12-00'] = aligned_and_merged['NC_045512_China_2019-12-00']\n",
    "write_fasta('REF_for2and3.fa', Reference)\n",
    "\n",
    "\n",
    "genome_0414 = {genome : {'seq' : aligned_and_merged[genome]} for genome in aligned_and_merged.keys()}\n",
    "for info in genome_0414:\n",
    "    if (info.split('_')[-1]).split('-')[-1] == '00' or (info.split('_')[-1]).split('-')[-1] == '2020':\n",
    "        continue\n",
    "    genome_0414[info]['date'] = info.split('_')[-1]\n",
    "    month = genome_0414[info]['date'].split('-')[1]\n",
    "    day = int(genome_0414[info]['date'].split('-')[2])\n",
    "    if month == '01':\n",
    "        genome_0414[info]['julian'] = day\n",
    "    elif month == '02':    \n",
    "        genome_0414[info]['julian'] = day + 31\n",
    "    elif month == '03':    \n",
    "        genome_0414[info]['julian'] = day + 60\n",
    "    elif month == '04':    \n",
    "        genome_0414[info]['julian'] = day + 91"
   ]
  },
  {
   "cell_type": "code",
   "execution_count": 15,
   "metadata": {},
   "outputs": [
    {
     "name": "stdout",
     "output_type": "stream",
     "text": [
      "week 3 : 1.0\n",
      "week 4 : 1.4\n",
      "week 5 : 1.5\n",
      "week 6 : 1.0\n",
      "week 7 : 1.125\n",
      "week 8 : 0.30666666666666664\n",
      "week 9 : 1.9583333333333335\n",
      "week 10 : 2.527934250623326\n",
      "week 11 : 3.4592883307169022\n",
      "week 12 : 5.6428010527678305\n",
      "week 13 : 6.545434960377281\n",
      "week 14 : 3.0\n"
     ]
    }
   ],
   "source": [
    "# Did blastp for query 'NC_045512_China_2019-12-00' in aligned_and_merged and db for all genome in aligned_and_merged;\n",
    "# Got 'blastpresult_q2.re'.\n",
    "# Get daily and weekly based average number of mutations(# of mismathes + gaps)\n",
    "\n",
    "# Collect number of mutations by sequences from the blastp result.\n",
    "f = open('blastpresult_q2.re', 'r')\n",
    "for line in f.readlines():\n",
    "    if not line.startswith('#'):\n",
    "        genome_0414[line.split()[1]]['total_muts'] = int(line.split()[4]) + int(line.split()[5])\n",
    "f.close()\n",
    "\n",
    "# Get daily based data.\n",
    "muts_by_date = dict()\n",
    "for info in genome_0414.keys():\n",
    "    if 'julian' in genome_0414[info] and 'total_muts' in genome_0414[info]:\n",
    "        idx2+= 1\n",
    "        if genome_0414[info]['julian'] not in muts_by_date.keys():\n",
    "            muts_by_date[genome_0414[info]['julian']] = [genome_0414[info]['total_muts']]\n",
    "        else:\n",
    "            muts_by_date[genome_0414[info]['julian']].append(genome_0414[info]['total_muts'])\n",
    "avg_muts_by_date = {julian : (sum(muts_by_date[julian])/len(muts_by_date[julian])) for julian in muts_by_date.keys()}\n",
    "\n",
    "# Get and print weekly based data.\n",
    "muts_by_week = dict()\n",
    "muts_by_week.clear()\n",
    "for julian in avg_muts_by_date.keys():\n",
    "    if 'week{}'.format(int(int(julian/7) + 1)) not in muts_by_week.keys():\n",
    "        muts_by_week['week{}'.format(int(julian/7) + 1)] = [avg_muts_by_date[julian]]\n",
    "    elif 'week{}'.format(int(int(julian/7) + 1)) in muts_by_week.keys():\n",
    "        muts_by_week['week{}'.format(int(julian/7) + 1)] += [avg_muts_by_date[julian]]\n",
    "avg_muts_by_week = {int(week[4:]) : (sum(muts_by_week[week])/len(muts_by_week[week])) for week in muts_by_week.keys()}\n",
    "for week in sorted(avg_muts_by_week):\n",
    "    print('week', week, ':', avg_muts_by_week[week])"
   ]
  },
  {
   "cell_type": "markdown",
   "metadata": {},
   "source": [
    "### For conclusion, I could check that from week8, which is the week that first American was infected(19 Mar), almost one protein mutation per one week is occured.\n",
    "\n",
    " \n",
    "  \n",
    "   \n",
    "    \n",
    "     \n",
    "     \n"
   ]
  },
  {
   "cell_type": "markdown",
   "metadata": {},
   "source": [
    "## III. Parts with Higher Rate of Mutation\n",
    "<ol>\n",
    "     <li> align the reference protein one by one ib this time to the merged protein sequences in Part 2, using blastp.\n",
    "     <li> Get a function to read blast result file and store the number of mutations in order of protein names.\n",
    "     <li> Print and compare the result."
   ]
  },
  {
   "cell_type": "code",
   "execution_count": 16,
   "metadata": {},
   "outputs": [],
   "source": [
    "# Did multiple blastp, query for all the reference sequences and db for fasta file of the dictionary 'aligned_and_merged'."
   ]
  },
  {
   "cell_type": "code",
   "execution_count": 32,
   "metadata": {},
   "outputs": [],
   "source": [
    "# The function to get the number of mismatches from the blast result file.\n",
    "# RdRP is not properly sequenced; \n",
    "# Even the reference protein shows to have 6 mismatches with RdRP sequence I used.\n",
    "\n",
    "def read_blast_get_mutation(blastresult_filename, protein_name, genome_0414):\n",
    "    num_of_muts = []\n",
    "    f = open(blastresult_filename, 'r')\n",
    "    for line in f.readlines():\n",
    "        if not line.startswith('#'):\n",
    "            num_of_muts.append(int(line.split()[4]) + int(line.split()[5]))\n",
    "    if protein_name != 'RdRP':\n",
    "        print(\"The average number of the mutation in {} protein is \".format(protein_name),sum(num_of_muts)/len(num_of_muts))\n",
    "    elif protein_name == 'RdRP':\n",
    "        print(\"The average number of the mutation in {} protein is \".format(protein_name),sum(num_of_muts)/len(num_of_muts)-6)"
   ]
  },
  {
   "cell_type": "code",
   "execution_count": 33,
   "metadata": {},
   "outputs": [
    {
     "name": "stdout",
     "output_type": "stream",
     "text": [
      "The average number of the mutation in S protein is  0.7766666666666666\n",
      "The average number of the mutation in orf8 protein is  0.53\n",
      "The average number of the mutation in RdRP protein is  0.49666666666666703\n",
      "The average number of the mutation in orf3a protein is  0.475\n",
      "The average number of the mutation in M protein is  0.14666666666666667\n",
      "The average number of the mutation in N protein is  0.12166666666666667\n",
      "The average number of the mutation in orf6 protein is  0.005\n",
      "The average number of the mutation in E protein is  0.005\n",
      "The average number of the mutation in orf7a protein is  0.011666666666666667\n",
      "The average number of the mutation in orf7b protein is  0.0\n",
      "The average number of the mutation in orf10 protein is  0.0\n"
     ]
    }
   ],
   "source": [
    "read_blast_get_mutation('blastresult_S.re', 'S', genome_0414)\n",
    "read_blast_get_mutation('blastresult_orf8.re', 'orf8', genome_0414)\n",
    "read_blast_get_mutation('blastresult_RdRP.re', 'RdRP', genome_0414)\n",
    "read_blast_get_mutation('blastresult_orf3a.re', 'orf3a', genome_0414)\n",
    "read_blast_get_mutation('blastresult_M.re', 'M', genome_0414)\n",
    "read_blast_get_mutation('blastresult_N.re', 'N', genome_0414)\n",
    "read_blast_get_mutation('blastresult_orf6.re', 'orf6', genome_0414)\n",
    "read_blast_get_mutation('blastresult_E.re', 'E', genome_0414)\n",
    "read_blast_get_mutation('blastresult_orf7a.re', 'orf7a', genome_0414)\n",
    "read_blast_get_mutation('blastresult_orf7b.re', 'orf7b', genome_0414)\n",
    "read_blast_get_mutation('blastresult_orf10.re', 'orf10', genome_0414)"
   ]
  },
  {
   "cell_type": "code",
   "execution_count": 34,
   "metadata": {},
   "outputs": [],
   "source": [
    "# The function to get the number of mismatches from the blast result file.\n",
    "\n",
    "def read_blast_get_late_mutation(blastresult_filename, protein_name, genome_0414):\n",
    "    num_of_muts = []\n",
    "    f = open(blastresult_filename, 'r')\n",
    "    for line in f.readlines():\n",
    "        if not line.startswith('#') and 'julian' in genome_0414[line.split()[1]].keys() and genome_0414[line.split()[1]]['julian'] >84 :\n",
    "            num_of_muts.append(int(line.split()[4]) + int(line.split()[5]))\n",
    "    if protein_name != 'RdRP':\n",
    "        print(\"The average number of the mutation in {} protein is \".format(protein_name),sum(num_of_muts)/len(num_of_muts))\n",
    "    elif protein_name == 'RdRP':\n",
    "        print(\"The average number of the mutation in {} protein is \".format(protein_name),sum(num_of_muts)/len(num_of_muts)-6)"
   ]
  },
  {
   "cell_type": "code",
   "execution_count": 35,
   "metadata": {},
   "outputs": [
    {
     "name": "stdout",
     "output_type": "stream",
     "text": [
      "The average number of the mutation in S protein is  1.0147058823529411\n",
      "The average number of the mutation in orf8 protein is  0.5797101449275363\n",
      "The average number of the mutation in RdRP protein is  0.5362318840579707\n",
      "The average number of the mutation in orf3a protein is  0.45588235294117646\n",
      "The average number of the mutation in M protein is  0.07352941176470588\n",
      "The average number of the mutation in N protein is  0.14492753623188406\n",
      "The average number of the mutation in orf6 protein is  0.0\n",
      "The average number of the mutation in E protein is  0.014705882352941176\n",
      "The average number of the mutation in orf7a protein is  0.014705882352941176\n",
      "The average number of the mutation in orf7b protein is  0.0\n",
      "The average number of the mutation in orf10 protein is  0.0\n"
     ]
    }
   ],
   "source": [
    "read_blast_get_late_mutation('blastresult_S.re', 'S', genome_0414)\n",
    "read_blast_get_late_mutation('blastresult_orf8.re', 'orf8', genome_0414)\n",
    "read_blast_get_late_mutation('blastresult_RdRP.re', 'RdRP', genome_0414)\n",
    "read_blast_get_late_mutation('blastresult_orf3a.re', 'orf3a', genome_0414)\n",
    "read_blast_get_late_mutation('blastresult_M.re', 'M', genome_0414)\n",
    "read_blast_get_late_mutation('blastresult_N.re', 'N', genome_0414)\n",
    "read_blast_get_late_mutation('blastresult_orf6.re', 'orf6', genome_0414)\n",
    "read_blast_get_late_mutation('blastresult_E.re', 'E', genome_0414)\n",
    "read_blast_get_late_mutation('blastresult_orf7a.re', 'orf7a', genome_0414)\n",
    "read_blast_get_late_mutation('blastresult_orf7b.re', 'orf7b', genome_0414)\n",
    "read_blast_get_late_mutation('blastresult_orf10.re', 'orf10', genome_0414)"
   ]
  },
  {
   "cell_type": "markdown",
   "metadata": {},
   "source": [
    "### For conclusion, I could check that the mutation rate was descending in order of S, orf8, RdRP, orf3a, M, N, orf6, E, orf7a, orf7b and orf10 proeins, with one mutation in S protein is ensured in late weeks.\n",
    "### Also, there was no mutation in orf7b and orf10 in both early and late periods, which can mean that the virus does not prefer to have a mutation in that area.\n",
    "### Thank you for reading.\n"
   ]
  }
 ],
 "metadata": {
  "kernelspec": {
   "display_name": "Python 3",
   "language": "python",
   "name": "python3"
  },
  "language_info": {
   "codemirror_mode": {
    "name": "ipython",
    "version": 3
   },
   "file_extension": ".py",
   "mimetype": "text/x-python",
   "name": "python",
   "nbconvert_exporter": "python",
   "pygments_lexer": "ipython3",
   "version": "3.7.6"
  }
 },
 "nbformat": 4,
 "nbformat_minor": 4
}
