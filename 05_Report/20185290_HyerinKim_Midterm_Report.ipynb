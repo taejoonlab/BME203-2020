{
 "cells": [
  {
   "cell_type": "markdown",
   "metadata": {},
   "source": [
    "# Mid-term Report. Hyerin Kim (student ID:20185290)\n",
    "\n",
    "\n",
    "## Data files\n",
    "<ul>\n",
    "    <li> The genome sequence of Covid-19: '../data/2019nCoV_genomes.2020_04_14.clean.fa'\n",
    "    <li> reference sequnece(DNA) : '../data/GCF_009858895.2_ASM985889v3_genomic.fna'\n",
    "    <li> reference seqeunce(protein) : '../data/GCF_009858895.2_ASM985889v3_protein.faa'\n",
    "    <li> reference information : '../data/GCF_009858895.2_ASM985889v3_genomic.gff'\n",
    "</ul>\n",
    "    \n",
    "## Procedures\n",
    "<ol>\n",
    "    <li> isolate genome seqeunces collected from US\n",
    "    <li> make protein sequence from 2019nCoV_genomes.2020_04_14.clean.fa by transeq\n",
    "    <li> blastp with query: reference seqeunce(protein), db: transeq result\n",
    "    <li> isolate protein sequences\n",
    "    <li> Do Multiple Sequence Alignment & Phylogeny Construction\n",
    "</ol>\n",
    "\n",
    "## Questions\n",
    "<ol>\n",
    "    <li> Using multiple sequence analysis and phylogenetic tree reconstruction, can you estimate the propagation path of SARS-CoV-2 in the US? Justify your idea with the data.\n",
    "    <li> Based on the number of new mutations & the collection time, can you estimate the “mutation rate”? (how long does it take to make a new mutation?)\n",
    "    <li> Is there any specific gene having higher rate of mutation? Can you explain why?\n",
    "</ol>"
   ]
  },
  {
   "cell_type": "code",
   "execution_count": 1,
   "metadata": {},
   "outputs": [
    {
     "name": "stdout",
     "output_type": "stream",
     "text": [
      "The history saving thread hit an unexpected error (DatabaseError('database disk image is malformed')).History will not be written to the database.\n"
     ]
    }
   ],
   "source": [
    "# The function to read sequences from a FASTA file\n",
    "def read_fasta(tmp_filename):\n",
    "    rv = dict()\n",
    "    f = open(tmp_filename, 'r')\n",
    "    for line in f:\n",
    "        if line.startswith('>'):\n",
    "            tmp_h = line.strip().lstrip('>')\n",
    "            rv[tmp_h] = ''\n",
    "        else:\n",
    "            rv[tmp_h] += line.strip().replace(' ', '')\n",
    "    f.close()\n",
    "    return rv"
   ]
  },
  {
   "cell_type": "code",
   "execution_count": 2,
   "metadata": {},
   "outputs": [],
   "source": [
    "# isolate genomes by country\n",
    "def isolate(genomes,country):\n",
    "    rv = dict()\n",
    "    for k, v in genomes.items():\n",
    "        k = k.replace(\"|\", \"@\")\n",
    "        if country in k:\n",
    "            rv[k] = v\n",
    "        \n",
    "    return rv"
   ]
  },
  {
   "cell_type": "code",
   "execution_count": 3,
   "metadata": {},
   "outputs": [],
   "source": [
    "# the function to write fasta file\n",
    "def write_fasta(tmp_filename, gene_list):\n",
    "    file = open(tmp_filename,\"w\")\n",
    "    for key, values in gene_list.items():\n",
    "        file.write(\">\"+key+\"\\n\"+values+\"\\n\")\n",
    "    file.close()"
   ]
  },
  {
   "cell_type": "code",
   "execution_count": 4,
   "metadata": {},
   "outputs": [
    {
     "name": "stdout",
     "output_type": "stream",
     "text": [
      "647\n",
      "589\n"
     ]
    }
   ],
   "source": [
    "# isolate SARS-CoV2 genomes from US\n",
    "COVID19 = read_fasta('2019nCoV_genomes.2020_04_14.clean.fa')\n",
    "\n",
    "COVID19_USA = isolate(COVID19, 'USA')\n",
    "\n",
    "#remove same genomic seqeunce \n",
    "print(len(COVID19_USA))\n",
    "COVID19_USA_clear = dict()\n",
    "for k, v in COVID19_USA.items():\n",
    "    if v not in COVID19_USA_clear.values():\n",
    "        COVID19_USA_clear[k] = v\n",
    "print(len(COVID19_USA_clear))\n",
    "\n",
    "\n",
    "write_fasta('COVID19_USA.fa',COVID19_USA_clear)"
   ]
  },
  {
   "cell_type": "code",
   "execution_count": 5,
   "metadata": {},
   "outputs": [
    {
     "data": {
      "text/plain": [
       "'\\ntype on Ubuntu\\n\\nmuscle -in COVID19_USA.fa -out COVID19_USA_muscle.fa\\ntranseq --sequence COVID19_USA.fa --outseq COVID19_USA_prot.fa -frame 6\\n\\nmakeblastdb -dbtype prot -in COVID19_USA_prot.fa -out COVID19_USA_prot_db\\nblastp -db COVID19_USA_prot_db -query ../data/GCF_009858895.2_ASM985889v3_protein.faa -outfmt 7 -out COVID19_USA_blastp.tbl -max_target_seqs 600\\n\\nphmmer --dmblout COVID19_USA_hmm ../data/GCF_009858895.2_ASM985889v3_protein.faa COVID19_USA_prot.fa\\n'"
      ]
     },
     "execution_count": 5,
     "metadata": {},
     "output_type": "execute_result"
    }
   ],
   "source": [
    "# make protein by transeq\n",
    "'''\n",
    "type on Ubuntu\n",
    "\n",
    "muscle -in COVID19_USA.fa -out COVID19_USA_muscle.fa\n",
    "transeq --sequence COVID19_USA.fa --outseq COVID19_USA_prot.fa -frame 6\n",
    "\n",
    "makeblastdb -dbtype prot -in COVID19_USA_prot.fa -out COVID19_USA_prot_db\n",
    "blastp -db COVID19_USA_prot_db -query ../data/GCF_009858895.2_ASM985889v3_protein.faa -outfmt 7 -out COVID19_USA_blastp.tbl -max_target_seqs 600\n",
    "\n",
    "phmmer --dmblout COVID19_USA_hmm ../data/GCF_009858895.2_ASM985889v3_protein.faa COVID19_USA_prot.fa\n",
    "'''"
   ]
  },
  {
   "cell_type": "code",
   "execution_count": 6,
   "metadata": {},
   "outputs": [],
   "source": [
    "#the function to read blastP result\n",
    "def blastP(tmp_filename, protein, length):\n",
    "    result = dict()\n",
    "    info = list()\n",
    "    f = open(tmp_filename,'r')\n",
    "    for line in f:\n",
    "        if not line.startswith('#') and line.startswith(protein):\n",
    "            if line.split()[1] not in result.keys() and line.split()[6] == '1' and line.split()[7] == length:\n",
    "                # info = [% identity, s. start, s. end], -1 is due to str starts 0 not 1\n",
    "                info = [float(line.split()[2]),int(line.split()[8])-1,int(line.split()[9])-1]\n",
    "                # result = {subject:info}            \n",
    "                result[line.split()[1]] = info\n",
    "\n",
    "        info = list()\n",
    "    f.close()\n",
    "    return result"
   ]
  },
  {
   "cell_type": "code",
   "execution_count": 7,
   "metadata": {},
   "outputs": [],
   "source": [
    "# the function to extract DNA or Protein seqeunce\n",
    "def extract(tmp_filename, result):\n",
    "    f = open(tmp_filename,'r')\n",
    "    ext_seq = dict()\n",
    "    whole = read_fasta(tmp_filename)\n",
    "    for k, v in result.items():\n",
    "        for name, seq in whole.items():\n",
    "            if k == name:\n",
    "                #save the blast result in info = [%identity, s.start, s.end] v[1]=s.start, v[2]=s.end\n",
    "                ext_seq[name] = seq[v[1]:v[2]]\n",
    "    f.close()\n",
    "    return ext_seq\n",
    "        \n",
    "    "
   ]
  },
  {
   "cell_type": "code",
   "execution_count": 21,
   "metadata": {},
   "outputs": [],
   "source": [
    "#the fucntion which select representative seqeunce in dictionary\n",
    "def selection(gene_list):\n",
    "    gene_select = dict()\n",
    "    for k, v in gene_list.items():\n",
    "        # repetitive seqeunce are removed\n",
    "        if v not in gene_select.values():\n",
    "            gene_select[k] = v\n",
    "            \n",
    "    return gene_select"
   ]
  },
  {
   "cell_type": "code",
   "execution_count": 26,
   "metadata": {},
   "outputs": [
    {
     "name": "stdout",
     "output_type": "stream",
     "text": [
      "{'MESLVPGFNE': ['MT326179@USA@2020-03-19_1'], 'MEXXVPGFNE': ['MT326144@USA@2020-03-20_2'], 'LESLVPGFNE': ['MT293206@USA_WA@2020-03-30_3'], 'MESXVPGFNE': ['MT263451@USA_WA@2020-03-24_1'], 'MESLVPGFXX': ['MT326163@USA@2020-03-21_2'], 'MESLVPGFNX': ['MT263455@USA_WA@2020-03-24_2'], 'MXSLVPGXNE': ['MT246465@USA_WA@2020-03-13_3'], 'MESLXPGFNE': ['MT293180@USA_WA@2020-03-28_1']}\n",
      "513\n",
      "513\n",
      "149\n"
     ]
    }
   ],
   "source": [
    "#isolate orf1ab polyprotein seqeunce from blastp result\n",
    "types = dict()\n",
    "COVID19_USA_YP_009724389 = blastP('COVID19_USA_blastp.tbl','YP_009724389.1','4401')\n",
    "example = extract('COVID19_USA_prot.fa',COVID19_USA_YP_009724389)\n",
    "example_rep = selection(example)\n",
    "print(date(example))\n",
    "print(len(COVID19_USA_YP_009724389))\n",
    "print(len(example))\n",
    "print(len(example_rep))\n",
    "types['orf1ab polyprotein'] = len(example_rep)\n",
    "#remove same \n",
    "write_fasta('orf1ab_polyprotein.fas',example_rep)"
   ]
  },
  {
   "cell_type": "code",
   "execution_count": 28,
   "metadata": {},
   "outputs": [
    {
     "name": "stdout",
     "output_type": "stream",
     "text": [
      "587\n",
      "587\n",
      "87\n"
     ]
    }
   ],
   "source": [
    "#isolate surface glycoprotein seqeunce from blastp result\n",
    "\n",
    "COVID19_USA_YP_009724390 = blastP('COVID19_USA_blastp.tbl','YP_009724390.1','1273')\n",
    "example = extract('COVID19_USA_prot.fa',COVID19_USA_YP_009724390)\n",
    "example_rep = selection(example)\n",
    "print(len(COVID19_USA_YP_009724390))\n",
    "print(len(example))\n",
    "print(len(example_rep))\n",
    "types['surface glycoprotein'] = len(example_rep)\n",
    "#remove same \n",
    "write_fasta('surface_glycoprotein.fas',example_rep)"
   ]
  },
  {
   "cell_type": "code",
   "execution_count": 29,
   "metadata": {},
   "outputs": [
    {
     "name": "stdout",
     "output_type": "stream",
     "text": [
      "587\n",
      "587\n",
      "44\n"
     ]
    }
   ],
   "source": [
    "#isolate ORF3a protein seqeunce from blastp result\n",
    "\n",
    "COVID19_USA_YP_009724391 = blastP('COVID19_USA_blastp.tbl','YP_009724391.1','275')\n",
    "example = extract('COVID19_USA_prot.fa',COVID19_USA_YP_009724391)\n",
    "example_rep = selection(example)\n",
    "print(len(COVID19_USA_YP_009724391))\n",
    "print(len(example))\n",
    "print(len(example_rep))\n",
    "types['ORF3a protein'] = len(example_rep)\n",
    "#remove same \n",
    "write_fasta('ORF3a_protein.fas',example_rep)"
   ]
  },
  {
   "cell_type": "code",
   "execution_count": 30,
   "metadata": {},
   "outputs": [
    {
     "name": "stdout",
     "output_type": "stream",
     "text": [
      "581\n",
      "581\n",
      "15\n"
     ]
    }
   ],
   "source": [
    "#isolate envelope protein seqeunce from blastp result\n",
    "\n",
    "COVID19_USA_YP_009724392 = blastP('COVID19_USA_blastp.tbl','YP_009724392.1','75')\n",
    "example = extract('COVID19_USA_prot.fa',COVID19_USA_YP_009724392)\n",
    "example_rep = selection(example)\n",
    "print(len(COVID19_USA_YP_009724392))\n",
    "print(len(example))\n",
    "print(len(example_rep))\n",
    "types['envelope protein'] = len(example_rep)\n",
    "#remove same \n",
    "write_fasta('envelope_protein.fas',example_rep)"
   ]
  },
  {
   "cell_type": "code",
   "execution_count": 31,
   "metadata": {},
   "outputs": [
    {
     "name": "stdout",
     "output_type": "stream",
     "text": [
      "578\n",
      "578\n",
      "31\n"
     ]
    }
   ],
   "source": [
    "#isolate membrane glycoprotein seqeunce from blastp result\n",
    "\n",
    "COVID19_USA_YP_009724393 = blastP('COVID19_USA_blastp.tbl','YP_009724393.1','222')\n",
    "example = extract('COVID19_USA_prot.fa',COVID19_USA_YP_009724393)\n",
    "example_rep = selection(example)\n",
    "print(len(COVID19_USA_YP_009724393))\n",
    "print(len(example))\n",
    "print(len(example_rep))\n",
    "types['membrane glycoprotein'] = len(example_rep)\n",
    "#remove same \n",
    "write_fasta('membrane_glycoprotein.fas',example_rep)"
   ]
  },
  {
   "cell_type": "code",
   "execution_count": 32,
   "metadata": {},
   "outputs": [
    {
     "name": "stdout",
     "output_type": "stream",
     "text": [
      "584\n",
      "584\n",
      "12\n"
     ]
    }
   ],
   "source": [
    "#isolate ORF6 protein seqeunce from blastp result\n",
    "\n",
    "COVID19_USA_YP_009724394 = blastP('COVID19_USA_blastp.tbl','YP_009724394.1','61')\n",
    "example = extract('COVID19_USA_prot.fa',COVID19_USA_YP_009724394)\n",
    "example_rep = selection(example)\n",
    "print(len(COVID19_USA_YP_009724394))\n",
    "print(len(example))\n",
    "print(len(example_rep))\n",
    "types['ORF6 protein'] = len(example_rep)\n",
    "#remove same \n",
    "write_fasta('ORF6_protein.fas',example_rep)"
   ]
  },
  {
   "cell_type": "code",
   "execution_count": 33,
   "metadata": {},
   "outputs": [
    {
     "name": "stdout",
     "output_type": "stream",
     "text": [
      "587\n",
      "587\n",
      "13\n"
     ]
    }
   ],
   "source": [
    "#isolate ORF7a protein seqeunce from blastp result\n",
    "\n",
    "COVID19_USA_YP_009724395 = blastP('COVID19_USA_blastp.tbl','YP_009724395.1','121')\n",
    "example = extract('COVID19_USA_prot.fa',COVID19_USA_YP_009724395)\n",
    "example_rep = selection(example)\n",
    "print(len(COVID19_USA_YP_009724395))\n",
    "print(len(example))\n",
    "print(len(example_rep))\n",
    "types['ORF7a protein'] = len(example_rep)\n",
    "#remove same \n",
    "write_fasta('ORF7a_protein.fas',example_rep)"
   ]
  },
  {
   "cell_type": "code",
   "execution_count": 34,
   "metadata": {},
   "outputs": [
    {
     "name": "stdout",
     "output_type": "stream",
     "text": [
      "588\n",
      "588\n",
      "12\n"
     ]
    }
   ],
   "source": [
    "#isolate ORF8 protein seqeunce from blastp result\n",
    "\n",
    "COVID19_USA_YP_009724396 = blastP('COVID19_USA_blastp.tbl','YP_009724396.1','121')\n",
    "example = extract('COVID19_USA_prot.fa',COVID19_USA_YP_009724396)\n",
    "example_rep = selection(example)\n",
    "print(len(COVID19_USA_YP_009724396))\n",
    "print(len(example))\n",
    "print(len(example_rep))\n",
    "types['ORF8 protein'] = len(example_rep)\n",
    "#remove same \n",
    "write_fasta('ORF8_protein.fas',example_rep)"
   ]
  },
  {
   "cell_type": "code",
   "execution_count": 35,
   "metadata": {},
   "outputs": [
    {
     "name": "stdout",
     "output_type": "stream",
     "text": [
      "589\n",
      "589\n",
      "37\n"
     ]
    }
   ],
   "source": [
    "#isolate nucleocapsid phosphoprotein seqeunce from blastp result\n",
    "\n",
    "COVID19_USA_YP_009724397 = blastP('COVID19_USA_blastp.tbl','YP_009724397.2','419')\n",
    "example = extract('COVID19_USA_prot.fa',COVID19_USA_YP_009724397)\n",
    "example_rep = selection(example)\n",
    "print(len(COVID19_USA_YP_009724397))\n",
    "print(len(example))\n",
    "print(len(example_rep))\n",
    "types['nucleocapsid phosphoprotein'] = len(example_rep)\n",
    "#remove same \n",
    "write_fasta('nucleocapsid_phosphoprotein.fas',example_rep)"
   ]
  },
  {
   "cell_type": "code",
   "execution_count": 36,
   "metadata": {},
   "outputs": [
    {
     "name": "stdout",
     "output_type": "stream",
     "text": [
      "589\n",
      "589\n",
      "4\n"
     ]
    }
   ],
   "source": [
    "#isolate ORF10 protein seqeunce from blastp result\n",
    "\n",
    "COVID19_USA_YP_009725255 = blastP('COVID19_USA_blastp.tbl','YP_009725255.1','38')\n",
    "example = extract('COVID19_USA_prot.fa',COVID19_USA_YP_009725255)\n",
    "example_rep = selection(example)\n",
    "print(len(COVID19_USA_YP_009725255))\n",
    "print(len(example))\n",
    "print(len(example_rep))\n",
    "types['ORF10 protein'] = len(example_rep)\n",
    "#remove same \n",
    "write_fasta('ORF10_protein.fas',example_rep)"
   ]
  },
  {
   "cell_type": "code",
   "execution_count": 37,
   "metadata": {},
   "outputs": [
    {
     "name": "stdout",
     "output_type": "stream",
     "text": [
      "513\n",
      "513\n",
      "149\n"
     ]
    }
   ],
   "source": [
    "#isolate orf1a polyprotein seqeunce from blastp result\n",
    "\n",
    "COVID19_USA_YP_009725295 = blastP('COVID19_USA_blastp.tbl','YP_009725295.1','4405')\n",
    "example = extract('COVID19_USA_prot.fa',COVID19_USA_YP_009725295)\n",
    "example_rep = selection(example)\n",
    "print(len(COVID19_USA_YP_009725295))\n",
    "print(len(example))\n",
    "print(len(example_rep))\n",
    "types['orf1a polyprotein'] = len(example_rep)\n",
    "#remove same \n",
    "write_fasta('orf1a_polyprotein.fas',example_rep)"
   ]
  },
  {
   "cell_type": "code",
   "execution_count": 26,
   "metadata": {},
   "outputs": [
    {
     "name": "stdout",
     "output_type": "stream",
     "text": [
      "589\n",
      "589\n",
      "3\n"
     ]
    }
   ],
   "source": [
    "#isolate ORF7b seqeunce from blastp result\n",
    "\n",
    "COVID19_USA_YP_009725296 = blastP('COVID19_USA_blastp.tbl','YP_009725296.1','43')\n",
    "example = extract('COVID19_USA_prot.fa',COVID19_USA_YP_009725296)\n",
    "example_rep = selection(example)\n",
    "print(len(COVID19_USA_YP_009725296))\n",
    "print(len(example))\n",
    "print(len(example_rep))\n",
    "types['ORF7b'] = len(example_rep)\n",
    "#remove same \n",
    "write_fasta('ORF7b.fas',example_rep)"
   ]
  },
  {
   "cell_type": "code",
   "execution_count": 38,
   "metadata": {},
   "outputs": [
    {
     "name": "stdout",
     "output_type": "stream",
     "text": [
      "{'orf1ab polyprotein': 149, 'surface glycoprotein': 87, 'ORF3a protein': 44, 'envelope protein': 15, 'membrane glycoprotein': 31, 'ORF6 protein': 12, 'ORF7a protein': 13, 'ORF8 protein': 12, 'nucleocapsid phosphoprotein': 37, 'ORF10 protein': 4, 'orf1a polyprotein': 149}\n"
     ]
    }
   ],
   "source": [
    "print(types)"
   ]
  },
  {
   "cell_type": "code",
   "execution_count": null,
   "metadata": {},
   "outputs": [],
   "source": []
  }
 ],
 "metadata": {
  "kernelspec": {
   "display_name": "Python 3",
   "language": "python",
   "name": "python3"
  },
  "language_info": {
   "codemirror_mode": {
    "name": "ipython",
    "version": 3
   },
   "file_extension": ".py",
   "mimetype": "text/x-python",
   "name": "python",
   "nbconvert_exporter": "python",
   "pygments_lexer": "ipython3",
   "version": "3.7.6"
  }
 },
 "nbformat": 4,
 "nbformat_minor": 4
}
