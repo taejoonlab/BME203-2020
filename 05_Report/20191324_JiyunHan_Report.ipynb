{
 "cells": [
  {
   "cell_type": "markdown",
   "metadata": {},
   "source": [
    "# 20191324 Jiyun Han\n",
    "## Question\n",
    "<ol>\n",
    "<li> Using multiple sequence analysis and phylogenetic tree reconstruction, can you\n",
    "estimate the propagation path of SARS-CoV-2 in the US? Justify your idea with\n",
    "the data.\n",
    "<li> Based on the number of new mutations & the collection time, can you estimate\n",
    "the “mutation rate”? (how long does it take to make a new mutation?)\n",
    "<li> Is there any specific gene having higher rate of mutation? Can you explain why?"
   ]
  },
  {
   "cell_type": "code",
   "execution_count": 1,
   "metadata": {},
   "outputs": [],
   "source": [
    "#Function for read fasta file\n",
    "def read_fasta(tmp_filename):\n",
    "    rv = dict()\n",
    "    f = open(tmp_filename, 'r')\n",
    "    for line in f:\n",
    "        if line.startswith('>'):\n",
    "            tmp_h = line.strip().lstrip('>')\n",
    "            rv[tmp_h] = ''\n",
    "        else:\n",
    "            rv[tmp_h] += line.strip().replace(' ', '')\n",
    "    f.close()\n",
    "    return rv"
   ]
  },
  {
   "cell_type": "code",
   "execution_count": 2,
   "metadata": {},
   "outputs": [
    {
     "name": "stdout",
     "output_type": "stream",
     "text": [
      "667\n"
     ]
    }
   ],
   "source": [
    "#1_(1) USA sequences\n",
    "#from Bio import SeqIO\n",
    "seq = read_fasta(\"../data/2019nCoV_genomes.2020_04_14.fa\") #Read the given data using parse.\n",
    "clean_seq = []\n",
    "count_num = 0\n",
    "for s_h, s_seq in seq.items():\n",
    "    if \"USA\" in s_h:\n",
    "        clean_seq.append(seq)\n",
    "        count_num += 1\n",
    "        #print(s_h)\n",
    "\n",
    "print(count_num)\n",
    "#print(clean_seq)"
   ]
  },
  {
   "cell_type": "code",
   "execution_count": 3,
   "metadata": {},
   "outputs": [
    {
     "name": "stdout",
     "output_type": "stream",
     "text": [
      "YP_009724389.1 orf1ab polyprotein [Wuhan seafood market pneumonia virus] MESLVPGFNEKTHVQLSLPVLQVRD\n",
      "YP_009724390.1 surface glycoprotein [Wuhan seafood market pneumonia virus] MFVFLVLLPLVSSQCVNLTTRTQLP\n",
      "YP_009724391.1 ORF3a protein [Wuhan seafood market pneumonia virus] MDLFMRIFTIGTVTLKQGEIKDATP\n",
      "YP_009724392.1 envelope protein [Wuhan seafood market pneumonia virus] MYSFVSEETGTLIVNSVLLFLAFVV\n",
      "YP_009724393.1 membrane glycoprotein [Wuhan seafood market pneumonia virus] MADSNGTITVEELKKLLEQWNLVIG\n",
      "YP_009724394.1 ORF6 protein [Wuhan seafood market pneumonia virus] MFHLVDFQVTIAEILLIIMRTFKVS\n",
      "YP_009724395.1 ORF7a protein [Wuhan seafood market pneumonia virus] MKIILFLALITLATCELYHYQECVR\n",
      "YP_009724396.1 ORF8 protein [Wuhan seafood market pneumonia virus] MKFLVFLGIITTVAAFHQECSLQSC\n",
      "YP_009724397.2 nucleocapsid phosphoprotein [Wuhan seafood market pneumonia virus] MSDNGPQNQRNAPRITFGGPSDSTG\n",
      "YP_009725255.1 ORF10 protein [Wuhan seafood market pneumonia virus] MGYINVFAFPFTIYSLLLCRMNSRN\n",
      "YP_009725295.1 orf1a polyprotein [Wuhan seafood market pneumonia virus] MESLVPGFNEKTHVQLSLPVLQVRD\n",
      "YP_009725296.1 ORF7b [Wuhan seafood market pneumonia virus] MIELSLIDFYLCFLAFLLFLVLIML\n"
     ]
    }
   ],
   "source": [
    "#1_(2) Read GCF_009858895.2 prot info. This is reference file!\n",
    "ref_seq = '../data/GCF_009858895.2_ASM985889v3_protein.faa'\n",
    "ref_CoV = read_fasta(ref_seq)\n",
    "for g_h, g_seq in ref_CoV.items():\n",
    "    print(g_h, g_seq[:25])"
   ]
  },
  {
   "cell_type": "code",
   "execution_count": 5,
   "metadata": {},
   "outputs": [
    {
     "name": "stdout",
     "output_type": "stream",
     "text": [
      "646\n"
     ]
    },
    {
     "data": {
      "text/plain": [
       "'\\ntranseq --sequence jy_clean_CoV.fa --outseq jy_clean_CoV_trans6.fa -frame 6\\n'"
      ]
     },
     "execution_count": 5,
     "metadata": {},
     "output_type": "execute_result"
    }
   ],
   "source": [
    "#1_(3) Clean up file\n",
    "seq = read_fasta(\"2019nCoV_genomes.2020_04_14.clean.fa\") #Read the given data using parse.\n",
    "jy_clean_seq = {}\n",
    "count_num = 0\n",
    "for s_h, s_seq in seq.items():\n",
    "    if \"USA\" in s_h:\n",
    "        if \"2020-\" in s_h:\n",
    "            jy_clean_seq.setdefault(s_h, s_seq)\n",
    "            count_num += 1\n",
    "        else:\n",
    "            pass\n",
    "\n",
    "print(count_num)\n",
    "\n",
    "#1_(4) Make fasta file\n",
    "ofile = open(\"../data/jy_clean_CoV.fa\", \"w\")\n",
    "\n",
    "for s_h, s_seq in jy_clean_seq.items():\n",
    "    if '|' in s_h:\n",
    "        rep_sh = s_h.replace('|', '@')\n",
    "        lines = ['>', rep_sh, '\\n', s_seq, '\\n']\n",
    "        ofile.writelines(lines)\n",
    "ofile.close()\n",
    "\n",
    "#1_(5) Using transeq for translation\n",
    "'''\n",
    "transeq --sequence jy_clean_CoV.fa --outseq jy_clean_CoV_trans6.fa -frame 6\n",
    "'''"
   ]
  },
  {
   "cell_type": "code",
   "execution_count": 6,
   "metadata": {},
   "outputs": [
    {
     "data": {
      "text/plain": [
       "'\\nfrom Bio.Align.Applications import MuscleCommandline\\n\\nmuscle_exe = \"/muscle/muscle3.8.31_i86linux64\"\\ncmd_line = MuscleCommandline(muscle_exe, input = \"jy_clean_CoV_trans6.fa\", out = \"jy_CoV.aln\", clw = \"\")\\n\\nprint(cmd_line)\\n\\nstdout, stderr = cmd_line()\\n'"
      ]
     },
     "execution_count": 6,
     "metadata": {},
     "output_type": "execute_result"
    }
   ],
   "source": [
    "#Instead of using python, I draw the tree with internet site. My computer can't align with mega & muscle program...\n",
    "'''\n",
    "from Bio.Align.Applications import MuscleCommandline\n",
    "\n",
    "muscle_exe = \"/muscle/muscle3.8.31_i86linux64\"\n",
    "cmd_line = MuscleCommandline(muscle_exe, input = \"jy_clean_CoV_trans6.fa\", out = \"jy_CoV.aln\", clw = \"\")\n",
    "\n",
    "print(cmd_line)\n",
    "\n",
    "stdout, stderr = cmd_line()\n",
    "'''"
   ]
  },
  {
   "cell_type": "code",
   "execution_count": 11,
   "metadata": {},
   "outputs": [
    {
     "data": {
      "text/plain": [
       "'\\nExplained on the BB\\n'"
      ]
     },
     "execution_count": 11,
     "metadata": {},
     "output_type": "execute_result"
    }
   ],
   "source": [
    "#1_(6) Tree\n",
    "'''\n",
    "With tree, I read them and think about USA CoV virus propagation.\n",
    "It explain on word file, that I upload on BlackBoard\n",
    "\n",
    "with dna data\n",
    "https://ngphylogeny.fr/data/display/0d71b4225c176834\n",
    "\n",
    "https://ngphylogeny.fr/workspace/history/a0e758242f7231fa\n",
    "'''\n",
    "#1_(7) Propagation\n",
    "'''\n",
    "Explained on the BB\n",
    "'''"
   ]
  },
  {
   "cell_type": "code",
   "execution_count": 15,
   "metadata": {},
   "outputs": [],
   "source": [
    "#2_(1) Get index from GCF and made them to fasta file\n",
    "'''\n",
    "\n",
    "Based on GCF_009858895.2_ASM985889v3_genomic.gff\n",
    "There are proteins that name is\n",
    "[orf1ab, S, ORF3a, E, M, ORF6, ORF7a, ORF7B, N, ORF8, ORF10]\n",
    "\n",
    "'''\n",
    "\n",
    "def read_index(tmp_filename, protein):\n",
    "    f = open(tmp_filename, 'r')\n",
    "    for line in f.readlines():\n",
    "        if 'gene' in line and 'Name={}'.format(protein) in line:\n",
    "            return int(line.split()[3])-1, int(line.split()[4])-1\n",
    "        \n",
    "index_read = '../data/GCF_009858895.2_ASM985889v3_genomic.gff'\n",
    "#GCF_index = read_index(index_read, 'N')\n",
    "#print(GCF_index)\n",
    "\n",
    "ref_seq_gene = '../data/GCF_009858895.2_ASM985889v3_genomic.fna'\n",
    "ref_CoV_gene = read_fasta(ref_seq_gene)\n",
    "\n",
    "def get_index(prot_name):\n",
    "    \n",
    "    GCF_index = read_index(index_read, prot_name)\n",
    "    i_s = GCF_index[0]\n",
    "    i_e = GCF_index[1]\n",
    "    #print(i_s, i_e)\n",
    "    for g_h, g_seq in ref_CoV_gene.items():\n",
    "        #print(g_seq)\n",
    "        seq_prot = g_seq[i_s:i_e]\n",
    "        #print(seq_prot)\n",
    "        ofile = open(prot_name, \"w\")\n",
    "\n",
    "        lines = ['>', g_h, '\\n', seq_prot, '\\n']\n",
    "        ofile.writelines(lines)\n",
    "        ofile.close()\n",
    "\n",
    "        "
   ]
  },
  {
   "cell_type": "code",
   "execution_count": 16,
   "metadata": {},
   "outputs": [],
   "source": [
    "get_index('orf1ab')\n",
    "get_index('S')\n",
    "get_index('ORF3a')\n",
    "get_index('E')\n",
    "get_index('M')\n",
    "get_index('ORF6')\n",
    "get_index('ORF7a')\n",
    "get_index('ORF7b')\n",
    "get_index('N')\n",
    "get_index('ORF8')\n",
    "get_index('ORF10')"
   ]
  },
  {
   "cell_type": "code",
   "execution_count": 14,
   "metadata": {},
   "outputs": [
    {
     "data": {
      "text/plain": [
       "'\\ntranseq --sequence orf1ab --outseq orf1ab_trans6.fa -frame 6\\ntranseq --sequence S --outseq S_trans6.fa -frame 6\\ntranseq --sequence ORF3a --outseq ORF3a_trans6.fa -frame 6\\ntranseq --sequence E --outseq E_trans6.fa -frame 6\\ntranseq --sequence M --outseq M_trans6.fa -frame 6\\ntranseq --sequence ORF6 --outseq ORF6_trans6.fa -frame 6\\ntranseq --sequence ORF7a --outseq ORF7a_trans6.fa -frame 6\\ntranseq --sequence ORF7b --outseq ORF7b_trans6.fa -frame 6\\ntranseq --sequence N --outseq N_trans6.fa -frame 6\\ntranseq --sequence ORF8 --outseq ORF8_trans6.fa -frame 6\\ntranseq --sequence ORF10 --outseq ORF10_trans6.fa -frame 6\\n'"
      ]
     },
     "execution_count": 14,
     "metadata": {},
     "output_type": "execute_result"
    }
   ],
   "source": [
    "#2_(2) Make them to protein file\n",
    "'''\n",
    "transeq --sequence orf1ab --outseq orf1ab_trans6.fa -frame 6\n",
    "transeq --sequence S --outseq S_trans6.fa -frame 6\n",
    "transeq --sequence ORF3a --outseq ORF3a_trans6.fa -frame 6\n",
    "transeq --sequence E --outseq E_trans6.fa -frame 6\n",
    "transeq --sequence M --outseq M_trans6.fa -frame 6\n",
    "transeq --sequence ORF6 --outseq ORF6_trans6.fa -frame 6\n",
    "transeq --sequence ORF7a --outseq ORF7a_trans6.fa -frame 6\n",
    "transeq --sequence ORF7b --outseq ORF7b_trans6.fa -frame 6\n",
    "transeq --sequence N --outseq N_trans6.fa -frame 6\n",
    "transeq --sequence ORF8 --outseq ORF8_trans6.fa -frame 6\n",
    "transeq --sequence ORF10 --outseq ORF10_trans6.fa -frame 6\n",
    "'''"
   ]
  },
  {
   "cell_type": "code",
   "execution_count": 18,
   "metadata": {},
   "outputs": [],
   "source": [
    "#2_(3) Make the own fasta file\n",
    "orf1 = read_fasta(\"../data/orf1ab_trans6.fa\")\n",
    "s = read_fasta(\"../data/S_trans6.fa\")\n",
    "orf3 = read_fasta(\"../data/ORF3a_trans6.fa\")\n",
    "e = read_fasta(\"../data/E_trans6.fa\")\n",
    "m = read_fasta(\"../data/M_trans6.fa\")\n",
    "orf6 = read_fasta(\"../data/ORF6_trans6.fa\")\n",
    "orf7a = read_fasta(\"../data/ORF7a_trans6.fa\")\n",
    "orf7b = read_fasta(\"../data/ORF7b_trans6.fa\")\n",
    "n = read_fasta(\"../data/N_trans6.fa\")\n",
    "orf8 = read_fasta(\"../data/ORF8_trans6.fa\")\n",
    "orf10 = read_fasta(\"../data/ORF10_trans6.fa\")\n",
    "\n",
    "ofile = open(\"prot_ref\", \"w\")\n",
    "\n",
    "for s_h, s_seq in orf1.items():\n",
    "        lines = ['>', rep_sh, '\\n', s_seq, '\\n']\n",
    "        ofile.writelines(lines)\n",
    "for s_h, s_seq in s.items():\n",
    "        lines = ['>', rep_sh, '\\n', s_seq, '\\n']\n",
    "        ofile.writelines(lines)\n",
    "for s_h, s_seq in e.items():\n",
    "        lines = ['>', rep_sh, '\\n', s_seq, '\\n']\n",
    "        ofile.writelines(lines)\n",
    "for s_h, s_seq in m.items():\n",
    "        lines = ['>', rep_sh, '\\n', s_seq, '\\n']\n",
    "        ofile.writelines(lines)\n",
    "for s_h, s_seq in orf6.items():\n",
    "        lines = ['>', rep_sh, '\\n', s_seq, '\\n']\n",
    "        ofile.writelines(lines)\n",
    "for s_h, s_seq in orf7a.items():\n",
    "        lines = ['>', rep_sh, '\\n', s_seq, '\\n']\n",
    "        ofile.writelines(lines)\n",
    "for s_h, s_seq in orf7b.items():\n",
    "        lines = ['>', rep_sh, '\\n', s_seq, '\\n']\n",
    "        ofile.writelines(lines)\n",
    "for s_h, s_seq in n.items():\n",
    "        lines = ['>', rep_sh, '\\n', s_seq, '\\n']\n",
    "        ofile.writelines(lines)\n",
    "for s_h, s_seq in orf8.items():\n",
    "        lines = ['>', rep_sh, '\\n', s_seq, '\\n']\n",
    "        ofile.writelines(lines)      \n",
    "for s_h, s_seq in orf10.items():\n",
    "        lines = ['>', rep_sh, '\\n', s_seq, '\\n']\n",
    "        ofile.writelines(lines)\n",
    "ofile.close()"
   ]
  },
  {
   "cell_type": "code",
   "execution_count": null,
   "metadata": {},
   "outputs": [],
   "source": []
  }
 ],
 "metadata": {
  "kernelspec": {
   "display_name": "Python 3",
   "language": "python",
   "name": "python3"
  },
  "language_info": {
   "codemirror_mode": {
    "name": "ipython",
    "version": 3
   },
   "file_extension": ".py",
   "mimetype": "text/x-python",
   "name": "python",
   "nbconvert_exporter": "python",
   "pygments_lexer": "ipython3",
   "version": "3.7.6"
  }
 },
 "nbformat": 4,
 "nbformat_minor": 4
}
