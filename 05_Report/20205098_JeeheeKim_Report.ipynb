{
 "cells": [
  {
   "cell_type": "markdown",
   "metadata": {},
   "source": [
    "# Midterm report Jeehee Kim (Student ID - 20205098)"
   ]
  },
  {
   "cell_type": "code",
   "execution_count": 1,
   "metadata": {},
   "outputs": [],
   "source": [
    "# Read a FASTA file\n",
    "def read_fasta(tmp_filename):\n",
    "    rv = dict()\n",
    "    f = open(tmp_filename, 'r')\n",
    "    for line in f:\n",
    "        if line.startswith('>'):\n",
    "            tmp_h = line.strip().lstrip('>')\n",
    "            rv[tmp_h] = ''\n",
    "        else:\n",
    "            rv[tmp_h] += line.strip().replace(' ', '')\n",
    "    f.close()\n",
    "    return rv\n",
    "\n",
    "# Make the fuction for transfer dictionary format to fasta format\n",
    "def w_fasta(fa_filename, g_dict):\n",
    "    fa_F = open(fa_filename, 'w')\n",
    "    for g_hd,g_sq in g_dict.items():\n",
    "        fa_F.write(\">\"+g_hd+\"\\n\"+g_sq+\"\\n\")        \n",
    "    fa_F.close()\n",
    "\n",
    "########################################################################\n",
    "def Extr_seq(blasted_file,query,seq_dict):\n",
    "    Sbj_seq = dict()\n",
    "    f = open(blasted_file, 'r')\n",
    "    for line in f.readlines():\n",
    "        if line.startswith(query):\n",
    "            Sbj_name = str(line.split()[1])\n",
    "            idx = (int(line.split()[8])-1), (int(line.split()[9]))\n",
    "            Sbj_seq[Sbj_name]=seq_dict[Sbj_name][idx[0]:idx[1]]\n",
    "    return Sbj_seq \n",
    "######################################################################"
   ]
  },
  {
   "cell_type": "code",
   "execution_count": 2,
   "metadata": {},
   "outputs": [],
   "source": [
    "# Reference data_[NC_045512|China|2019-12-00]\n",
    "ref_genome_f = '../data/GCF_009858895.2_ASM985889v3_genomic.fna' # Assesion : NC_045512\n",
    "ref_g_dict = read_fasta(ref_genome_f)\n",
    "ref_ind_f = '../data/GCF_009858895.2_ASM985889v3_genomic.gff'\n",
    "\n",
    "# For indexing\n",
    "def read_gff(tmp_filename, gene_name):\n",
    "    f = open(tmp_filename, 'r')\n",
    "    for line in f.readlines():\n",
    "        if 'gene' in line and \"gene={}\".format(gene_name) in line:\n",
    "            return int(line.split()[3])-1, int(line.split()[4])-1\n",
    "        \n",
    "ind_ORF1ab = read_gff(ref_ind_f,'orf1ab')\n",
    "ind_ORF3a = read_gff(ref_ind_f,'ORF3a')\n",
    "ind_ORF6 = read_gff(ref_ind_f,'ORF6')\n",
    "ind_ORF7a = read_gff(ref_ind_f,'ORF7a')\n",
    "ind_ORF7b = read_gff(ref_ind_f,'ORF7b')\n",
    "ind_ORF8 = read_gff(ref_ind_f,'ORF8')\n",
    "ind_ORF10 = read_gff(ref_ind_f,'ORF10')\n",
    "ind_N_p = read_gff(ref_ind_f,'N')\n",
    "ind_Spike_p = read_gff(ref_ind_f,'S')\n",
    "ind_Envelope_p = read_gff(ref_ind_f,'E')\n",
    "ind_Membrane_gp = read_gff(ref_ind_f,'M')\n",
    "\n",
    "for g_S in ref_g_dict.values():\n",
    "    ref_N_seq = g_S[ind_N_p[0] : ind_N_p[1]+1]\n",
    "    ref_S_seq = g_S[ind_Spike_p[0] : ind_Spike_p[1]+1]\n",
    "    ref_E_seq = g_S[ind_Envelope_p[0] : ind_Envelope_p[1]+1]\n",
    "    ref_Mgp_seq = g_S[ind_Membrane_gp[0] : ind_Membrane_gp[1]+1]\n",
    "    ref_ORF1ab_seq = g_S[ind_ORF1ab[0] : ind_ORF1ab[1]+1]\n",
    "    ref_ORF3a_seq = g_S[ind_ORF3a[0] : ind_ORF3a[1]+1]\n",
    "    ref_ORF6_seq = g_S[ind_ORF6[0] : ind_ORF6[1]+1]\n",
    "    ref_ORF7a_seq = g_S[ind_ORF7a[0] : ind_ORF7a[1]+1]\n",
    "    ref_ORF7b_seq = g_S[ind_ORF7b[0] : ind_ORF7b[1]+1]\n",
    "    ref_ORF8_seq = g_S[ind_ORF8[0] : ind_ORF8[1]+1]\n",
    "    ref_ORF10_seq = g_S[ind_ORF10[0] : ind_ORF10[1]+1]\n",
    "    \n",
    "ref_N_cDNA ={'N': ref_N_seq}\n",
    "ref_S_cDNA ={'S': ref_S_seq}\n",
    "ref_E_cDNA ={'E': ref_E_seq}\n",
    "ref_Mgp_cDNA ={'M': ref_Mgp_seq}\n",
    "ref_ORF1ab_cDNA ={'O1ab': ref_ORF1ab_seq}\n",
    "ref_ORF3a_cDNA ={'O3a': ref_ORF3a_seq}\n",
    "ref_ORF6_cDNA ={'O6': ref_ORF6_seq}\n",
    "ref_ORF7a_cDNA ={'O7a': ref_ORF7a_seq}\n",
    "ref_ORF7b_cDNA ={'O7b': ref_ORF7b_seq}\n",
    "ref_ORF8_cDNA ={'O8': ref_ORF8_seq}\n",
    "ref_ORF10_cDNA ={'O10': ref_ORF10_seq}\n",
    "#print(ref_Mgp_cDNA)\n",
    "\n",
    "w_fasta('./ref_N_cDNA.fa',ref_N_cDNA)\n",
    "w_fasta('./ref_S_cDNA.fa',ref_S_cDNA)\n",
    "w_fasta('./ref_E_cDNA.fa',ref_E_cDNA)\n",
    "w_fasta('./ref_Mgp_cDNA.fa',ref_Mgp_cDNA)\n",
    "w_fasta('./ref_ORF1ab_cDNA.fa',ref_ORF1ab_cDNA)\n",
    "w_fasta('./ref_ORF3a_cDNA.fa',ref_ORF3a_cDNA)\n",
    "w_fasta('./ref_ORF6_cDNA.fa',ref_ORF6_cDNA)\n",
    "w_fasta('./ref_ORF7a_cDNA.fa',ref_ORF7a_cDNA)\n",
    "w_fasta('./ref_ORF7b_cDNA.fa',ref_ORF7b_cDNA)\n",
    "w_fasta('./ref_ORF8_cDNA.fa',ref_ORF8_cDNA)\n",
    "w_fasta('./ref_ORF10_cDNA.fa',ref_ORF10_cDNA)\n"
   ]
  },
  {
   "cell_type": "code",
   "execution_count": 3,
   "metadata": {},
   "outputs": [],
   "source": [
    "#print(ref_ORF1ab_cDNA)"
   ]
  },
  {
   "cell_type": "code",
   "execution_count": 4,
   "metadata": {},
   "outputs": [],
   "source": [
    "#Genome info\n",
    "CoV_g_20200414 = '../data/2019nCoV_genomes.2020_04_14.fa'\n",
    "cleanup_g_info = './2019nCoV_genomes.2020_04_14.clean.fa' # Clean up by clean-up-csv.py script \n",
    "A_CoV_D_dict = read_fasta(cleanup_g_info)\n",
    "#print(A_CoV_D_dict.keys())\n",
    "w_fasta('./A_CoV_seq.fa',A_CoV_D_dict)"
   ]
  },
  {
   "cell_type": "code",
   "execution_count": 5,
   "metadata": {},
   "outputs": [],
   "source": [
    "# Finding out that protein region from genome sequences' form US 2019nCoV 20200414 \n",
    "# Preparing to do tblastn, make a protein amino-acid seq file using by transeq (for query)\n",
    "#transeq -sequence ./ref_N_cDNA.fa -outseq ./ref_N_protein.fa\n",
    "#makeblastdb -in ./US_CoV_seq.fa -dbtype nucl -out ./US_CoV_seq.blastdb\n",
    "#tblastn -db ./US_CoV_seq.blastdb -query ./ref_N_protein.fa -out ./US_CoV_Np_cDNA_tblastn.tbl\n",
    "#tblastn -db ./US_CoV_seq.blastdb -query ./ref_N_protein.fa -outfmt 7 -out ./US_CoV_Np_cDNA_tblastn.tbl\n",
    "#same as S,E,Mgp,ORF1ab,ORF3a,ORF6,ORF7a,ORF7b,ORF8"
   ]
  },
  {
   "cell_type": "code",
   "execution_count": 6,
   "metadata": {},
   "outputs": [],
   "source": [
    "# For extracting the expected protein cDNA sequences from tblastn file. \n",
    "def Extr_P_seq(nblasted_file,query,seq_dict):\n",
    "    protein_idx = dict()\n",
    "    f = open(nblasted_file, 'r')\n",
    "    for line in f.readlines():\n",
    "        if line.startswith(query):\n",
    "            s_h = str(line.split()[1])\n",
    "            idx = (int(line.split()[8])-1), (int(line.split()[9])-1)            \n",
    "            protein_idx[s_h]=seq_dict[s_h][idx[0]:idx[1]+1] \n",
    "    return protein_idx      \n",
    "#######################################################################\n",
    "\n",
    "US_CoV_Np_S = Extr_P_seq('./N_All_20200414_CoV_tblastn.tbln','N_protein_1',A_CoV_D_dict)\n",
    "US_CoV_Sp_S = Extr_P_seq('./S_All_20200414_CoV_tblastn.tbln','Spike_p_1',A_CoV_D_dict)\n",
    "US_CoV_Ep_S = Extr_P_seq('./E_All_20200414_CoV_tblastn.tbln','Envelope_p_1',A_CoV_D_dict)\n",
    "US_CoV_Mgp_S = Extr_P_seq('./M_All_20200414_CoV_tblastn.tbln','Membrane_gp_1',A_CoV_D_dict)\n",
    "\n",
    "US_CoV_ORF1ab_S = Extr_P_seq('./O1ab_All_20200414_CoV_tblastn.tbln','O1ab_1',A_CoV_D_dict)\n",
    "US_CoV_ORF3a_S = Extr_P_seq('./O3a_All_20200414_CoV_tblastn.tbln','O3a_1',A_CoV_D_dict)\n",
    "US_CoV_ORF6_S = Extr_P_seq('./O6_All_20200414_CoV_tblastn.tbln','O6_1',A_CoV_D_dict)\n",
    "US_CoV_ORF7a_S = Extr_P_seq('./O7a_All_20200414_CoV_tblastn.tbln','O7a_1',A_CoV_D_dict)\n",
    "US_CoV_ORF7b_S = Extr_P_seq('./O7b_All_20200414_CoV_tblastn.tbln','O7b_1',A_CoV_D_dict)\n",
    "US_CoV_ORF8_S = Extr_P_seq('./O8_All_20200414_CoV_tblastn.tbln','O8_1',A_CoV_D_dict)\n",
    "#US_CoV_ORF10_S = Extr_P_seq('./F7_US_CoV_ORF10_cDNA_tblastn.tbl','O10_1',AS_CoV_dict)\n",
    "\n",
    "#print(US_CoV_ORF1ab_S)\n",
    "w_fasta('./N_s_A_CoV.fa', US_CoV_Np_S)\n",
    "w_fasta('./S_s_A_CoV.fa', US_CoV_Sp_S)\n",
    "w_fasta('./E_s_A_CoV.fa', US_CoV_Ep_S)\n",
    "w_fasta('./M_s_A_CoV.fa', US_CoV_Mgp_S)\n",
    "\n",
    "w_fasta('./O1ab_s_A_CoV.fa', US_CoV_ORF1ab_S)\n",
    "w_fasta('./O3a_s_A_CoV.fa', US_CoV_ORF3a_S)\n",
    "w_fasta('./O6_s_A_CoV.fa', US_CoV_ORF6_S)\n",
    "w_fasta('./O7a_s_A_CoV.fa',US_CoV_ORF7a_S) \n",
    "w_fasta('./O7b_s_A_CoV.fa', US_CoV_ORF7b_S)\n",
    "w_fasta('./O8_s_A_CoV.fa', US_CoV_ORF8_S)\n",
    "#w_fasta('./ORF10_seq_US_CoV.fa', US_CoV_ORF10_S)"
   ]
  },
  {
   "cell_type": "code",
   "execution_count": 7,
   "metadata": {},
   "outputs": [],
   "source": [
    "# Aligned by Multiple sequence alignmnet tool_MUSCLE\n",
    "# muscle -in A_Np_seq_US_CoV.fas -out align_Np_seq_US_CoV.fa\n",
    "# also did Sp, Ep, Mgp, ORF1ab, ORF3a, ORF6, ORF7a, ORF7b, ORF8\n",
    "# Constructing phylogenic tree using those aligned data"
   ]
  },
  {
   "cell_type": "code",
   "execution_count": 8,
   "metadata": {},
   "outputs": [],
   "source": [
    "# Merging all aligned sequences\n",
    "O1ab_aln = './aln_O1ab_s_A_CoV_fa.fas'\n",
    "O3a_aln = './aln_O3a_s_A_CoV.fa'\n",
    "O6_aln = './aln_O6_s_A_CoV.fa'\n",
    "O7a_aln = './aln_O7a_s_A_CoV.fa'\n",
    "O7b_aln = './aln_O7b_s_A_CoV.fa'\n",
    "O8_aln = './aln_O8_s_A_CoV.fa'\n",
    "N_aln = './aln_N_s_A_CoV.fa'\n",
    "S_aln = './aln_S_s_A_CoV.fa'\n",
    "E_aln = './aln_E_s_A_CoV.fa'\n",
    "M_aln = './aln_M_s_A_CoV.fa'\n",
    "\n",
    "\n",
    "# For collect mutation at dictionary\n",
    "def M_collect(aln_file,ref_d,query):\n",
    "    mutation_d = dict()\n",
    "    aln_dict = read_fasta(aln_file)\n",
    "    for Id_a, Seq_a in aln_dict.items():\n",
    "        if Seq_a in ref_d[query]:\n",
    "            pass\n",
    "        else:\n",
    "            mutation_d[Id_a] = Seq_a\n",
    "    return mutation_d\n",
    "\n",
    "M_O1ab_1 = M_collect(O1ab_aln,ref_ORF1ab_cDNA,'O1ab')\n",
    "M_O3a_1 = M_collect(O3a_aln,ref_ORF3a_cDNA,'O3a')\n",
    "M_O6_1 =M_collect(O6_aln,ref_ORF6_cDNA,'O6')\n",
    "M_O7a_1 =M_collect(O7a_aln,ref_ORF7a_cDNA,'O7a')\n",
    "M_O7b_1=M_collect(O7b_aln,ref_ORF7b_cDNA,'O7b')\n",
    "M_O8_1=M_collect(O8_aln,ref_ORF8_cDNA,'O8')\n",
    "M_N_1 =M_collect(N_aln,ref_N_cDNA,'N')\n",
    "M_S_1 =M_collect(S_aln,ref_S_cDNA,'S')\n",
    "M_E_1 =M_collect(E_aln,ref_E_cDNA,'E')\n",
    "M_M_1 =M_collect(M_aln,ref_Mgp_cDNA,'M')   \n",
    "\n"
   ]
  },
  {
   "cell_type": "code",
   "execution_count": 9,
   "metadata": {},
   "outputs": [
    {
     "name": "stdout",
     "output_type": "stream",
     "text": [
      "458\n",
      "87\n",
      "18\n",
      "9\n",
      "6\n",
      "116\n",
      "49\n",
      "192\n",
      "1\n",
      "17\n"
     ]
    }
   ],
   "source": [
    "# Just for checking above function works well. \n",
    "def cnt_num(sample_dict):\n",
    "    k = list(sample_dict.keys())\n",
    "    print(len(k))\n",
    "\n",
    "cnt_num(M_O1ab_1)\n",
    "cnt_num(M_O3a_1)\n",
    "cnt_num(M_O6_1)\n",
    "cnt_num(M_O7a_1)\n",
    "cnt_num(M_O7b_1)\n",
    "cnt_num(M_O8_1)\n",
    "cnt_num(M_N_1)\n",
    "cnt_num(M_S_1)\n",
    "cnt_num(M_E_1)\n",
    "cnt_num(M_M_1)"
   ]
  },
  {
   "cell_type": "code",
   "execution_count": 10,
   "metadata": {},
   "outputs": [],
   "source": [
    "# At each region of ORF, classifing once more based on month \n",
    "date_O1ab = dict()\n",
    "O1ab_202001 = []\n",
    "O1ab_202002 = []\n",
    "O1ab_202003 = []\n",
    "O1ab_202004 = []\n",
    "O1ab_201912 = []\n",
    "    \n",
    "for i,y in M_O1ab_1.items():\n",
    "    mon = i.split('|')[2].split('-')[1]\n",
    "    if '01' == mon:\n",
    "        O1ab_202001.append(i)\n",
    "    elif '02' == mon:\n",
    "        O1ab_202002.append(i)\n",
    "    elif '03' == mon:\n",
    "        O1ab_202003.append(i)\n",
    "    elif '04' ==mon:\n",
    "        O1ab_202004.append(i)\n",
    "    else:\n",
    "        O1ab_201912.append(i)\n",
    "    \n",
    "date_O1ab['O1ab_D202001'] = O1ab_202001\n",
    "date_O1ab['O1ab_D202002'] = O1ab_202002\n",
    "date_O1ab['O1ab_D202003'] = O1ab_202003\n",
    "date_O1ab['O1ab_D202004'] = O1ab_202004\n",
    "\n",
    "\n",
    "date_O3a = dict()\n",
    "O3a_202001 = []\n",
    "O3a_202002 = []\n",
    "O3a_202003 = []\n",
    "O3a_202004 = []\n",
    "O3a_201912 = []\n",
    "    \n",
    "for i,y in M_O3a_1.items():\n",
    "    mon = i.split('|')[2].split('-')[1]\n",
    "    if '01' == mon:\n",
    "        O3a_202001.append(i)\n",
    "    elif '02' == mon:\n",
    "        O3a_202002.append(i)\n",
    "    elif '03' == mon:\n",
    "        O3a_202003.append(i)\n",
    "    elif '04' ==mon:\n",
    "        O3a_202004.append(i)\n",
    "    else:\n",
    "        O3a_201912.append(i)\n",
    "    \n",
    "date_O3a['O3a_D202001'] = O3a_202001\n",
    "date_O3a['O3a_D202002'] = O3a_202002\n",
    "date_O3a['O3a_D202003'] = O3a_202003\n",
    "date_O3a['O3a_D202004'] = O3a_202004\n",
    "\n",
    "\n",
    "date_O6 = dict()\n",
    "O6_202001 = []\n",
    "O6_202002 = []\n",
    "O6_202003 = []\n",
    "O6_202004 = []\n",
    "O6_201912 = []\n",
    "    \n",
    "for i,y in M_O6_1.items():\n",
    "    mon = i.split('|')[2].split('-')[1]\n",
    "    if '01' == mon:\n",
    "        O6_202001.append(i)\n",
    "    elif '02' == mon:\n",
    "        O6_202002.append(i)\n",
    "    elif '03' == mon:\n",
    "        O6_202003.append(i)\n",
    "    elif '04' ==mon:\n",
    "        O6_202004.append(i)\n",
    "    else:\n",
    "        O6_201912.append(i)\n",
    "    \n",
    "date_O6['O6_D202001'] = O6_202001\n",
    "date_O6['O6_D202002'] = O6_202002\n",
    "date_O6['O6_D202003'] = O6_202003\n",
    "date_O6['O6_D202004'] = O6_202004\n",
    "\n",
    "\n",
    "date_O7a = dict()\n",
    "O7a_202001 = []\n",
    "O7a_202002 = []\n",
    "O7a_202003 = []\n",
    "O7a_202004 = []\n",
    "O7a_201912 = []\n",
    "    \n",
    "for i,y in M_O7a_1.items():\n",
    "    mon = i.split('|')[2].split('-')[1]\n",
    "    if '01' == mon:\n",
    "        O7a_202001.append(i)\n",
    "    elif '02' == mon:\n",
    "        O7a_202002.append(i)\n",
    "    elif '03' == mon:\n",
    "        O7a_202003.append(i)\n",
    "    elif '04' ==mon:\n",
    "        O7a_202004.append(i)\n",
    "    else:\n",
    "        O7a_201912.append(i)\n",
    "    \n",
    "date_O7a['O7a_D202001'] = O7a_202001\n",
    "date_O7a['O7a_D202002'] = O7a_202002\n",
    "date_O7a['O7a_D202003'] = O7a_202003\n",
    "date_O7a['O7a_D202004'] = O7a_202004\n",
    "\n",
    "\n",
    "date_O7b = dict()\n",
    "O7b_202001 = []\n",
    "O7b_202002 = []\n",
    "O7b_202003 = []\n",
    "O7b_202004 = []\n",
    "O7b_201912 = []\n",
    "    \n",
    "for i,y in M_O7b_1.items():\n",
    "    mon = i.split('|')[2].split('-')[1]\n",
    "    if '01' == mon:\n",
    "        O7b_202001.append(i)\n",
    "    elif '02' == mon:\n",
    "        O7b_202002.append(i)\n",
    "    elif '03' == mon:\n",
    "        O7b_202003.append(i)\n",
    "    elif '04' ==mon:\n",
    "        O7b_202004.append(i)\n",
    "    else:\n",
    "        O7b_201912.append(i)\n",
    "    \n",
    "date_O7b['O7b_D202001'] = O7b_202001\n",
    "date_O7b['O7b_D202002'] = O7b_202002\n",
    "date_O7b['O7b_D202003'] = O7b_202003\n",
    "date_O7b['O7b_D202004'] = O7b_202004\n",
    "\n",
    "\n",
    "date_O8 = dict()\n",
    "O8_202001 = []\n",
    "O8_202002 = []\n",
    "O8_202003 = []\n",
    "O8_202004 = []\n",
    "O8_201912 = []\n",
    "    \n",
    "for i,y in M_O8_1.items():\n",
    "    mon = i.split('|')[2].split('-')[1]\n",
    "    if '01' == mon:\n",
    "        O8_202001.append(i)\n",
    "    elif '02' == mon:\n",
    "        O8_202002.append(i)\n",
    "    elif '03' == mon:\n",
    "        O8_202003.append(i)\n",
    "    elif '04' ==mon:\n",
    "        O8_202004.append(i)\n",
    "    else:\n",
    "        O8_201912.append(i)\n",
    "    \n",
    "date_O8['O8_D202001'] = O8_202001\n",
    "date_O8['O8_D202002'] = O8_202002\n",
    "date_O8['O8_D202003'] = O8_202003\n",
    "date_O8['O8_D202004'] = O8_202004\n",
    "\n",
    "\n",
    "date_N = dict()\n",
    "N_202001 = []\n",
    "N_202002 = []\n",
    "N_202003 = []\n",
    "N_202004 = []\n",
    "N_201912 = []\n",
    "    \n",
    "for i,y in M_N_1.items():\n",
    "    mon = i.split('|')[2].split('-')[1]\n",
    "    if '01' == mon:\n",
    "        N_202001.append(i)\n",
    "    elif '02' == mon:\n",
    "        N_202002.append(i)\n",
    "    elif '03' == mon:\n",
    "        N_202003.append(i)\n",
    "    elif '04' ==mon:\n",
    "        N_202004.append(i)\n",
    "    else:\n",
    "        N_201912.append(i)\n",
    "    \n",
    "date_N['N_D202001'] = N_202001\n",
    "date_N['N_D202002'] = N_202002\n",
    "date_N['N_D202003'] = N_202003\n",
    "date_N['N_D202004'] = N_202004\n",
    "\n",
    "\n",
    "date_S = dict()\n",
    "S_202001 = []\n",
    "S_202002 = []\n",
    "S_202003 = []\n",
    "S_202004 = []\n",
    "S_201912 = []\n",
    "    \n",
    "for i,y in M_S_1.items():\n",
    "    mon = i.split('|')[2].split('-')[1]\n",
    "    if '01' == mon:\n",
    "        S_202001.append(i)\n",
    "    elif '02' == mon:\n",
    "        S_202002.append(i)\n",
    "    elif '03' == mon:\n",
    "        S_202003.append(i)\n",
    "    elif '04' ==mon:\n",
    "        S_202004.append(i)\n",
    "    else:\n",
    "        S_201912.append(i)\n",
    "    \n",
    "date_S['S_D202001'] = S_202001\n",
    "date_S['S_D202002'] = S_202002\n",
    "date_S['S_D202003'] = S_202003\n",
    "date_S['S_D202004'] = S_202004\n",
    "\n",
    "\n",
    "date_E= dict()\n",
    "E_202001 = []\n",
    "E_202002 = []\n",
    "E_202003 = []\n",
    "E_202004 = []\n",
    "E_201912 = []\n",
    "    \n",
    "for i,y in M_E_1.items():\n",
    "    mon = i.split('|')[2].split('-')[1]\n",
    "    if '01' == mon:\n",
    "        E_202001.append(i)\n",
    "    elif '02' == mon:\n",
    "        E_202002.append(i)\n",
    "    elif '03' == mon:\n",
    "        E_202003.append(i)\n",
    "    elif '04' ==mon:\n",
    "        E_202004.append(i)\n",
    "    else:\n",
    "        E_201912.append(i)\n",
    "    \n",
    "date_E['E_D202001'] = E_202001\n",
    "date_E['E_D202002'] = E_202002\n",
    "date_E['E_D202003'] = E_202003\n",
    "date_E['E_D202004'] = E_202004\n",
    "\n",
    "\n",
    "date_M = dict()\n",
    "M_202001 = []\n",
    "M_202002 = []\n",
    "M_202003 = []\n",
    "M_202004 = []\n",
    "M_201912 = []\n",
    "    \n",
    "for i,y in M_M_1.items():\n",
    "    mon = i.split('|')[2].split('-')[1]\n",
    "    if '01' == mon:\n",
    "        M_202001.append(i)\n",
    "    elif '02' == mon:\n",
    "        M_202002.append(i)\n",
    "    elif '03' == mon:\n",
    "        M_202003.append(i)\n",
    "    elif '04' ==mon:\n",
    "        M_202004.append(i)\n",
    "    else:\n",
    "        M_201912.append(i)\n",
    "    \n",
    "date_M['M_D202001'] = M_202001\n",
    "date_M['M_D202002'] = M_202002\n",
    "date_M['M_D202003'] = M_202003\n",
    "date_M['M_D202004'] = M_202004\n",
    "\n",
    "\n"
   ]
  },
  {
   "cell_type": "code",
   "execution_count": 11,
   "metadata": {},
   "outputs": [],
   "source": [
    "#print(len(date_O1ab['O1ab_D202002']))"
   ]
  },
  {
   "cell_type": "code",
   "execution_count": 12,
   "metadata": {},
   "outputs": [],
   "source": [
    "#print(date_O1ab)"
   ]
  },
  {
   "cell_type": "code",
   "execution_count": 13,
   "metadata": {},
   "outputs": [],
   "source": [
    "# The function of calculating how mant mutations have happened  \n",
    "def cal_m_rate(date_dict):\n",
    "    for date, name in date_dict.items():\n",
    "        if '202001' in date:\n",
    "            cnt_1 = len(name)\n",
    "            cal01 = cnt_1/1\n",
    "        elif '202002' in date:\n",
    "            cnt_2 = len(name)\n",
    "            cal02 = cnt_2/2\n",
    "        elif '202003' in date:\n",
    "            cnt_3 = len(name)\n",
    "            cal03 = cnt_3/3\n",
    "        elif '202004' in date:\n",
    "            cnt_4 = len(name)\n",
    "            cal04 = cnt_4/4\n",
    "    print('19-01:',cal01,'per mon','\\n19-02:',cal02,'per mon','\\n19-03:',cal03,'per mon','\\n19-04:',cal04,'per month')\n",
    "    return"
   ]
  },
  {
   "cell_type": "code",
   "execution_count": 14,
   "metadata": {},
   "outputs": [
    {
     "name": "stdout",
     "output_type": "stream",
     "text": [
      "19-01: 31.0 per mon \n",
      "19-02: 14.0 per mon \n",
      "19-03: 129.33333333333334 per mon \n",
      "19-04: 0.75 per month\n"
     ]
    }
   ],
   "source": [
    "cal_m_rate(date_O1ab)"
   ]
  },
  {
   "cell_type": "code",
   "execution_count": 15,
   "metadata": {},
   "outputs": [
    {
     "name": "stdout",
     "output_type": "stream",
     "text": [
      "19-01: 1.0 per mon \n",
      "19-02: 0.5 per mon \n",
      "19-03: 28.333333333333332 per mon \n",
      "19-04: 0.0 per month\n"
     ]
    }
   ],
   "source": [
    "cal_m_rate(date_O3a)"
   ]
  },
  {
   "cell_type": "code",
   "execution_count": 16,
   "metadata": {},
   "outputs": [
    {
     "name": "stdout",
     "output_type": "stream",
     "text": [
      "19-01: 1.0 per mon \n",
      "19-02: 0.0 per mon \n",
      "19-03: 5.666666666666667 per mon \n",
      "19-04: 0.0 per month\n"
     ]
    }
   ],
   "source": [
    "cal_m_rate(date_O6)"
   ]
  },
  {
   "cell_type": "code",
   "execution_count": 17,
   "metadata": {},
   "outputs": [
    {
     "name": "stdout",
     "output_type": "stream",
     "text": [
      "19-01: 0.0 per mon \n",
      "19-02: 0.0 per mon \n",
      "19-03: 3.0 per mon \n",
      "19-04: 0.0 per month\n"
     ]
    }
   ],
   "source": [
    "cal_m_rate(date_O7a)"
   ]
  },
  {
   "cell_type": "code",
   "execution_count": 18,
   "metadata": {},
   "outputs": [
    {
     "name": "stdout",
     "output_type": "stream",
     "text": [
      "19-01: 0.0 per mon \n",
      "19-02: 0.0 per mon \n",
      "19-03: 2.0 per mon \n",
      "19-04: 0.0 per month\n"
     ]
    }
   ],
   "source": [
    "cal_m_rate(date_O7b)"
   ]
  },
  {
   "cell_type": "code",
   "execution_count": 19,
   "metadata": {},
   "outputs": [
    {
     "name": "stdout",
     "output_type": "stream",
     "text": [
      "19-01: 0.0 per mon \n",
      "19-02: 2.5 per mon \n",
      "19-03: 37.0 per mon \n",
      "19-04: 0.0 per month\n"
     ]
    }
   ],
   "source": [
    "cal_m_rate(date_O8)"
   ]
  },
  {
   "cell_type": "code",
   "execution_count": 20,
   "metadata": {},
   "outputs": [
    {
     "name": "stdout",
     "output_type": "stream",
     "text": [
      "19-01: 2.0 per mon \n",
      "19-02: 4.0 per mon \n",
      "19-03: 13.0 per mon \n",
      "19-04: 0.0 per month\n"
     ]
    }
   ],
   "source": [
    "cal_m_rate(date_N)"
   ]
  },
  {
   "cell_type": "code",
   "execution_count": 21,
   "metadata": {},
   "outputs": [
    {
     "name": "stdout",
     "output_type": "stream",
     "text": [
      "19-01: 6.0 per mon \n",
      "19-02: 1.5 per mon \n",
      "19-03: 60.0 per mon \n",
      "19-04: 0.25 per month\n"
     ]
    }
   ],
   "source": [
    "cal_m_rate(date_S)"
   ]
  },
  {
   "cell_type": "code",
   "execution_count": 22,
   "metadata": {},
   "outputs": [
    {
     "name": "stdout",
     "output_type": "stream",
     "text": [
      "19-01: 0.0 per mon \n",
      "19-02: 0.0 per mon \n",
      "19-03: 0.3333333333333333 per mon \n",
      "19-04: 0.0 per month\n"
     ]
    }
   ],
   "source": [
    "cal_m_rate(date_E)"
   ]
  },
  {
   "cell_type": "code",
   "execution_count": 23,
   "metadata": {},
   "outputs": [
    {
     "name": "stdout",
     "output_type": "stream",
     "text": [
      "19-01: 0.0 per mon \n",
      "19-02: 0.0 per mon \n",
      "19-03: 5.0 per mon \n",
      "19-04: 0.5 per month\n"
     ]
    }
   ],
   "source": [
    "cal_m_rate(date_M)"
   ]
  },
  {
   "cell_type": "code",
   "execution_count": null,
   "metadata": {},
   "outputs": [],
   "source": []
  }
 ],
 "metadata": {
  "kernelspec": {
   "display_name": "Python 3",
   "language": "python",
   "name": "python3"
  },
  "language_info": {
   "codemirror_mode": {
    "name": "ipython",
    "version": 3
   },
   "file_extension": ".py",
   "mimetype": "text/x-python",
   "name": "python",
   "nbconvert_exporter": "python",
   "pygments_lexer": "ipython3",
   "version": "3.7.6"
  }
 },
 "nbformat": 4,
 "nbformat_minor": 4
}
